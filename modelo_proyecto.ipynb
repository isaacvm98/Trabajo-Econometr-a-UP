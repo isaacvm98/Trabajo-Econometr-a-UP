{
 "cells": [
  {
   "cell_type": "code",
   "execution_count": 1,
   "metadata": {},
   "outputs": [],
   "source": [
    "import pandas as pd\n",
    "import matplotlib.pyplot as plt \n",
    "import numpy as np\n",
    "import plotly.graph_objects  as go\n",
    "import seaborn as sns"
   ]
  },
  {
   "cell_type": "code",
   "execution_count": 2,
   "metadata": {},
   "outputs": [],
   "source": [
    "df=pd.read_excel(r\"C:\\Users\\isaac\\Documentos\\Eco\\6to\\Econometría II\\delanteros.xls\")"
   ]
  },
  {
   "cell_type": "code",
   "execution_count": 3,
   "metadata": {},
   "outputs": [
    {
     "data": {
      "text/html": [
       "<div>\n",
       "<style scoped>\n",
       "    .dataframe tbody tr th:only-of-type {\n",
       "        vertical-align: middle;\n",
       "    }\n",
       "\n",
       "    .dataframe tbody tr th {\n",
       "        vertical-align: top;\n",
       "    }\n",
       "\n",
       "    .dataframe thead th {\n",
       "        text-align: right;\n",
       "    }\n",
       "</style>\n",
       "<table border=\"1\" class=\"dataframe\">\n",
       "  <thead>\n",
       "    <tr style=\"text-align: right;\">\n",
       "      <th></th>\n",
       "      <th>nombre</th>\n",
       "      <th>edad</th>\n",
       "      <th>posicion</th>\n",
       "      <th>valor</th>\n",
       "      <th>valor_06/18</th>\n",
       "      <th>jugo_UCL</th>\n",
       "      <th>pais</th>\n",
       "      <th>aumento_valor</th>\n",
       "      <th>comunitario</th>\n",
       "      <th>goles</th>\n",
       "    </tr>\n",
       "  </thead>\n",
       "  <tbody>\n",
       "    <tr>\n",
       "      <td>0</td>\n",
       "      <td>kylian-mbappe</td>\n",
       "      <td>21</td>\n",
       "      <td>Delantero - Delantero centro</td>\n",
       "      <td>180.0</td>\n",
       "      <td>120</td>\n",
       "      <td>1</td>\n",
       "      <td>francia</td>\n",
       "      <td>1</td>\n",
       "      <td>1</td>\n",
       "      <td>18</td>\n",
       "    </tr>\n",
       "    <tr>\n",
       "      <td>1</td>\n",
       "      <td>raheem-sterling</td>\n",
       "      <td>25</td>\n",
       "      <td>Delantero - Extremo izquierdo</td>\n",
       "      <td>128.0</td>\n",
       "      <td>90</td>\n",
       "      <td>1</td>\n",
       "      <td>inglaterra</td>\n",
       "      <td>1</td>\n",
       "      <td>1</td>\n",
       "      <td>11</td>\n",
       "    </tr>\n",
       "    <tr>\n",
       "      <td>2</td>\n",
       "      <td>neymar</td>\n",
       "      <td>28</td>\n",
       "      <td>Delantero - Extremo izquierdo</td>\n",
       "      <td>128.0</td>\n",
       "      <td>180</td>\n",
       "      <td>1</td>\n",
       "      <td>brasil</td>\n",
       "      <td>0</td>\n",
       "      <td>0</td>\n",
       "      <td>13</td>\n",
       "    </tr>\n",
       "    <tr>\n",
       "      <td>3</td>\n",
       "      <td>sadio-mane</td>\n",
       "      <td>28</td>\n",
       "      <td>Delantero - Extremo izquierdo</td>\n",
       "      <td>120.0</td>\n",
       "      <td>70</td>\n",
       "      <td>1</td>\n",
       "      <td>senegal</td>\n",
       "      <td>1</td>\n",
       "      <td>0</td>\n",
       "      <td>14</td>\n",
       "    </tr>\n",
       "    <tr>\n",
       "      <td>4</td>\n",
       "      <td>mohamed-salah</td>\n",
       "      <td>27</td>\n",
       "      <td>Delantero - Extremo derecho</td>\n",
       "      <td>120.0</td>\n",
       "      <td>150</td>\n",
       "      <td>1</td>\n",
       "      <td>egipto</td>\n",
       "      <td>0</td>\n",
       "      <td>0</td>\n",
       "      <td>16</td>\n",
       "    </tr>\n",
       "  </tbody>\n",
       "</table>\n",
       "</div>"
      ],
      "text/plain": [
       "            nombre  edad                       posicion  valor  valor_06/18  \\\n",
       "0    kylian-mbappe    21   Delantero - Delantero centro  180.0          120   \n",
       "1  raheem-sterling    25  Delantero - Extremo izquierdo  128.0           90   \n",
       "2           neymar    28  Delantero - Extremo izquierdo  128.0          180   \n",
       "3       sadio-mane    28  Delantero - Extremo izquierdo  120.0           70   \n",
       "4    mohamed-salah    27    Delantero - Extremo derecho  120.0          150   \n",
       "\n",
       "   jugo_UCL        pais  aumento_valor  comunitario  goles  \n",
       "0         1     francia              1            1     18  \n",
       "1         1  inglaterra              1            1     11  \n",
       "2         1      brasil              0            0     13  \n",
       "3         1     senegal              1            0     14  \n",
       "4         1      egipto              0            0     16  "
      ]
     },
     "execution_count": 3,
     "metadata": {},
     "output_type": "execute_result"
    }
   ],
   "source": [
    "df.head()"
   ]
  },
  {
   "cell_type": "code",
   "execution_count": 4,
   "metadata": {},
   "outputs": [
    {
     "data": {
      "text/html": [
       "<div>\n",
       "<style scoped>\n",
       "    .dataframe tbody tr th:only-of-type {\n",
       "        vertical-align: middle;\n",
       "    }\n",
       "\n",
       "    .dataframe tbody tr th {\n",
       "        vertical-align: top;\n",
       "    }\n",
       "\n",
       "    .dataframe thead th {\n",
       "        text-align: right;\n",
       "    }\n",
       "</style>\n",
       "<table border=\"1\" class=\"dataframe\">\n",
       "  <thead>\n",
       "    <tr style=\"text-align: right;\">\n",
       "      <th></th>\n",
       "      <th>edad</th>\n",
       "      <th>valor</th>\n",
       "      <th>valor_06/18</th>\n",
       "      <th>jugo_UCL</th>\n",
       "      <th>aumento_valor</th>\n",
       "      <th>comunitario</th>\n",
       "      <th>goles</th>\n",
       "    </tr>\n",
       "  </thead>\n",
       "  <tbody>\n",
       "    <tr>\n",
       "      <td>count</td>\n",
       "      <td>90.000000</td>\n",
       "      <td>90.000000</td>\n",
       "      <td>90.000000</td>\n",
       "      <td>90.000000</td>\n",
       "      <td>90.000000</td>\n",
       "      <td>90.000000</td>\n",
       "      <td>90.000000</td>\n",
       "    </tr>\n",
       "    <tr>\n",
       "      <td>mean</td>\n",
       "      <td>25.211111</td>\n",
       "      <td>51.522222</td>\n",
       "      <td>49.455556</td>\n",
       "      <td>0.700000</td>\n",
       "      <td>0.566667</td>\n",
       "      <td>0.566667</td>\n",
       "      <td>8.233333</td>\n",
       "    </tr>\n",
       "    <tr>\n",
       "      <td>std</td>\n",
       "      <td>3.770061</td>\n",
       "      <td>29.341453</td>\n",
       "      <td>40.420309</td>\n",
       "      <td>0.460825</td>\n",
       "      <td>0.498312</td>\n",
       "      <td>0.498312</td>\n",
       "      <td>5.943649</td>\n",
       "    </tr>\n",
       "    <tr>\n",
       "      <td>min</td>\n",
       "      <td>17.000000</td>\n",
       "      <td>27.000000</td>\n",
       "      <td>1.000000</td>\n",
       "      <td>0.000000</td>\n",
       "      <td>0.000000</td>\n",
       "      <td>0.000000</td>\n",
       "      <td>0.000000</td>\n",
       "    </tr>\n",
       "    <tr>\n",
       "      <td>25%</td>\n",
       "      <td>22.250000</td>\n",
       "      <td>32.000000</td>\n",
       "      <td>20.000000</td>\n",
       "      <td>0.000000</td>\n",
       "      <td>0.000000</td>\n",
       "      <td>0.000000</td>\n",
       "      <td>4.000000</td>\n",
       "    </tr>\n",
       "    <tr>\n",
       "      <td>50%</td>\n",
       "      <td>25.000000</td>\n",
       "      <td>40.000000</td>\n",
       "      <td>40.000000</td>\n",
       "      <td>1.000000</td>\n",
       "      <td>1.000000</td>\n",
       "      <td>1.000000</td>\n",
       "      <td>7.000000</td>\n",
       "    </tr>\n",
       "    <tr>\n",
       "      <td>75%</td>\n",
       "      <td>28.000000</td>\n",
       "      <td>60.000000</td>\n",
       "      <td>73.750000</td>\n",
       "      <td>1.000000</td>\n",
       "      <td>1.000000</td>\n",
       "      <td>1.000000</td>\n",
       "      <td>11.000000</td>\n",
       "    </tr>\n",
       "    <tr>\n",
       "      <td>max</td>\n",
       "      <td>35.000000</td>\n",
       "      <td>180.000000</td>\n",
       "      <td>180.000000</td>\n",
       "      <td>1.000000</td>\n",
       "      <td>1.000000</td>\n",
       "      <td>1.000000</td>\n",
       "      <td>27.000000</td>\n",
       "    </tr>\n",
       "  </tbody>\n",
       "</table>\n",
       "</div>"
      ],
      "text/plain": [
       "            edad       valor  valor_06/18   jugo_UCL  aumento_valor  \\\n",
       "count  90.000000   90.000000    90.000000  90.000000      90.000000   \n",
       "mean   25.211111   51.522222    49.455556   0.700000       0.566667   \n",
       "std     3.770061   29.341453    40.420309   0.460825       0.498312   \n",
       "min    17.000000   27.000000     1.000000   0.000000       0.000000   \n",
       "25%    22.250000   32.000000    20.000000   0.000000       0.000000   \n",
       "50%    25.000000   40.000000    40.000000   1.000000       1.000000   \n",
       "75%    28.000000   60.000000    73.750000   1.000000       1.000000   \n",
       "max    35.000000  180.000000   180.000000   1.000000       1.000000   \n",
       "\n",
       "       comunitario      goles  \n",
       "count    90.000000  90.000000  \n",
       "mean      0.566667   8.233333  \n",
       "std       0.498312   5.943649  \n",
       "min       0.000000   0.000000  \n",
       "25%       0.000000   4.000000  \n",
       "50%       1.000000   7.000000  \n",
       "75%       1.000000  11.000000  \n",
       "max       1.000000  27.000000  "
      ]
     },
     "execution_count": 4,
     "metadata": {},
     "output_type": "execute_result"
    }
   ],
   "source": [
    "df.describe()"
   ]
  },
  {
   "cell_type": "code",
   "execution_count": 5,
   "metadata": {},
   "outputs": [
    {
     "data": {
      "text/html": [
       "<div>\n",
       "<style scoped>\n",
       "    .dataframe tbody tr th:only-of-type {\n",
       "        vertical-align: middle;\n",
       "    }\n",
       "\n",
       "    .dataframe tbody tr th {\n",
       "        vertical-align: top;\n",
       "    }\n",
       "\n",
       "    .dataframe thead th {\n",
       "        text-align: right;\n",
       "    }\n",
       "</style>\n",
       "<table border=\"1\" class=\"dataframe\">\n",
       "  <thead>\n",
       "    <tr style=\"text-align: right;\">\n",
       "      <th></th>\n",
       "      <th>nombre</th>\n",
       "      <th>edad</th>\n",
       "      <th>posicion</th>\n",
       "      <th>valor</th>\n",
       "      <th>valor_06/18</th>\n",
       "      <th>jugo_UCL</th>\n",
       "      <th>pais</th>\n",
       "      <th>comunitario</th>\n",
       "      <th>goles</th>\n",
       "    </tr>\n",
       "    <tr>\n",
       "      <th>aumento_valor</th>\n",
       "      <th></th>\n",
       "      <th></th>\n",
       "      <th></th>\n",
       "      <th></th>\n",
       "      <th></th>\n",
       "      <th></th>\n",
       "      <th></th>\n",
       "      <th></th>\n",
       "      <th></th>\n",
       "    </tr>\n",
       "  </thead>\n",
       "  <tbody>\n",
       "    <tr>\n",
       "      <td>0</td>\n",
       "      <td>39</td>\n",
       "      <td>39</td>\n",
       "      <td>39</td>\n",
       "      <td>39</td>\n",
       "      <td>39</td>\n",
       "      <td>39</td>\n",
       "      <td>39</td>\n",
       "      <td>39</td>\n",
       "      <td>39</td>\n",
       "    </tr>\n",
       "    <tr>\n",
       "      <td>1</td>\n",
       "      <td>51</td>\n",
       "      <td>51</td>\n",
       "      <td>51</td>\n",
       "      <td>51</td>\n",
       "      <td>51</td>\n",
       "      <td>51</td>\n",
       "      <td>51</td>\n",
       "      <td>51</td>\n",
       "      <td>51</td>\n",
       "    </tr>\n",
       "  </tbody>\n",
       "</table>\n",
       "</div>"
      ],
      "text/plain": [
       "               nombre  edad  posicion  valor  valor_06/18  jugo_UCL  pais  \\\n",
       "aumento_valor                                                               \n",
       "0                  39    39        39     39           39        39    39   \n",
       "1                  51    51        51     51           51        51    51   \n",
       "\n",
       "               comunitario  goles  \n",
       "aumento_valor                      \n",
       "0                       39     39  \n",
       "1                       51     51  "
      ]
     },
     "execution_count": 5,
     "metadata": {},
     "output_type": "execute_result"
    }
   ],
   "source": [
    "df.groupby(\"aumento_valor\").count()"
   ]
  },
  {
   "cell_type": "code",
   "execution_count": 6,
   "metadata": {},
   "outputs": [
    {
     "data": {
      "text/html": [
       "<div>\n",
       "<style scoped>\n",
       "    .dataframe tbody tr th:only-of-type {\n",
       "        vertical-align: middle;\n",
       "    }\n",
       "\n",
       "    .dataframe tbody tr th {\n",
       "        vertical-align: top;\n",
       "    }\n",
       "\n",
       "    .dataframe thead th {\n",
       "        text-align: right;\n",
       "    }\n",
       "</style>\n",
       "<table border=\"1\" class=\"dataframe\">\n",
       "  <thead>\n",
       "    <tr style=\"text-align: right;\">\n",
       "      <th></th>\n",
       "      <th>edad</th>\n",
       "      <th>valor</th>\n",
       "      <th>valor_06/18</th>\n",
       "      <th>jugo_UCL</th>\n",
       "      <th>comunitario</th>\n",
       "      <th>goles</th>\n",
       "    </tr>\n",
       "    <tr>\n",
       "      <th>aumento_valor</th>\n",
       "      <th></th>\n",
       "      <th></th>\n",
       "      <th></th>\n",
       "      <th></th>\n",
       "      <th></th>\n",
       "      <th></th>\n",
       "    </tr>\n",
       "  </thead>\n",
       "  <tbody>\n",
       "    <tr>\n",
       "      <td>0</td>\n",
       "      <td>27.435897</td>\n",
       "      <td>56.923077</td>\n",
       "      <td>79.051282</td>\n",
       "      <td>0.794872</td>\n",
       "      <td>0.615385</td>\n",
       "      <td>9.230769</td>\n",
       "    </tr>\n",
       "    <tr>\n",
       "      <td>1</td>\n",
       "      <td>23.509804</td>\n",
       "      <td>47.392157</td>\n",
       "      <td>26.823529</td>\n",
       "      <td>0.627451</td>\n",
       "      <td>0.529412</td>\n",
       "      <td>7.470588</td>\n",
       "    </tr>\n",
       "  </tbody>\n",
       "</table>\n",
       "</div>"
      ],
      "text/plain": [
       "                    edad      valor  valor_06/18  jugo_UCL  comunitario  \\\n",
       "aumento_valor                                                             \n",
       "0              27.435897  56.923077    79.051282  0.794872     0.615385   \n",
       "1              23.509804  47.392157    26.823529  0.627451     0.529412   \n",
       "\n",
       "                  goles  \n",
       "aumento_valor            \n",
       "0              9.230769  \n",
       "1              7.470588  "
      ]
     },
     "execution_count": 6,
     "metadata": {},
     "output_type": "execute_result"
    }
   ],
   "source": [
    "df.groupby(\"aumento_valor\").mean()"
   ]
  },
  {
   "cell_type": "code",
   "execution_count": 7,
   "metadata": {},
   "outputs": [
    {
     "data": {
      "text/html": [
       "<div>\n",
       "<style scoped>\n",
       "    .dataframe tbody tr th:only-of-type {\n",
       "        vertical-align: middle;\n",
       "    }\n",
       "\n",
       "    .dataframe tbody tr th {\n",
       "        vertical-align: top;\n",
       "    }\n",
       "\n",
       "    .dataframe thead th {\n",
       "        text-align: right;\n",
       "    }\n",
       "</style>\n",
       "<table border=\"1\" class=\"dataframe\">\n",
       "  <thead>\n",
       "    <tr style=\"text-align: right;\">\n",
       "      <th></th>\n",
       "      <th>edad</th>\n",
       "      <th>valor</th>\n",
       "      <th>valor_06/18</th>\n",
       "      <th>jugo_UCL</th>\n",
       "      <th>aumento_valor</th>\n",
       "      <th>comunitario</th>\n",
       "      <th>goles</th>\n",
       "    </tr>\n",
       "  </thead>\n",
       "  <tbody>\n",
       "    <tr>\n",
       "      <td>edad</td>\n",
       "      <td>1.000000</td>\n",
       "      <td>0.042313</td>\n",
       "      <td>0.402976</td>\n",
       "      <td>0.075668</td>\n",
       "      <td>-0.518936</td>\n",
       "      <td>-0.094298</td>\n",
       "      <td>0.385882</td>\n",
       "    </tr>\n",
       "    <tr>\n",
       "      <td>valor</td>\n",
       "      <td>0.042313</td>\n",
       "      <td>1.000000</td>\n",
       "      <td>0.765345</td>\n",
       "      <td>0.224864</td>\n",
       "      <td>-0.161866</td>\n",
       "      <td>-0.005482</td>\n",
       "      <td>0.379935</td>\n",
       "    </tr>\n",
       "    <tr>\n",
       "      <td>valor_06/18</td>\n",
       "      <td>0.402976</td>\n",
       "      <td>0.765345</td>\n",
       "      <td>1.000000</td>\n",
       "      <td>0.310838</td>\n",
       "      <td>-0.643877</td>\n",
       "      <td>-0.033043</td>\n",
       "      <td>0.346765</td>\n",
       "    </tr>\n",
       "    <tr>\n",
       "      <td>jugo_UCL</td>\n",
       "      <td>0.075668</td>\n",
       "      <td>0.224864</td>\n",
       "      <td>0.310838</td>\n",
       "      <td>1.000000</td>\n",
       "      <td>-0.181040</td>\n",
       "      <td>-0.034251</td>\n",
       "      <td>-0.006974</td>\n",
       "    </tr>\n",
       "    <tr>\n",
       "      <td>aumento_valor</td>\n",
       "      <td>-0.518936</td>\n",
       "      <td>-0.161866</td>\n",
       "      <td>-0.643877</td>\n",
       "      <td>-0.181040</td>\n",
       "      <td>1.000000</td>\n",
       "      <td>-0.085973</td>\n",
       "      <td>-0.147572</td>\n",
       "    </tr>\n",
       "    <tr>\n",
       "      <td>comunitario</td>\n",
       "      <td>-0.094298</td>\n",
       "      <td>-0.005482</td>\n",
       "      <td>-0.033043</td>\n",
       "      <td>-0.034251</td>\n",
       "      <td>-0.085973</td>\n",
       "      <td>1.000000</td>\n",
       "      <td>0.011760</td>\n",
       "    </tr>\n",
       "    <tr>\n",
       "      <td>goles</td>\n",
       "      <td>0.385882</td>\n",
       "      <td>0.379935</td>\n",
       "      <td>0.346765</td>\n",
       "      <td>-0.006974</td>\n",
       "      <td>-0.147572</td>\n",
       "      <td>0.011760</td>\n",
       "      <td>1.000000</td>\n",
       "    </tr>\n",
       "  </tbody>\n",
       "</table>\n",
       "</div>"
      ],
      "text/plain": [
       "                   edad     valor  valor_06/18  jugo_UCL  aumento_valor  \\\n",
       "edad           1.000000  0.042313     0.402976  0.075668      -0.518936   \n",
       "valor          0.042313  1.000000     0.765345  0.224864      -0.161866   \n",
       "valor_06/18    0.402976  0.765345     1.000000  0.310838      -0.643877   \n",
       "jugo_UCL       0.075668  0.224864     0.310838  1.000000      -0.181040   \n",
       "aumento_valor -0.518936 -0.161866    -0.643877 -0.181040       1.000000   \n",
       "comunitario   -0.094298 -0.005482    -0.033043 -0.034251      -0.085973   \n",
       "goles          0.385882  0.379935     0.346765 -0.006974      -0.147572   \n",
       "\n",
       "               comunitario     goles  \n",
       "edad             -0.094298  0.385882  \n",
       "valor            -0.005482  0.379935  \n",
       "valor_06/18      -0.033043  0.346765  \n",
       "jugo_UCL         -0.034251 -0.006974  \n",
       "aumento_valor    -0.085973 -0.147572  \n",
       "comunitario       1.000000  0.011760  \n",
       "goles             0.011760  1.000000  "
      ]
     },
     "execution_count": 7,
     "metadata": {},
     "output_type": "execute_result"
    }
   ],
   "source": [
    "df.corr()"
   ]
  },
  {
   "cell_type": "code",
   "execution_count": 8,
   "metadata": {},
   "outputs": [
    {
     "data": {
      "text/html": [
       "<div>\n",
       "<style scoped>\n",
       "    .dataframe tbody tr th:only-of-type {\n",
       "        vertical-align: middle;\n",
       "    }\n",
       "\n",
       "    .dataframe tbody tr th {\n",
       "        vertical-align: top;\n",
       "    }\n",
       "\n",
       "    .dataframe thead th {\n",
       "        text-align: right;\n",
       "    }\n",
       "</style>\n",
       "<table border=\"1\" class=\"dataframe\">\n",
       "  <thead>\n",
       "    <tr style=\"text-align: right;\">\n",
       "      <th></th>\n",
       "      <th>aumento_valor</th>\n",
       "      <th>edad</th>\n",
       "    </tr>\n",
       "  </thead>\n",
       "  <tbody>\n",
       "    <tr>\n",
       "      <td>aumento_valor</td>\n",
       "      <td>1.000000</td>\n",
       "      <td>-0.518936</td>\n",
       "    </tr>\n",
       "    <tr>\n",
       "      <td>edad</td>\n",
       "      <td>-0.518936</td>\n",
       "      <td>1.000000</td>\n",
       "    </tr>\n",
       "  </tbody>\n",
       "</table>\n",
       "</div>"
      ],
      "text/plain": [
       "               aumento_valor      edad\n",
       "aumento_valor       1.000000 -0.518936\n",
       "edad               -0.518936  1.000000"
      ]
     },
     "execution_count": 8,
     "metadata": {},
     "output_type": "execute_result"
    }
   ],
   "source": [
    "df[[\"aumento_valor\",\"edad\"]].corr()"
   ]
  },
  {
   "cell_type": "code",
   "execution_count": 9,
   "metadata": {},
   "outputs": [
    {
     "data": {
      "text/html": [
       "<div>\n",
       "<style scoped>\n",
       "    .dataframe tbody tr th:only-of-type {\n",
       "        vertical-align: middle;\n",
       "    }\n",
       "\n",
       "    .dataframe tbody tr th {\n",
       "        vertical-align: top;\n",
       "    }\n",
       "\n",
       "    .dataframe thead th {\n",
       "        text-align: right;\n",
       "    }\n",
       "</style>\n",
       "<table border=\"1\" class=\"dataframe\">\n",
       "  <thead>\n",
       "    <tr style=\"text-align: right;\">\n",
       "      <th></th>\n",
       "      <th>aumento_valor</th>\n",
       "      <th>goles</th>\n",
       "    </tr>\n",
       "  </thead>\n",
       "  <tbody>\n",
       "    <tr>\n",
       "      <td>aumento_valor</td>\n",
       "      <td>1.000000</td>\n",
       "      <td>-0.147572</td>\n",
       "    </tr>\n",
       "    <tr>\n",
       "      <td>goles</td>\n",
       "      <td>-0.147572</td>\n",
       "      <td>1.000000</td>\n",
       "    </tr>\n",
       "  </tbody>\n",
       "</table>\n",
       "</div>"
      ],
      "text/plain": [
       "               aumento_valor     goles\n",
       "aumento_valor       1.000000 -0.147572\n",
       "goles              -0.147572  1.000000"
      ]
     },
     "execution_count": 9,
     "metadata": {},
     "output_type": "execute_result"
    }
   ],
   "source": [
    "df[[\"aumento_valor\",\"goles\"]].corr()"
   ]
  },
  {
   "cell_type": "code",
   "execution_count": 10,
   "metadata": {},
   "outputs": [
    {
     "data": {
      "text/html": [
       "<div>\n",
       "<style scoped>\n",
       "    .dataframe tbody tr th:only-of-type {\n",
       "        vertical-align: middle;\n",
       "    }\n",
       "\n",
       "    .dataframe tbody tr th {\n",
       "        vertical-align: top;\n",
       "    }\n",
       "\n",
       "    .dataframe thead th {\n",
       "        text-align: right;\n",
       "    }\n",
       "</style>\n",
       "<table border=\"1\" class=\"dataframe\">\n",
       "  <thead>\n",
       "    <tr style=\"text-align: right;\">\n",
       "      <th></th>\n",
       "      <th>aumento_valor</th>\n",
       "      <th>jugo_UCL</th>\n",
       "    </tr>\n",
       "  </thead>\n",
       "  <tbody>\n",
       "    <tr>\n",
       "      <td>aumento_valor</td>\n",
       "      <td>1.00000</td>\n",
       "      <td>-0.18104</td>\n",
       "    </tr>\n",
       "    <tr>\n",
       "      <td>jugo_UCL</td>\n",
       "      <td>-0.18104</td>\n",
       "      <td>1.00000</td>\n",
       "    </tr>\n",
       "  </tbody>\n",
       "</table>\n",
       "</div>"
      ],
      "text/plain": [
       "               aumento_valor  jugo_UCL\n",
       "aumento_valor        1.00000  -0.18104\n",
       "jugo_UCL            -0.18104   1.00000"
      ]
     },
     "execution_count": 10,
     "metadata": {},
     "output_type": "execute_result"
    }
   ],
   "source": [
    "df[[\"aumento_valor\",\"jugo_UCL\"]].corr()"
   ]
  },
  {
   "cell_type": "code",
   "execution_count": 11,
   "metadata": {},
   "outputs": [
    {
     "data": {
      "text/html": [
       "<div>\n",
       "<style scoped>\n",
       "    .dataframe tbody tr th:only-of-type {\n",
       "        vertical-align: middle;\n",
       "    }\n",
       "\n",
       "    .dataframe tbody tr th {\n",
       "        vertical-align: top;\n",
       "    }\n",
       "\n",
       "    .dataframe thead th {\n",
       "        text-align: right;\n",
       "    }\n",
       "</style>\n",
       "<table border=\"1\" class=\"dataframe\">\n",
       "  <thead>\n",
       "    <tr style=\"text-align: right;\">\n",
       "      <th></th>\n",
       "      <th>aumento_valor</th>\n",
       "      <th>comunitario</th>\n",
       "    </tr>\n",
       "  </thead>\n",
       "  <tbody>\n",
       "    <tr>\n",
       "      <td>aumento_valor</td>\n",
       "      <td>1.000000</td>\n",
       "      <td>-0.085973</td>\n",
       "    </tr>\n",
       "    <tr>\n",
       "      <td>comunitario</td>\n",
       "      <td>-0.085973</td>\n",
       "      <td>1.000000</td>\n",
       "    </tr>\n",
       "  </tbody>\n",
       "</table>\n",
       "</div>"
      ],
      "text/plain": [
       "               aumento_valor  comunitario\n",
       "aumento_valor       1.000000    -0.085973\n",
       "comunitario        -0.085973     1.000000"
      ]
     },
     "execution_count": 11,
     "metadata": {},
     "output_type": "execute_result"
    }
   ],
   "source": [
    "df[[\"aumento_valor\",\"comunitario\"]].corr()"
   ]
  },
  {
   "cell_type": "code",
   "execution_count": 12,
   "metadata": {},
   "outputs": [
    {
     "data": {
      "image/png": "[encoded data removed]",
      "text/plain": [
       "<Figure size 432x288 with 1 Axes>"
      ]
     },
     "metadata": {
      "needs_background": "light"
     },
     "output_type": "display_data"
    },
    {
     "data": {
      "image/png": "[encoded data removed]",
      "text/plain": [
       "<Figure size 432x288 with 1 Axes>"
      ]
     },
     "metadata": {
      "needs_background": "light"
     },
     "output_type": "display_data"
    },
    {
     "data": {
      "image/png": "[encoded data removed]",
      "text/plain": [
       "<Figure size 432x288 with 1 Axes>"
      ]
     },
     "metadata": {
      "needs_background": "light"
     },
     "output_type": "display_data"
    },
    {
     "data": {
      "image/png": "[encoded data removed]",
      "text/plain": [
       "<Figure size 432x288 with 1 Axes>"
      ]
     },
     "metadata": {
      "needs_background": "light"
     },
     "output_type": "display_data"
    }
   ],
   "source": [
    "table = pd.crosstab(df.edad,df.aumento_valor).plot(kind=\"bar\")\n",
    "table2= pd.crosstab(df.goles,df.aumento_valor).plot(kind=\"bar\")\n",
    "table3= pd.crosstab(df.comunitario,df.aumento_valor).plot(kind=\"bar\")\n",
    "table4= pd.crosstab(df.jugo_UCL,df.aumento_valor).plot(kind=\"bar\")"
   ]
  },
  {
   "cell_type": "code",
   "execution_count": 13,
   "metadata": {},
   "outputs": [],
   "source": [
    "mas_27=df.loc[df[\"edad\"]>=27]\n",
    "menos_27=df.loc[df[\"edad\"]<27]"
   ]
  },
  {
   "cell_type": "code",
   "execution_count": 14,
   "metadata": {},
   "outputs": [],
   "source": [
    "promedio_goles = [np.mean(df.goles)]*len(df)"
   ]
  },
  {
   "cell_type": "code",
   "execution_count": 15,
   "metadata": {},
   "outputs": [],
   "source": [
    "# y = valor\n",
    "# x = goles\n",
    "# z = edad\n"
   ]
  },
  {
   "cell_type": "code",
   "execution_count": 16,
   "metadata": {},
   "outputs": [],
   "source": [
    "import statsmodels.api as sm"
   ]
  },
  {
   "cell_type": "code",
   "execution_count": 17,
   "metadata": {},
   "outputs": [
    {
     "data": {
      "text/plain": [
       "['nombre',\n",
       " 'edad',\n",
       " 'posicion',\n",
       " 'valor',\n",
       " 'valor_06/18',\n",
       " 'jugo_UCL',\n",
       " 'pais',\n",
       " 'aumento_valor',\n",
       " 'comunitario',\n",
       " 'goles']"
      ]
     },
     "execution_count": 17,
     "metadata": {},
     "output_type": "execute_result"
    }
   ],
   "source": [
    "df.columns.values.tolist()"
   ]
  },
  {
   "cell_type": "code",
   "execution_count": 18,
   "metadata": {},
   "outputs": [
    {
     "name": "stderr",
     "output_type": "stream",
     "text": [
      "C:\\Users\\isaac\\Anaconda3\\lib\\site-packages\\numpy\\core\\fromnumeric.py:2542: FutureWarning:\n",
      "\n",
      "Method .ptp is deprecated and will be removed in a future version. Use numpy.ptp instead.\n",
      "\n"
     ]
    },
    {
     "name": "stdout",
     "output_type": "stream",
     "text": [
      "Optimization terminated successfully.\n",
      "         Current function value: 0.502610\n",
      "         Iterations 6\n",
      "                           Logit Regression Results                           \n",
      "==============================================================================\n",
      "Dep. Variable:          aumento_valor   No. Observations:                   90\n",
      "Model:                          Logit   Df Residuals:                       85\n",
      "Method:                           MLE   Df Model:                            4\n",
      "Date:                Sat, 23 May 2020   Pseudo R-squ.:                  0.2654\n",
      "Time:                        19:08:16   Log-Likelihood:                -45.235\n",
      "converged:                       True   LL-Null:                       -61.581\n",
      "Covariance Type:            nonrobust   LLR p-value:                 1.381e-06\n",
      "===============================================================================\n",
      "                  coef    std err          z      P>|z|      [0.025      0.975]\n",
      "-------------------------------------------------------------------------------\n",
      "const          11.4854      2.524      4.551      0.000       6.539      16.432\n",
      "edad           -0.4052      0.095     -4.258      0.000      -0.592      -0.219\n",
      "jugo_UCL       -0.8988      0.575     -1.563      0.118      -2.026       0.228\n",
      "comunitario    -0.8344      0.540     -1.546      0.122      -1.892       0.224\n",
      "goles           0.0253      0.047      0.542      0.588      -0.066       0.117\n",
      "===============================================================================\n"
     ]
    }
   ],
   "source": [
    "X= df[['edad','jugo_UCL','comunitario','goles']]\n",
    "Y= df[['aumento_valor']]\n",
    "X= sm.add_constant(X)\n",
    "model = sm.Logit(Y, X).fit()\n",
    "print(model.summary())"
   ]
  },
  {
   "cell_type": "code",
   "execution_count": 19,
   "metadata": {},
   "outputs": [],
   "source": [
    "Y_hat_ps = model.predict(X)"
   ]
  },
  {
   "cell_type": "code",
   "execution_count": 20,
   "metadata": {},
   "outputs": [
    {
     "name": "stdout",
     "output_type": "stream",
     "text": [
      "PEA         Logit Marginal Effects       \n",
      "=====================================\n",
      "Dep. Variable:          aumento_valor\n",
      "Method:                          dydx\n",
      "At:                              mean\n",
      "===============================================================================\n",
      "                 dy/dx    std err          z      P>|z|      [0.025      0.975]\n",
      "-------------------------------------------------------------------------------\n",
      "edad           -0.0978      0.023     -4.308      0.000      -0.142      -0.053\n",
      "jugo_UCL       -0.2170      0.139     -1.562      0.118      -0.489       0.055\n",
      "comunitario    -0.2014      0.130     -1.547      0.122      -0.457       0.054\n",
      "goles           0.0061      0.011      0.543      0.587      -0.016       0.028\n",
      "===============================================================================\n",
      "un aumento en 1 unidad en el promedio de edad, genera un decrecimiento de la probabilidad de que aumente el valor en.0978\n"
     ]
    }
   ],
   "source": [
    "print(\"PEA\",model.get_margeff(at=\"mean\").summary())\n",
    "print(\"un aumento en 1 unidad en el promedio de edad, genera un decrecimiento de la probabilidad de que aumente el valor en.0978\")"
   ]
  },
  {
   "cell_type": "code",
   "execution_count": 21,
   "metadata": {},
   "outputs": [
    {
     "name": "stdout",
     "output_type": "stream",
     "text": [
      "APE         Logit Marginal Effects       \n",
      "=====================================\n",
      "Dep. Variable:          aumento_valor\n",
      "Method:                          dydx\n",
      "At:                           overall\n",
      "===============================================================================\n",
      "                 dy/dx    std err          z      P>|z|      [0.025      0.975]\n",
      "-------------------------------------------------------------------------------\n",
      "edad           -0.0674      0.009     -7.607      0.000      -0.085      -0.050\n",
      "jugo_UCL       -0.1496      0.091     -1.640      0.101      -0.328       0.029\n",
      "comunitario    -0.1389      0.086     -1.619      0.105      -0.307       0.029\n",
      "goles           0.0042      0.008      0.545      0.586      -0.011       0.019\n",
      "===============================================================================\n",
      "un aumento de 1 unidad en edad, resulta en el decrecimiento del promedio simple en .0674 de la probabilidad de que aumente el valor\n"
     ]
    }
   ],
   "source": [
    "print(\"APE\",model.get_margeff().summary())\n",
    "print(\"un aumento de 1 unidad en edad, resulta en el decrecimiento del promedio simple en .0674 de la probabilidad de que aumente el valor\")"
   ]
  },
  {
   "cell_type": "markdown",
   "metadata": {},
   "source": [
    "$ y=11.48-0.4052*edad-0.8988*jugo UCL-0.8344*comunitario+.0253*goles $"
   ]
  },
  {
   "cell_type": "code",
   "execution_count": 68,
   "metadata": {},
   "outputs": [
    {
     "name": "stdout",
     "output_type": "stream",
     "text": [
      "Fitness: 0.7111111111111111\n",
      "51\n",
      "51\n"
     ]
    }
   ],
   "source": [
    "suma_correct = 0\n",
    "suma_y_1 = 0\n",
    "threshold = .5\n",
    "for i in range(90):\n",
    "    true_y = df[\"aumento_valor\"][i]\n",
    "    y_hat_p = Y_hat_ps[i]\n",
    "    if y_hat_p >= threshold:\n",
    "        y_hat = 1\n",
    "    else:\n",
    "        y_hat = 0\n",
    "    if true_y == y_hat:\n",
    "        suma_correct += 1\n",
    "    suma_y_1 += y_hat\n",
    "print('Fitness:', suma_correct / 90)\n",
    "print(df[\"aumento_valor\"].sum())\n",
    "print(suma_y_1)"
   ]
  },
  {
   "cell_type": "code",
   "execution_count": 23,
   "metadata": {},
   "outputs": [
    {
     "name": "stdout",
     "output_type": "stream",
     "text": [
      "Fitness: 0.7333333333333333\n",
      "51\n",
      "47 66\n"
     ]
    }
   ],
   "source": [
    "suma_correct = 0\n",
    "suma_y_1 = 0\n",
    "threshold = df[\"aumento_valor\"].sum()/90\n",
    "for i in range(90):\n",
    "    y_true=df[\"aumento_valor\"][i]\n",
    "    y_hat_p = Y_hat_ps[i]\n",
    "    if y_hat_p >= threshold:\n",
    "        y_hat = 1\n",
    "    else:\n",
    "        y_hat = 0\n",
    "    if y_true == y_hat:\n",
    "        suma_correct += 1\n",
    "    suma_y_1 += y_hat\n",
    "print('Fitness:', suma_correct / 90)\n",
    "print(df[\"aumento_valor\"].sum())\n",
    "print(suma_y_1,suma_correct)"
   ]
  },
  {
   "cell_type": "code",
   "execution_count": 24,
   "metadata": {},
   "outputs": [],
   "source": [
    "success_rates = []\n",
    "for threshold in np.linspace(0, 1, 1000):\n",
    "    suma_correct = 0\n",
    "    suma_y_1 = 0\n",
    "    for i in range(90):\n",
    "        true_y = df[\"aumento_valor\"][i]\n",
    "        y_hat_p = Y_hat_ps[i]\n",
    "        if y_hat_p >= threshold:\n",
    "            y_hat = 1\n",
    "        else:\n",
    "            y_hat = 0\n",
    "        if true_y == y_hat:\n",
    "            suma_correct += 1\n",
    "        suma_y_1 += y_hat\n",
    "    success_rate = suma_y_1 / 90\n",
    "    success_rates.append(success_rate)"
   ]
  },
  {
   "cell_type": "code",
   "execution_count": 25,
   "metadata": {},
   "outputs": [
    {
     "data": {
      "image/png": "[encoded data removed]",
      "text/plain": [
       "<Figure size 720x360 with 1 Axes>"
      ]
     },
     "metadata": {
      "needs_background": "light"
     },
     "output_type": "display_data"
    },
    {
     "name": "stdout",
     "output_type": "stream",
     "text": [
      "\n",
      "Done!\n"
     ]
    }
   ],
   "source": [
    "fig = plt.figure(figsize=(10, 5))\n",
    "axis = plt.gca()\n",
    "plt.plot(list(np.linspace(0, 1, 1000)), success_rates)\n",
    "plt.axhline(df[\"aumento_valor\"].sum() / 90, color='red', linewidth=1)\n",
    "plt.xlim(0, 1)\n",
    "fig.tight_layout()\n",
    "plt.show()\n",
    "plt.close(plt.gcf())\n",
    "print('\\nDone!')"
   ]
  },
  {
   "cell_type": "code",
   "execution_count": 26,
   "metadata": {},
   "outputs": [
    {
     "data": {
      "text/plain": [
       "<matplotlib.axes._subplots.AxesSubplot at 0x2037be61e88>"
      ]
     },
     "execution_count": 26,
     "metadata": {},
     "output_type": "execute_result"
    },
    {
     "data": {
      "image/png": "[encoded data removed]",
      "text/plain": [
       "<Figure size 432x288 with 1 Axes>"
      ]
     },
     "metadata": {
      "needs_background": "light"
     },
     "output_type": "display_data"
    }
   ],
   "source": [
    "sns.regplot(x=Y_hat_ps, y=df[\"aumento_valor\"], data=df, logistic=True)"
   ]
  },
  {
   "cell_type": "code",
   "execution_count": 27,
   "metadata": {},
   "outputs": [
    {
     "name": "stdout",
     "output_type": "stream",
     "text": [
      "Optimization terminated successfully.\n",
      "         Current function value: 0.530476\n",
      "         Iterations 6\n",
      "                           Logit Regression Results                           \n",
      "==============================================================================\n",
      "Dep. Variable:          aumento_valor   No. Observations:                   90\n",
      "Model:                          Logit   Df Residuals:                       88\n",
      "Method:                           MLE   Df Model:                            1\n",
      "Date:                Sat, 23 May 2020   Pseudo R-squ.:                  0.2247\n",
      "Time:                        19:08:23   Log-Likelihood:                -47.743\n",
      "converged:                       True   LL-Null:                       -61.581\n",
      "Covariance Type:            nonrobust   LLR p-value:                 1.434e-07\n",
      "==============================================================================\n",
      "                 coef    std err          z      P>|z|      [0.025      0.975]\n",
      "------------------------------------------------------------------------------\n",
      "const          9.7229      2.231      4.359      0.000       5.351      14.095\n",
      "edad          -0.3711      0.086     -4.298      0.000      -0.540      -0.202\n",
      "==============================================================================\n"
     ]
    }
   ],
   "source": [
    "X_sig= df[['edad']]\n",
    "Y_sig= df[['aumento_valor']]\n",
    "X_sig= sm.add_constant(X_sig)\n",
    "model2 = sm.Logit(Y_sig, X_sig).fit()\n",
    "print(model2.summary())"
   ]
  },
  {
   "cell_type": "markdown",
   "metadata": {},
   "source": [
    "$ y=9.7229-0.3711*edad $"
   ]
  },
  {
   "cell_type": "code",
   "execution_count": 28,
   "metadata": {},
   "outputs": [
    {
     "name": "stdout",
     "output_type": "stream",
     "text": [
      "PEA         Logit Marginal Effects       \n",
      "=====================================\n",
      "Dep. Variable:          aumento_valor\n",
      "Method:                          dydx\n",
      "At:                              mean\n",
      "==============================================================================\n",
      "                dy/dx    std err          z      P>|z|      [0.025      0.975]\n",
      "------------------------------------------------------------------------------\n",
      "edad          -0.0897      0.021     -4.348      0.000      -0.130      -0.049\n",
      "==============================================================================\n"
     ]
    }
   ],
   "source": [
    "print(\"PEA\",model2.get_margeff(at=\"mean\").summary())"
   ]
  },
  {
   "cell_type": "code",
   "execution_count": 29,
   "metadata": {},
   "outputs": [
    {
     "name": "stdout",
     "output_type": "stream",
     "text": [
      "APE         Logit Marginal Effects       \n",
      "=====================================\n",
      "Dep. Variable:          aumento_valor\n",
      "Method:                          dydx\n",
      "At:                           overall\n",
      "==============================================================================\n",
      "                dy/dx    std err          z      P>|z|      [0.025      0.975]\n",
      "------------------------------------------------------------------------------\n",
      "edad          -0.0659      0.008     -7.913      0.000      -0.082      -0.050\n",
      "==============================================================================\n"
     ]
    }
   ],
   "source": [
    "print(\"APE\",model2.get_margeff().summary())"
   ]
  },
  {
   "cell_type": "code",
   "execution_count": 69,
   "metadata": {},
   "outputs": [],
   "source": [
    "Y_hat_ps_sig = model2.predict(X_sig)"
   ]
  },
  {
   "cell_type": "code",
   "execution_count": 94,
   "metadata": {},
   "outputs": [
    {
     "name": "stdout",
     "output_type": "stream",
     "text": [
      "Fitness: 0.6888888888888889\n",
      "Aumentos en el modelo: 51\n",
      "Prediccion: 55\n"
     ]
    }
   ],
   "source": [
    "suma_correct = 0\n",
    "suma_y_1 = 0\n",
    "threshold = .5111111\n",
    "for i in range(90):\n",
    "    true_y = df[\"aumento_valor\"][i]\n",
    "    y_hat_p = Y_hat_ps_sig[i]\n",
    "    if y_hat_p >= threshold:\n",
    "        y_hat = 1\n",
    "    else:\n",
    "        y_hat = 0\n",
    "    if true_y == y_hat:\n",
    "        suma_correct += 1\n",
    "    suma_y_1 += y_hat\n",
    "print('Fitness:', suma_correct / 90)\n",
    "print('Aumentos en el modelo:',df[\"aumento_valor\"].sum())\n",
    "print('Prediccion:',suma_y_1)"
   ]
  },
  {
   "cell_type": "code",
   "execution_count": 87,
   "metadata": {},
   "outputs": [
    {
     "name": "stdout",
     "output_type": "stream",
     "text": [
      "Fitness: 0.7222222222222222\n",
      "Aumentos en el modelo: 51\n",
      "Prediccion: 46\n"
     ]
    }
   ],
   "source": [
    "suma_correct = 0\n",
    "suma_y_1 = 0\n",
    "threshold = df[\"aumento_valor\"].sum()/90\n",
    "for i in range(90):\n",
    "    y_true=df[\"aumento_valor\"][i]\n",
    "    y_hat_p = Y_hat_ps_sig[i]\n",
    "    if y_hat_p >= threshold:\n",
    "        y_hat = 1\n",
    "    else:\n",
    "        y_hat = 0\n",
    "    if y_true == y_hat:\n",
    "        suma_correct += 1\n",
    "    suma_y_1 += y_hat\n",
    "print('Fitness:', suma_correct / 90)\n",
    "print('Aumentos en el modelo:',df[\"aumento_valor\"].sum())\n",
    "print('Prediccion:',suma_y_1)"
   ]
  },
  {
   "cell_type": "code",
   "execution_count": 95,
   "metadata": {},
   "outputs": [],
   "source": [
    "success_rates = []\n",
    "for threshold in np.linspace(0, 1, 1000):\n",
    "    suma_correct = 0\n",
    "    suma_y_1 = 0\n",
    "    for i in range(90):\n",
    "        true_y = df[\"aumento_valor\"][i]\n",
    "        y_hat_p = Y_hat_ps_sig[i]\n",
    "        if y_hat_p >= threshold:\n",
    "            y_hat = 1\n",
    "        else:\n",
    "            y_hat = 0\n",
    "        if true_y == y_hat:\n",
    "            suma_correct += 1\n",
    "        suma_y_1 += y_hat\n",
    "    success_rate = suma_y_1 / 90\n",
    "    success_rates.append(success_rate)"
   ]
  },
  {
   "cell_type": "code",
   "execution_count": 96,
   "metadata": {
    "collapsed": true
   },
   "outputs": [
    {
     "data": {
      "text/plain": [
       "[1.0,\n",
       " 1.0,\n",
       " 1.0,\n",
       " 1.0,\n",
       " 1.0,\n",
       " 1.0,\n",
       " 1.0,\n",
       " 1.0,\n",
       " 1.0,\n",
       " 1.0,\n",
       " 1.0,\n",
       " 1.0,\n",
       " 1.0,\n",
       " 1.0,\n",
       " 1.0,\n",
       " 1.0,\n",
       " 1.0,\n",
       " 1.0,\n",
       " 1.0,\n",
       " 1.0,\n",
       " 1.0,\n",
       " 1.0,\n",
       " 1.0,\n",
       " 1.0,\n",
       " 1.0,\n",
       " 1.0,\n",
       " 1.0,\n",
       " 1.0,\n",
       " 1.0,\n",
       " 1.0,\n",
       " 1.0,\n",
       " 1.0,\n",
       " 1.0,\n",
       " 1.0,\n",
       " 1.0,\n",
       " 1.0,\n",
       " 1.0,\n",
       " 0.9888888888888889,\n",
       " 0.9888888888888889,\n",
       " 0.9888888888888889,\n",
       " 0.9888888888888889,\n",
       " 0.9888888888888889,\n",
       " 0.9888888888888889,\n",
       " 0.9888888888888889,\n",
       " 0.9888888888888889,\n",
       " 0.9888888888888889,\n",
       " 0.9888888888888889,\n",
       " 0.9888888888888889,\n",
       " 0.9888888888888889,\n",
       " 0.9888888888888889,\n",
       " 0.9888888888888889,\n",
       " 0.9888888888888889,\n",
       " 0.9888888888888889,\n",
       " 0.9888888888888889,\n",
       " 0.9888888888888889,\n",
       " 0.9888888888888889,\n",
       " 0.9888888888888889,\n",
       " 0.9888888888888889,\n",
       " 0.9888888888888889,\n",
       " 0.9888888888888889,\n",
       " 0.9888888888888889,\n",
       " 0.9888888888888889,\n",
       " 0.9888888888888889,\n",
       " 0.9888888888888889,\n",
       " 0.9888888888888889,\n",
       " 0.9888888888888889,\n",
       " 0.9888888888888889,\n",
       " 0.9888888888888889,\n",
       " 0.9888888888888889,\n",
       " 0.9888888888888889,\n",
       " 0.9888888888888889,\n",
       " 0.9888888888888889,\n",
       " 0.9888888888888889,\n",
       " 0.9888888888888889,\n",
       " 0.9888888888888889,\n",
       " 0.9777777777777777,\n",
       " 0.9777777777777777,\n",
       " 0.9777777777777777,\n",
       " 0.9777777777777777,\n",
       " 0.9777777777777777,\n",
       " 0.9777777777777777,\n",
       " 0.9777777777777777,\n",
       " 0.9777777777777777,\n",
       " 0.9777777777777777,\n",
       " 0.9777777777777777,\n",
       " 0.9777777777777777,\n",
       " 0.9777777777777777,\n",
       " 0.9777777777777777,\n",
       " 0.9777777777777777,\n",
       " 0.9777777777777777,\n",
       " 0.9777777777777777,\n",
       " 0.9777777777777777,\n",
       " 0.9777777777777777,\n",
       " 0.9777777777777777,\n",
       " 0.9777777777777777,\n",
       " 0.9777777777777777,\n",
       " 0.9777777777777777,\n",
       " 0.9777777777777777,\n",
       " 0.9777777777777777,\n",
       " 0.9777777777777777,\n",
       " 0.9777777777777777,\n",
       " 0.9777777777777777,\n",
       " 0.9777777777777777,\n",
       " 0.9777777777777777,\n",
       " 0.9444444444444444,\n",
       " 0.9444444444444444,\n",
       " 0.9444444444444444,\n",
       " 0.9444444444444444,\n",
       " 0.9444444444444444,\n",
       " 0.9444444444444444,\n",
       " 0.9444444444444444,\n",
       " 0.9444444444444444,\n",
       " 0.9444444444444444,\n",
       " 0.9444444444444444,\n",
       " 0.9444444444444444,\n",
       " 0.9444444444444444,\n",
       " 0.9444444444444444,\n",
       " 0.9444444444444444,\n",
       " 0.9444444444444444,\n",
       " 0.9444444444444444,\n",
       " 0.9444444444444444,\n",
       " 0.9444444444444444,\n",
       " 0.9444444444444444,\n",
       " 0.9444444444444444,\n",
       " 0.9444444444444444,\n",
       " 0.9444444444444444,\n",
       " 0.9444444444444444,\n",
       " 0.9444444444444444,\n",
       " 0.9444444444444444,\n",
       " 0.9444444444444444,\n",
       " 0.9444444444444444,\n",
       " 0.9444444444444444,\n",
       " 0.9444444444444444,\n",
       " 0.9444444444444444,\n",
       " 0.9444444444444444,\n",
       " 0.9444444444444444,\n",
       " 0.9444444444444444,\n",
       " 0.9444444444444444,\n",
       " 0.9444444444444444,\n",
       " 0.9444444444444444,\n",
       " 0.9444444444444444,\n",
       " 0.9444444444444444,\n",
       " 0.9444444444444444,\n",
       " 0.9444444444444444,\n",
       " 0.9222222222222223,\n",
       " 0.9222222222222223,\n",
       " 0.9222222222222223,\n",
       " 0.9222222222222223,\n",
       " 0.9222222222222223,\n",
       " 0.9222222222222223,\n",
       " 0.9222222222222223,\n",
       " 0.9222222222222223,\n",
       " 0.9222222222222223,\n",
       " 0.9222222222222223,\n",
       " 0.9222222222222223,\n",
       " 0.9222222222222223,\n",
       " 0.9222222222222223,\n",
       " 0.9222222222222223,\n",
       " 0.9222222222222223,\n",
       " 0.9222222222222223,\n",
       " 0.9222222222222223,\n",
       " 0.9222222222222223,\n",
       " 0.9222222222222223,\n",
       " 0.9222222222222223,\n",
       " 0.9222222222222223,\n",
       " 0.9222222222222223,\n",
       " 0.9222222222222223,\n",
       " 0.9222222222222223,\n",
       " 0.9222222222222223,\n",
       " 0.9222222222222223,\n",
       " 0.9222222222222223,\n",
       " 0.9222222222222223,\n",
       " 0.9222222222222223,\n",
       " 0.9222222222222223,\n",
       " 0.9222222222222223,\n",
       " 0.9222222222222223,\n",
       " 0.9222222222222223,\n",
       " 0.9222222222222223,\n",
       " 0.9222222222222223,\n",
       " 0.9222222222222223,\n",
       " 0.9222222222222223,\n",
       " 0.9222222222222223,\n",
       " 0.9222222222222223,\n",
       " 0.9222222222222223,\n",
       " 0.9222222222222223,\n",
       " 0.9222222222222223,\n",
       " 0.9222222222222223,\n",
       " 0.9222222222222223,\n",
       " 0.9222222222222223,\n",
       " 0.9222222222222223,\n",
       " 0.9222222222222223,\n",
       " 0.9222222222222223,\n",
       " 0.9222222222222223,\n",
       " 0.9222222222222223,\n",
       " 0.9222222222222223,\n",
       " 0.9222222222222223,\n",
       " 0.8777777777777778,\n",
       " 0.8777777777777778,\n",
       " 0.8777777777777778,\n",
       " 0.8777777777777778,\n",
       " 0.8777777777777778,\n",
       " 0.8777777777777778,\n",
       " 0.8777777777777778,\n",
       " 0.8777777777777778,\n",
       " 0.8777777777777778,\n",
       " 0.8777777777777778,\n",
       " 0.8777777777777778,\n",
       " 0.8777777777777778,\n",
       " 0.8777777777777778,\n",
       " 0.8777777777777778,\n",
       " 0.8777777777777778,\n",
       " 0.8777777777777778,\n",
       " 0.8777777777777778,\n",
       " 0.8777777777777778,\n",
       " 0.8777777777777778,\n",
       " 0.8777777777777778,\n",
       " 0.8777777777777778,\n",
       " 0.8777777777777778,\n",
       " 0.8777777777777778,\n",
       " 0.8777777777777778,\n",
       " 0.8777777777777778,\n",
       " 0.8777777777777778,\n",
       " 0.8777777777777778,\n",
       " 0.8777777777777778,\n",
       " 0.8777777777777778,\n",
       " 0.8777777777777778,\n",
       " 0.8777777777777778,\n",
       " 0.8777777777777778,\n",
       " 0.8777777777777778,\n",
       " 0.8777777777777778,\n",
       " 0.8777777777777778,\n",
       " 0.8777777777777778,\n",
       " 0.8777777777777778,\n",
       " 0.8777777777777778,\n",
       " 0.8777777777777778,\n",
       " 0.8777777777777778,\n",
       " 0.8777777777777778,\n",
       " 0.8777777777777778,\n",
       " 0.8777777777777778,\n",
       " 0.8777777777777778,\n",
       " 0.8777777777777778,\n",
       " 0.8777777777777778,\n",
       " 0.8777777777777778,\n",
       " 0.8777777777777778,\n",
       " 0.8777777777777778,\n",
       " 0.8777777777777778,\n",
       " 0.8777777777777778,\n",
       " 0.8777777777777778,\n",
       " 0.8777777777777778,\n",
       " 0.8777777777777778,\n",
       " 0.8777777777777778,\n",
       " 0.8777777777777778,\n",
       " 0.8777777777777778,\n",
       " 0.8777777777777778,\n",
       " 0.8777777777777778,\n",
       " 0.8777777777777778,\n",
       " 0.8777777777777778,\n",
       " 0.8777777777777778,\n",
       " 0.8777777777777778,\n",
       " 0.8777777777777778,\n",
       " 0.8777777777777778,\n",
       " 0.8,\n",
       " 0.8,\n",
       " 0.8,\n",
       " 0.8,\n",
       " 0.8,\n",
       " 0.8,\n",
       " 0.8,\n",
       " 0.8,\n",
       " 0.8,\n",
       " 0.8,\n",
       " 0.8,\n",
       " 0.8,\n",
       " 0.8,\n",
       " 0.8,\n",
       " 0.8,\n",
       " 0.8,\n",
       " 0.8,\n",
       " 0.8,\n",
       " 0.8,\n",
       " 0.8,\n",
       " 0.8,\n",
       " 0.8,\n",
       " 0.8,\n",
       " 0.8,\n",
       " 0.8,\n",
       " 0.8,\n",
       " 0.8,\n",
       " 0.8,\n",
       " 0.8,\n",
       " 0.8,\n",
       " 0.8,\n",
       " 0.8,\n",
       " 0.8,\n",
       " 0.8,\n",
       " 0.8,\n",
       " 0.8,\n",
       " 0.8,\n",
       " 0.8,\n",
       " 0.8,\n",
       " 0.8,\n",
       " 0.8,\n",
       " 0.8,\n",
       " 0.8,\n",
       " 0.8,\n",
       " 0.8,\n",
       " 0.8,\n",
       " 0.8,\n",
       " 0.8,\n",
       " 0.8,\n",
       " 0.8,\n",
       " 0.8,\n",
       " 0.8,\n",
       " 0.8,\n",
       " 0.8,\n",
       " 0.8,\n",
       " 0.8,\n",
       " 0.8,\n",
       " 0.8,\n",
       " 0.8,\n",
       " 0.8,\n",
       " 0.8,\n",
       " 0.8,\n",
       " 0.8,\n",
       " 0.8,\n",
       " 0.8,\n",
       " 0.8,\n",
       " 0.8,\n",
       " 0.8,\n",
       " 0.8,\n",
       " 0.8,\n",
       " 0.8,\n",
       " 0.8,\n",
       " 0.8,\n",
       " 0.8,\n",
       " 0.8,\n",
       " 0.8,\n",
       " 0.8,\n",
       " 0.8,\n",
       " 0.7333333333333333,\n",
       " 0.7333333333333333,\n",
       " 0.7333333333333333,\n",
       " 0.7333333333333333,\n",
       " 0.7333333333333333,\n",
       " 0.7333333333333333,\n",
       " 0.7333333333333333,\n",
       " 0.7333333333333333,\n",
       " 0.7333333333333333,\n",
       " 0.7333333333333333,\n",
       " 0.7333333333333333,\n",
       " 0.7333333333333333,\n",
       " 0.7333333333333333,\n",
       " 0.7333333333333333,\n",
       " 0.7333333333333333,\n",
       " 0.7333333333333333,\n",
       " 0.7333333333333333,\n",
       " 0.7333333333333333,\n",
       " 0.7333333333333333,\n",
       " 0.7333333333333333,\n",
       " 0.7333333333333333,\n",
       " 0.7333333333333333,\n",
       " 0.7333333333333333,\n",
       " 0.7333333333333333,\n",
       " 0.7333333333333333,\n",
       " 0.7333333333333333,\n",
       " 0.7333333333333333,\n",
       " 0.7333333333333333,\n",
       " 0.7333333333333333,\n",
       " 0.7333333333333333,\n",
       " 0.7333333333333333,\n",
       " 0.7333333333333333,\n",
       " 0.7333333333333333,\n",
       " 0.7333333333333333,\n",
       " 0.7333333333333333,\n",
       " 0.7333333333333333,\n",
       " 0.7333333333333333,\n",
       " 0.7333333333333333,\n",
       " 0.7333333333333333,\n",
       " 0.7333333333333333,\n",
       " 0.7333333333333333,\n",
       " 0.7333333333333333,\n",
       " 0.7333333333333333,\n",
       " 0.7333333333333333,\n",
       " 0.7333333333333333,\n",
       " 0.7333333333333333,\n",
       " 0.7333333333333333,\n",
       " 0.7333333333333333,\n",
       " 0.7333333333333333,\n",
       " 0.7333333333333333,\n",
       " 0.7333333333333333,\n",
       " 0.7333333333333333,\n",
       " 0.7333333333333333,\n",
       " 0.7333333333333333,\n",
       " 0.7333333333333333,\n",
       " 0.7333333333333333,\n",
       " 0.7333333333333333,\n",
       " 0.7333333333333333,\n",
       " 0.7333333333333333,\n",
       " 0.7333333333333333,\n",
       " 0.7333333333333333,\n",
       " 0.7333333333333333,\n",
       " 0.7333333333333333,\n",
       " 0.7333333333333333,\n",
       " 0.7333333333333333,\n",
       " 0.7333333333333333,\n",
       " 0.7333333333333333,\n",
       " 0.7333333333333333,\n",
       " 0.7333333333333333,\n",
       " 0.7333333333333333,\n",
       " 0.7333333333333333,\n",
       " 0.7333333333333333,\n",
       " 0.7333333333333333,\n",
       " 0.7333333333333333,\n",
       " 0.7333333333333333,\n",
       " 0.7333333333333333,\n",
       " 0.7333333333333333,\n",
       " 0.7333333333333333,\n",
       " 0.7333333333333333,\n",
       " 0.7333333333333333,\n",
       " 0.7333333333333333,\n",
       " 0.7333333333333333,\n",
       " 0.7333333333333333,\n",
       " 0.7333333333333333,\n",
       " 0.7333333333333333,\n",
       " 0.7333333333333333,\n",
       " 0.7333333333333333,\n",
       " 0.6111111111111112,\n",
       " 0.6111111111111112,\n",
       " 0.6111111111111112,\n",
       " 0.6111111111111112,\n",
       " 0.6111111111111112,\n",
       " 0.6111111111111112,\n",
       " 0.6111111111111112,\n",
       " 0.6111111111111112,\n",
       " 0.6111111111111112,\n",
       " 0.6111111111111112,\n",
       " 0.6111111111111112,\n",
       " 0.6111111111111112,\n",
       " 0.6111111111111112,\n",
       " 0.6111111111111112,\n",
       " 0.6111111111111112,\n",
       " 0.6111111111111112,\n",
       " 0.6111111111111112,\n",
       " 0.6111111111111112,\n",
       " 0.6111111111111112,\n",
       " 0.6111111111111112,\n",
       " 0.6111111111111112,\n",
       " 0.6111111111111112,\n",
       " 0.6111111111111112,\n",
       " 0.6111111111111112,\n",
       " 0.6111111111111112,\n",
       " 0.6111111111111112,\n",
       " 0.6111111111111112,\n",
       " 0.6111111111111112,\n",
       " 0.6111111111111112,\n",
       " 0.6111111111111112,\n",
       " 0.6111111111111112,\n",
       " 0.6111111111111112,\n",
       " 0.6111111111111112,\n",
       " 0.6111111111111112,\n",
       " 0.6111111111111112,\n",
       " 0.6111111111111112,\n",
       " 0.6111111111111112,\n",
       " 0.6111111111111112,\n",
       " 0.6111111111111112,\n",
       " 0.6111111111111112,\n",
       " 0.6111111111111112,\n",
       " 0.6111111111111112,\n",
       " 0.6111111111111112,\n",
       " 0.6111111111111112,\n",
       " 0.6111111111111112,\n",
       " 0.6111111111111112,\n",
       " 0.6111111111111112,\n",
       " 0.6111111111111112,\n",
       " 0.6111111111111112,\n",
       " 0.6111111111111112,\n",
       " 0.6111111111111112,\n",
       " 0.6111111111111112,\n",
       " 0.6111111111111112,\n",
       " 0.6111111111111112,\n",
       " 0.6111111111111112,\n",
       " 0.6111111111111112,\n",
       " 0.6111111111111112,\n",
       " 0.6111111111111112,\n",
       " 0.6111111111111112,\n",
       " 0.6111111111111112,\n",
       " 0.6111111111111112,\n",
       " 0.6111111111111112,\n",
       " 0.6111111111111112,\n",
       " 0.6111111111111112,\n",
       " 0.6111111111111112,\n",
       " 0.6111111111111112,\n",
       " 0.6111111111111112,\n",
       " 0.6111111111111112,\n",
       " 0.6111111111111112,\n",
       " 0.6111111111111112,\n",
       " 0.6111111111111112,\n",
       " 0.6111111111111112,\n",
       " 0.6111111111111112,\n",
       " 0.6111111111111112,\n",
       " 0.6111111111111112,\n",
       " 0.6111111111111112,\n",
       " 0.6111111111111112,\n",
       " 0.6111111111111112,\n",
       " 0.6111111111111112,\n",
       " 0.6111111111111112,\n",
       " 0.6111111111111112,\n",
       " 0.6111111111111112,\n",
       " 0.6111111111111112,\n",
       " 0.6111111111111112,\n",
       " 0.6111111111111112,\n",
       " 0.6111111111111112,\n",
       " 0.6111111111111112,\n",
       " 0.6111111111111112,\n",
       " 0.6111111111111112,\n",
       " 0.6111111111111112,\n",
       " 0.6111111111111112,\n",
       " 0.6111111111111112,\n",
       " 0.5111111111111111,\n",
       " 0.5111111111111111,\n",
       " 0.5111111111111111,\n",
       " 0.5111111111111111,\n",
       " 0.5111111111111111,\n",
       " 0.5111111111111111,\n",
       " 0.5111111111111111,\n",
       " 0.5111111111111111,\n",
       " 0.5111111111111111,\n",
       " 0.5111111111111111,\n",
       " 0.5111111111111111,\n",
       " 0.5111111111111111,\n",
       " 0.5111111111111111,\n",
       " 0.5111111111111111,\n",
       " 0.5111111111111111,\n",
       " 0.5111111111111111,\n",
       " 0.5111111111111111,\n",
       " 0.5111111111111111,\n",
       " 0.5111111111111111,\n",
       " 0.5111111111111111,\n",
       " 0.5111111111111111,\n",
       " 0.5111111111111111,\n",
       " 0.5111111111111111,\n",
       " 0.5111111111111111,\n",
       " 0.5111111111111111,\n",
       " 0.5111111111111111,\n",
       " 0.5111111111111111,\n",
       " 0.5111111111111111,\n",
       " 0.5111111111111111,\n",
       " 0.5111111111111111,\n",
       " 0.5111111111111111,\n",
       " 0.5111111111111111,\n",
       " 0.5111111111111111,\n",
       " 0.5111111111111111,\n",
       " 0.5111111111111111,\n",
       " 0.5111111111111111,\n",
       " 0.5111111111111111,\n",
       " 0.5111111111111111,\n",
       " 0.5111111111111111,\n",
       " 0.5111111111111111,\n",
       " 0.5111111111111111,\n",
       " 0.5111111111111111,\n",
       " 0.5111111111111111,\n",
       " 0.5111111111111111,\n",
       " 0.5111111111111111,\n",
       " 0.5111111111111111,\n",
       " 0.5111111111111111,\n",
       " 0.5111111111111111,\n",
       " 0.5111111111111111,\n",
       " 0.5111111111111111,\n",
       " 0.5111111111111111,\n",
       " 0.5111111111111111,\n",
       " 0.5111111111111111,\n",
       " 0.5111111111111111,\n",
       " 0.5111111111111111,\n",
       " 0.5111111111111111,\n",
       " 0.5111111111111111,\n",
       " 0.5111111111111111,\n",
       " 0.5111111111111111,\n",
       " 0.5111111111111111,\n",
       " 0.5111111111111111,\n",
       " 0.5111111111111111,\n",
       " 0.5111111111111111,\n",
       " 0.5111111111111111,\n",
       " 0.5111111111111111,\n",
       " 0.5111111111111111,\n",
       " 0.5111111111111111,\n",
       " 0.5111111111111111,\n",
       " 0.5111111111111111,\n",
       " 0.5111111111111111,\n",
       " 0.5111111111111111,\n",
       " 0.5111111111111111,\n",
       " 0.5111111111111111,\n",
       " 0.5111111111111111,\n",
       " 0.5111111111111111,\n",
       " 0.5111111111111111,\n",
       " 0.5111111111111111,\n",
       " 0.5111111111111111,\n",
       " 0.5111111111111111,\n",
       " 0.5111111111111111,\n",
       " 0.5111111111111111,\n",
       " 0.5111111111111111,\n",
       " 0.5111111111111111,\n",
       " 0.5111111111111111,\n",
       " 0.5111111111111111,\n",
       " 0.5111111111111111,\n",
       " 0.5111111111111111,\n",
       " 0.5111111111111111,\n",
       " 0.5111111111111111,\n",
       " 0.5111111111111111,\n",
       " 0.5111111111111111,\n",
       " 0.43333333333333335,\n",
       " 0.43333333333333335,\n",
       " 0.43333333333333335,\n",
       " 0.43333333333333335,\n",
       " 0.43333333333333335,\n",
       " 0.43333333333333335,\n",
       " 0.43333333333333335,\n",
       " 0.43333333333333335,\n",
       " 0.43333333333333335,\n",
       " 0.43333333333333335,\n",
       " 0.43333333333333335,\n",
       " 0.43333333333333335,\n",
       " 0.43333333333333335,\n",
       " 0.43333333333333335,\n",
       " 0.43333333333333335,\n",
       " 0.43333333333333335,\n",
       " 0.43333333333333335,\n",
       " 0.43333333333333335,\n",
       " 0.43333333333333335,\n",
       " 0.43333333333333335,\n",
       " 0.43333333333333335,\n",
       " 0.43333333333333335,\n",
       " 0.43333333333333335,\n",
       " 0.43333333333333335,\n",
       " 0.43333333333333335,\n",
       " 0.43333333333333335,\n",
       " 0.43333333333333335,\n",
       " 0.43333333333333335,\n",
       " 0.43333333333333335,\n",
       " 0.43333333333333335,\n",
       " 0.43333333333333335,\n",
       " 0.43333333333333335,\n",
       " 0.43333333333333335,\n",
       " 0.43333333333333335,\n",
       " 0.43333333333333335,\n",
       " 0.43333333333333335,\n",
       " 0.43333333333333335,\n",
       " 0.43333333333333335,\n",
       " 0.43333333333333335,\n",
       " 0.43333333333333335,\n",
       " 0.43333333333333335,\n",
       " 0.43333333333333335,\n",
       " 0.43333333333333335,\n",
       " 0.43333333333333335,\n",
       " 0.43333333333333335,\n",
       " 0.43333333333333335,\n",
       " 0.43333333333333335,\n",
       " 0.43333333333333335,\n",
       " 0.43333333333333335,\n",
       " 0.43333333333333335,\n",
       " 0.43333333333333335,\n",
       " 0.43333333333333335,\n",
       " 0.43333333333333335,\n",
       " 0.43333333333333335,\n",
       " 0.43333333333333335,\n",
       " 0.43333333333333335,\n",
       " 0.43333333333333335,\n",
       " 0.43333333333333335,\n",
       " 0.43333333333333335,\n",
       " 0.43333333333333335,\n",
       " 0.43333333333333335,\n",
       " 0.43333333333333335,\n",
       " 0.43333333333333335,\n",
       " 0.43333333333333335,\n",
       " 0.43333333333333335,\n",
       " 0.43333333333333335,\n",
       " 0.43333333333333335,\n",
       " 0.43333333333333335,\n",
       " 0.43333333333333335,\n",
       " 0.43333333333333335,\n",
       " 0.43333333333333335,\n",
       " 0.43333333333333335,\n",
       " 0.43333333333333335,\n",
       " 0.43333333333333335,\n",
       " 0.43333333333333335,\n",
       " 0.43333333333333335,\n",
       " 0.43333333333333335,\n",
       " 0.43333333333333335,\n",
       " 0.43333333333333335,\n",
       " 0.43333333333333335,\n",
       " 0.43333333333333335,\n",
       " 0.43333333333333335,\n",
       " 0.43333333333333335,\n",
       " 0.43333333333333335,\n",
       " 0.34444444444444444,\n",
       " 0.34444444444444444,\n",
       " 0.34444444444444444,\n",
       " 0.34444444444444444,\n",
       " 0.34444444444444444,\n",
       " 0.34444444444444444,\n",
       " 0.34444444444444444,\n",
       " 0.34444444444444444,\n",
       " 0.34444444444444444,\n",
       " 0.34444444444444444,\n",
       " 0.34444444444444444,\n",
       " 0.34444444444444444,\n",
       " 0.34444444444444444,\n",
       " 0.34444444444444444,\n",
       " 0.34444444444444444,\n",
       " 0.34444444444444444,\n",
       " 0.34444444444444444,\n",
       " 0.34444444444444444,\n",
       " 0.34444444444444444,\n",
       " 0.34444444444444444,\n",
       " 0.34444444444444444,\n",
       " 0.34444444444444444,\n",
       " 0.34444444444444444,\n",
       " 0.34444444444444444,\n",
       " 0.34444444444444444,\n",
       " 0.34444444444444444,\n",
       " 0.34444444444444444,\n",
       " 0.34444444444444444,\n",
       " 0.34444444444444444,\n",
       " 0.34444444444444444,\n",
       " 0.34444444444444444,\n",
       " 0.34444444444444444,\n",
       " 0.34444444444444444,\n",
       " 0.34444444444444444,\n",
       " 0.34444444444444444,\n",
       " 0.34444444444444444,\n",
       " 0.34444444444444444,\n",
       " 0.34444444444444444,\n",
       " 0.34444444444444444,\n",
       " 0.34444444444444444,\n",
       " 0.34444444444444444,\n",
       " 0.34444444444444444,\n",
       " 0.34444444444444444,\n",
       " 0.34444444444444444,\n",
       " 0.34444444444444444,\n",
       " 0.34444444444444444,\n",
       " 0.34444444444444444,\n",
       " 0.34444444444444444,\n",
       " 0.34444444444444444,\n",
       " 0.34444444444444444,\n",
       " 0.34444444444444444,\n",
       " 0.34444444444444444,\n",
       " 0.34444444444444444,\n",
       " 0.34444444444444444,\n",
       " 0.34444444444444444,\n",
       " 0.34444444444444444,\n",
       " 0.34444444444444444,\n",
       " 0.34444444444444444,\n",
       " 0.34444444444444444,\n",
       " 0.34444444444444444,\n",
       " 0.34444444444444444,\n",
       " 0.34444444444444444,\n",
       " 0.34444444444444444,\n",
       " 0.34444444444444444,\n",
       " 0.34444444444444444,\n",
       " 0.34444444444444444,\n",
       " 0.34444444444444444,\n",
       " 0.34444444444444444,\n",
       " 0.34444444444444444,\n",
       " 0.34444444444444444,\n",
       " 0.34444444444444444,\n",
       " 0.34444444444444444,\n",
       " 0.34444444444444444,\n",
       " 0.25555555555555554,\n",
       " 0.25555555555555554,\n",
       " 0.25555555555555554,\n",
       " 0.25555555555555554,\n",
       " 0.25555555555555554,\n",
       " 0.25555555555555554,\n",
       " 0.25555555555555554,\n",
       " 0.25555555555555554,\n",
       " 0.25555555555555554,\n",
       " 0.25555555555555554,\n",
       " 0.25555555555555554,\n",
       " 0.25555555555555554,\n",
       " 0.25555555555555554,\n",
       " 0.25555555555555554,\n",
       " 0.25555555555555554,\n",
       " 0.25555555555555554,\n",
       " 0.25555555555555554,\n",
       " 0.25555555555555554,\n",
       " 0.25555555555555554,\n",
       " 0.25555555555555554,\n",
       " 0.25555555555555554,\n",
       " 0.25555555555555554,\n",
       " 0.25555555555555554,\n",
       " 0.25555555555555554,\n",
       " 0.25555555555555554,\n",
       " 0.25555555555555554,\n",
       " 0.25555555555555554,\n",
       " 0.25555555555555554,\n",
       " 0.25555555555555554,\n",
       " 0.25555555555555554,\n",
       " 0.25555555555555554,\n",
       " 0.25555555555555554,\n",
       " 0.25555555555555554,\n",
       " 0.25555555555555554,\n",
       " 0.25555555555555554,\n",
       " 0.25555555555555554,\n",
       " 0.25555555555555554,\n",
       " 0.25555555555555554,\n",
       " 0.25555555555555554,\n",
       " 0.25555555555555554,\n",
       " 0.25555555555555554,\n",
       " 0.25555555555555554,\n",
       " 0.25555555555555554,\n",
       " 0.25555555555555554,\n",
       " 0.25555555555555554,\n",
       " 0.25555555555555554,\n",
       " 0.25555555555555554,\n",
       " 0.25555555555555554,\n",
       " 0.25555555555555554,\n",
       " 0.25555555555555554,\n",
       " 0.25555555555555554,\n",
       " 0.25555555555555554,\n",
       " 0.25555555555555554,\n",
       " 0.25555555555555554,\n",
       " 0.25555555555555554,\n",
       " 0.25555555555555554,\n",
       " 0.25555555555555554,\n",
       " 0.25555555555555554,\n",
       " 0.25555555555555554,\n",
       " 0.25555555555555554,\n",
       " 0.16666666666666666,\n",
       " 0.16666666666666666,\n",
       " 0.16666666666666666,\n",
       " 0.16666666666666666,\n",
       " 0.16666666666666666,\n",
       " 0.16666666666666666,\n",
       " 0.16666666666666666,\n",
       " 0.16666666666666666,\n",
       " 0.16666666666666666,\n",
       " 0.16666666666666666,\n",
       " 0.16666666666666666,\n",
       " 0.16666666666666666,\n",
       " 0.16666666666666666,\n",
       " 0.16666666666666666,\n",
       " 0.16666666666666666,\n",
       " 0.16666666666666666,\n",
       " 0.16666666666666666,\n",
       " 0.16666666666666666,\n",
       " 0.16666666666666666,\n",
       " 0.16666666666666666,\n",
       " 0.16666666666666666,\n",
       " 0.16666666666666666,\n",
       " 0.16666666666666666,\n",
       " 0.16666666666666666,\n",
       " 0.16666666666666666,\n",
       " 0.16666666666666666,\n",
       " 0.16666666666666666,\n",
       " 0.16666666666666666,\n",
       " 0.16666666666666666,\n",
       " 0.16666666666666666,\n",
       " 0.16666666666666666,\n",
       " 0.16666666666666666,\n",
       " 0.16666666666666666,\n",
       " 0.16666666666666666,\n",
       " 0.16666666666666666,\n",
       " 0.16666666666666666,\n",
       " 0.16666666666666666,\n",
       " 0.16666666666666666,\n",
       " 0.16666666666666666,\n",
       " 0.16666666666666666,\n",
       " 0.16666666666666666,\n",
       " 0.16666666666666666,\n",
       " 0.16666666666666666,\n",
       " 0.16666666666666666,\n",
       " 0.16666666666666666,\n",
       " 0.16666666666666666,\n",
       " 0.16666666666666666,\n",
       " 0.13333333333333333,\n",
       " 0.13333333333333333,\n",
       " 0.13333333333333333,\n",
       " 0.13333333333333333,\n",
       " 0.13333333333333333,\n",
       " 0.13333333333333333,\n",
       " 0.13333333333333333,\n",
       " 0.13333333333333333,\n",
       " 0.13333333333333333,\n",
       " 0.13333333333333333,\n",
       " 0.13333333333333333,\n",
       " 0.13333333333333333,\n",
       " 0.13333333333333333,\n",
       " 0.13333333333333333,\n",
       " 0.13333333333333333,\n",
       " 0.13333333333333333,\n",
       " 0.13333333333333333,\n",
       " 0.13333333333333333,\n",
       " 0.13333333333333333,\n",
       " 0.13333333333333333,\n",
       " 0.13333333333333333,\n",
       " 0.13333333333333333,\n",
       " 0.13333333333333333,\n",
       " 0.13333333333333333,\n",
       " 0.13333333333333333,\n",
       " 0.13333333333333333,\n",
       " 0.13333333333333333,\n",
       " 0.13333333333333333,\n",
       " 0.13333333333333333,\n",
       " 0.13333333333333333,\n",
       " 0.13333333333333333,\n",
       " 0.13333333333333333,\n",
       " 0.13333333333333333,\n",
       " 0.13333333333333333,\n",
       " 0.13333333333333333,\n",
       " 0.13333333333333333,\n",
       " 0.06666666666666667,\n",
       " 0.06666666666666667,\n",
       " 0.06666666666666667,\n",
       " 0.06666666666666667,\n",
       " 0.06666666666666667,\n",
       " 0.06666666666666667,\n",
       " 0.06666666666666667,\n",
       " 0.06666666666666667,\n",
       " 0.06666666666666667,\n",
       " 0.06666666666666667,\n",
       " 0.06666666666666667,\n",
       " 0.06666666666666667,\n",
       " 0.06666666666666667,\n",
       " 0.06666666666666667,\n",
       " 0.06666666666666667,\n",
       " 0.06666666666666667,\n",
       " 0.06666666666666667,\n",
       " 0.06666666666666667,\n",
       " 0.06666666666666667,\n",
       " 0.06666666666666667,\n",
       " 0.06666666666666667,\n",
       " 0.06666666666666667,\n",
       " 0.06666666666666667,\n",
       " 0.06666666666666667,\n",
       " 0.06666666666666667,\n",
       " 0.06666666666666667,\n",
       " 0.022222222222222223,\n",
       " 0.022222222222222223,\n",
       " 0.022222222222222223,\n",
       " 0.022222222222222223,\n",
       " 0.022222222222222223,\n",
       " 0.022222222222222223,\n",
       " 0.022222222222222223,\n",
       " 0.022222222222222223,\n",
       " 0.022222222222222223,\n",
       " 0.022222222222222223,\n",
       " 0.022222222222222223,\n",
       " 0.022222222222222223,\n",
       " 0.022222222222222223,\n",
       " 0.022222222222222223,\n",
       " 0.022222222222222223,\n",
       " 0.022222222222222223,\n",
       " 0.022222222222222223,\n",
       " 0.022222222222222223,\n",
       " 0.022222222222222223,\n",
       " 0.011111111111111112,\n",
       " 0.011111111111111112,\n",
       " 0.011111111111111112,\n",
       " 0.011111111111111112,\n",
       " 0.011111111111111112,\n",
       " 0.011111111111111112,\n",
       " 0.011111111111111112,\n",
       " 0.011111111111111112,\n",
       " 0.011111111111111112,\n",
       " 0.011111111111111112,\n",
       " 0.011111111111111112,\n",
       " 0.011111111111111112,\n",
       " 0.011111111111111112,\n",
       " 0.011111111111111112,\n",
       " 0.0,\n",
       " 0.0,\n",
       " 0.0,\n",
       " 0.0,\n",
       " 0.0,\n",
       " 0.0,\n",
       " 0.0,\n",
       " 0.0,\n",
       " 0.0,\n",
       " 0.0,\n",
       " 0.0,\n",
       " 0.0,\n",
       " 0.0,\n",
       " 0.0,\n",
       " 0.0,\n",
       " 0.0,\n",
       " 0.0,\n",
       " 0.0,\n",
       " 0.0,\n",
       " 0.0,\n",
       " 0.0,\n",
       " 0.0,\n",
       " 0.0,\n",
       " 0.0,\n",
       " 0.0,\n",
       " 0.0,\n",
       " 0.0,\n",
       " 0.0,\n",
       " 0.0,\n",
       " 0.0,\n",
       " 0.0,\n",
       " 0.0]"
      ]
     },
     "execution_count": 96,
     "metadata": {},
     "output_type": "execute_result"
    }
   ],
   "source": [
    "success_rates"
   ]
  },
  {
   "cell_type": "code",
   "execution_count": 92,
   "metadata": {},
   "outputs": [
    {
     "data": {
      "image/png": "[encoded data removed]",
      "text/plain": [
       "<Figure size 720x360 with 1 Axes>"
      ]
     },
     "metadata": {
      "needs_background": "light"
     },
     "output_type": "display_data"
    },
    {
     "name": "stdout",
     "output_type": "stream",
     "text": [
      "\n",
      "Done!\n"
     ]
    }
   ],
   "source": [
    "fig = plt.figure(figsize=(10, 5))\n",
    "axis = plt.gca()\n",
    "plt.plot(list(np.linspace(0, 1, 1000)), success_rates)\n",
    "plt.axhline(df[\"aumento_valor\"].sum() / 90, color='red', linewidth=1)\n",
    "plt.xlim(0, 1)\n",
    "fig.tight_layout()\n",
    "plt.show()\n",
    "plt.close(plt.gcf())\n",
    "print('\\nDone!')"
   ]
  },
  {
   "cell_type": "code",
   "execution_count": 35,
   "metadata": {},
   "outputs": [
    {
     "data": {
      "text/plain": [
       "<matplotlib.axes._subplots.AxesSubplot at 0x2037bf6cb48>"
      ]
     },
     "execution_count": 35,
     "metadata": {},
     "output_type": "execute_result"
    },
    {
     "data": {
      "image/png": "[encoded data removed]",
      "text/plain": [
       "<Figure size 432x288 with 1 Axes>"
      ]
     },
     "metadata": {
      "needs_background": "light"
     },
     "output_type": "display_data"
    }
   ],
   "source": [
    "sns.regplot(x=Y_hat_ps_sig, y=df[\"aumento_valor\"], data=df, logistic=True)"
   ]
  },
  {
   "cell_type": "code",
   "execution_count": 47,
   "metadata": {},
   "outputs": [
    {
     "data": {
      "text/plain": [
       "22"
      ]
     },
     "execution_count": 47,
     "metadata": {},
     "output_type": "execute_result"
    }
   ],
   "source": [
    "mas_8 = df[df[\"goles\"]>=8]\n",
    "ass=mas_8[mas_8[\"edad\"]>=27]\n",
    "len(ass)"
   ]
  },
  {
   "cell_type": "code",
   "execution_count": 50,
   "metadata": {},
   "outputs": [
    {
     "data": {
      "application/vnd.plotly.v1+json": {
       "config": {
        "plotlyServerURL": "https://plot.ly"
       },
       "data": [
        {
         "marker": {
          "color": "red",
          "colorscale": [
           [
            0,
            "rgb(3, 35, 51)"
           ],
           [
            0.09090909090909091,
            "rgb(13, 48, 100)"
           ],
           [
            0.18181818181818182,
            "rgb(53, 50, 155)"
           ],
           [
            0.2727272727272727,
            "rgb(93, 62, 153)"
           ],
           [
            0.36363636363636365,
            "rgb(126, 77, 143)"
           ],
           [
            0.45454545454545453,
            "rgb(158, 89, 135)"
           ],
           [
            0.5454545454545454,
            "rgb(193, 100, 121)"
           ],
           [
            0.6363636363636364,
            "rgb(225, 113, 97)"
           ],
           [
            0.7272727272727273,
            "rgb(246, 139, 69)"
           ],
           [
            0.8181818181818182,
            "rgb(251, 173, 60)"
           ],
           [
            0.9090909090909091,
            "rgb(246, 211, 70)"
           ],
           [
            1,
            "rgb(231, 250, 90)"
           ]
          ],
          "opacity": 0.8,
          "size": 12
         },
         "mode": "markers",
         "name": "mayores de 27",
         "text": [
          "neymar",
          "sadio-mane",
          "mohamed-salah",
          "lionel-messi",
          "antoine-griezmann",
          "eden-hazard",
          "roberto-firmino",
          "pierre-emerick-aubameyang",
          "robert-lewandowski",
          "riyad-mahrez",
          "wilfried-zaha",
          "hakim-ziyech",
          "florian-thauvin",
          "thorgan-hazard",
          "lucas-moura",
          "angel-di-maria",
          "gareth-bale",
          "marco-reus",
          "karim-benzema",
          "andrej-kramaric",
          "kevin-volland",
          "pablo-sarabia",
          "luis-suarez",
          "heung-min-son",
          "mauro-icardi",
          "cristiano-ronaldo",
          "sergio-aguero",
          "lorenzo-insigne",
          "alexandre-lacazette",
          "wissam-ben-yedder",
          "rodrigo",
          "ciro-immobile",
          "alvaro-morata",
          "duvan-zapata",
          "raul-jimenez"
         ],
         "textposition": "top right",
         "type": "scatter",
         "x": [
          13,
          14,
          16,
          19,
          8,
          1,
          8,
          17,
          25,
          7,
          3,
          6,
          0,
          5,
          0,
          8,
          2,
          11,
          14,
          7,
          9,
          4,
          11,
          9,
          12,
          21,
          16,
          5,
          7,
          18,
          2,
          27,
          8,
          11,
          13
         ],
         "y": [
          28,
          28,
          27,
          32,
          29,
          29,
          28,
          30,
          31,
          29,
          27,
          27,
          27,
          27,
          27,
          32,
          30,
          30,
          32,
          28,
          27,
          27,
          33,
          27,
          27,
          35,
          31,
          28,
          28,
          29,
          29,
          30,
          27,
          29,
          29
         ]
        },
        {
         "marker": {
          "color": "blue",
          "colorscale": [
           [
            0,
            "rgb(3, 35, 51)"
           ],
           [
            0.09090909090909091,
            "rgb(13, 48, 100)"
           ],
           [
            0.18181818181818182,
            "rgb(53, 50, 155)"
           ],
           [
            0.2727272727272727,
            "rgb(93, 62, 153)"
           ],
           [
            0.36363636363636365,
            "rgb(126, 77, 143)"
           ],
           [
            0.45454545454545453,
            "rgb(158, 89, 135)"
           ],
           [
            0.5454545454545454,
            "rgb(193, 100, 121)"
           ],
           [
            0.6363636363636364,
            "rgb(225, 113, 97)"
           ],
           [
            0.7272727272727273,
            "rgb(246, 139, 69)"
           ],
           [
            0.8181818181818182,
            "rgb(251, 173, 60)"
           ],
           [
            0.9090909090909091,
            "rgb(246, 211, 70)"
           ],
           [
            1,
            "rgb(231, 250, 90)"
           ]
          ],
          "opacity": 0.8,
          "size": 12
         },
         "mode": "markers",
         "name": "menores de 27",
         "text": [
          "kylian-mbappe",
          "raheem-sterling",
          "harry-kane",
          "jadon-sancho",
          "joao-felix",
          "bernardo-silva",
          "leroy-sane",
          "erling-haaland",
          "paulo-dybala",
          "serge-gnabry",
          "romelu-lukaku",
          "lautaro-martinez",
          "marcus-rashford",
          "timo-werner",
          "federico-chiesa",
          "anthony-martial",
          "memphis-depay",
          "tammy-abraham",
          "inaki-williams",
          "kingsley-coman",
          "moussa-dembele",
          "david-neres",
          "ansu-fati",
          "sebastien-haller",
          "maxi-gomez",
          "marco-asensio",
          "angel-correa",
          "luka-jovic",
          "arkadiusz-milik",
          "lucas-ocampos",
          "andrea-belotti",
          "marcel-sabitzer",
          "dejan-kulusevski",
          "callum-hudson-odoi",
          "malcom",
          "joaquin-correa",
          "leon-bailey",
          "mason-greenwood",
          "paco-alcacer",
          "victor-osimhen",
          "samu-chukwueze",
          "moussa-diaby",
          "gabriel-jesus",
          "ousmane-dembele",
          "christian-pulisic",
          "richarlison",
          "nicolas-pepe",
          "rodrygo",
          "ferran-torres",
          "vinicius-junior",
          "everton",
          "hirving-lozano",
          "milot-rashica",
          "steven-bergwijn",
          "federico-bernardeschi"
         ],
         "textposition": "top right",
         "type": "scatter",
         "x": [
          18,
          11,
          11,
          14,
          4,
          5,
          0,
          9,
          7,
          11,
          17,
          11,
          14,
          21,
          6,
          11,
          9,
          13,
          0,
          2,
          16,
          6,
          4,
          7,
          9,
          0,
          5,
          2,
          9,
          10,
          9,
          8,
          5,
          1,
          1,
          7,
          5,
          5,
          7,
          13,
          3,
          4,
          10,
          1,
          5,
          10,
          4,
          2,
          4,
          2,
          0,
          2,
          7,
          7,
          0
         ],
         "y": [
          21,
          25,
          26,
          20,
          20,
          25,
          24,
          19,
          26,
          24,
          26,
          22,
          22,
          24,
          22,
          24,
          26,
          22,
          25,
          23,
          23,
          23,
          17,
          25,
          23,
          24,
          25,
          22,
          26,
          25,
          26,
          26,
          20,
          19,
          23,
          25,
          22,
          18,
          26,
          21,
          20,
          20,
          23,
          22,
          21,
          23,
          24,
          19,
          20,
          19,
          24,
          24,
          23,
          22,
          26
         ]
        },
        {
         "line": {
          "color": "black",
          "dash": "solid",
          "width": 5
         },
         "mode": "lines",
         "name": "media",
         "text": [
          "media"
         ],
         "textposition": "top right",
         "type": "scatter",
         "x": [
          8.233333333333333,
          8.233333333333333,
          8.233333333333333,
          8.233333333333333,
          8.233333333333333,
          8.233333333333333,
          8.233333333333333,
          8.233333333333333,
          8.233333333333333,
          8.233333333333333,
          8.233333333333333,
          8.233333333333333,
          8.233333333333333,
          8.233333333333333,
          8.233333333333333,
          8.233333333333333,
          8.233333333333333,
          8.233333333333333,
          8.233333333333333,
          8.233333333333333,
          8.233333333333333,
          8.233333333333333,
          8.233333333333333,
          8.233333333333333,
          8.233333333333333,
          8.233333333333333,
          8.233333333333333,
          8.233333333333333,
          8.233333333333333,
          8.233333333333333,
          8.233333333333333,
          8.233333333333333,
          8.233333333333333,
          8.233333333333333,
          8.233333333333333,
          8.233333333333333,
          8.233333333333333,
          8.233333333333333,
          8.233333333333333,
          8.233333333333333,
          8.233333333333333,
          8.233333333333333,
          8.233333333333333,
          8.233333333333333,
          8.233333333333333,
          8.233333333333333,
          8.233333333333333,
          8.233333333333333,
          8.233333333333333,
          8.233333333333333,
          8.233333333333333,
          8.233333333333333,
          8.233333333333333,
          8.233333333333333,
          8.233333333333333,
          8.233333333333333,
          8.233333333333333,
          8.233333333333333,
          8.233333333333333,
          8.233333333333333,
          8.233333333333333,
          8.233333333333333,
          8.233333333333333,
          8.233333333333333,
          8.233333333333333,
          8.233333333333333,
          8.233333333333333,
          8.233333333333333,
          8.233333333333333,
          8.233333333333333,
          8.233333333333333,
          8.233333333333333,
          8.233333333333333,
          8.233333333333333,
          8.233333333333333,
          8.233333333333333,
          8.233333333333333,
          8.233333333333333,
          8.233333333333333,
          8.233333333333333,
          8.233333333333333,
          8.233333333333333,
          8.233333333333333,
          8.233333333333333,
          8.233333333333333,
          8.233333333333333,
          8.233333333333333,
          8.233333333333333,
          8.233333333333333,
          8.233333333333333
         ],
         "y": [
          21,
          25,
          28,
          28,
          27,
          26,
          20,
          32,
          29,
          20,
          25,
          24,
          29,
          19,
          26,
          24,
          28,
          26,
          22,
          22,
          24,
          30,
          31,
          22,
          24,
          29,
          26,
          27,
          22,
          25,
          23,
          23,
          27,
          23,
          17,
          25,
          23,
          24,
          25,
          22,
          26,
          25,
          27,
          26,
          26,
          27,
          27,
          32,
          30,
          30,
          32,
          20,
          19,
          23,
          25,
          28,
          22,
          18,
          26,
          27,
          27,
          33,
          21,
          20,
          20,
          27,
          27,
          35,
          23,
          22,
          21,
          23,
          24,
          31,
          28,
          28,
          19,
          20,
          19,
          29,
          29,
          30,
          27,
          24,
          24,
          23,
          22,
          29,
          29,
          26
         ]
        }
       ],
       "layout": {
        "height": 500,
        "template": {
         "data": {
          "bar": [
           {
            "error_x": {
             "color": "#2a3f5f"
            },
            "error_y": {
             "color": "#2a3f5f"
            },
            "marker": {
             "line": {
              "color": "#E5ECF6",
              "width": 0.5
             }
            },
            "type": "bar"
           }
          ],
          "barpolar": [
           {
            "marker": {
             "line": {
              "color": "#E5ECF6",
              "width": 0.5
             }
            },
            "type": "barpolar"
           }
          ],
          "carpet": [
           {
            "aaxis": {
             "endlinecolor": "#2a3f5f",
             "gridcolor": "white",
             "linecolor": "white",
             "minorgridcolor": "white",
             "startlinecolor": "#2a3f5f"
            },
            "baxis": {
             "endlinecolor": "#2a3f5f",
             "gridcolor": "white",
             "linecolor": "white",
             "minorgridcolor": "white",
             "startlinecolor": "#2a3f5f"
            },
            "type": "carpet"
           }
          ],
          "choropleth": [
           {
            "colorbar": {
             "outlinewidth": 0,
             "ticks": ""
            },
            "type": "choropleth"
           }
          ],
          "contour": [
           {
            "colorbar": {
             "outlinewidth": 0,
             "ticks": ""
            },
            "colorscale": [
             [
              0,
              "#0d0887"
             ],
             [
              0.1111111111111111,
              "#46039f"
             ],
             [
              0.2222222222222222,
              "#7201a8"
             ],
             [
              0.3333333333333333,
              "#9c179e"
             ],
             [
              0.4444444444444444,
              "#bd3786"
             ],
             [
              0.5555555555555556,
              "#d8576b"
             ],
             [
              0.6666666666666666,
              "#ed7953"
             ],
             [
              0.7777777777777778,
              "#fb9f3a"
             ],
             [
              0.8888888888888888,
              "#fdca26"
             ],
             [
              1,
              "#f0f921"
             ]
            ],
            "type": "contour"
           }
          ],
          "contourcarpet": [
           {
            "colorbar": {
             "outlinewidth": 0,
             "ticks": ""
            },
            "type": "contourcarpet"
           }
          ],
          "heatmap": [
           {
            "colorbar": {
             "outlinewidth": 0,
             "ticks": ""
            },
            "colorscale": [
             [
              0,
              "#0d0887"
             ],
             [
              0.1111111111111111,
              "#46039f"
             ],
             [
              0.2222222222222222,
              "#7201a8"
             ],
             [
              0.3333333333333333,
              "#9c179e"
             ],
             [
              0.4444444444444444,
              "#bd3786"
             ],
             [
              0.5555555555555556,
              "#d8576b"
             ],
             [
              0.6666666666666666,
              "#ed7953"
             ],
             [
              0.7777777777777778,
              "#fb9f3a"
             ],
             [
              0.8888888888888888,
              "#fdca26"
             ],
             [
              1,
              "#f0f921"
             ]
            ],
            "type": "heatmap"
           }
          ],
          "heatmapgl": [
           {
            "colorbar": {
             "outlinewidth": 0,
             "ticks": ""
            },
            "colorscale": [
             [
              0,
              "#0d0887"
             ],
             [
              0.1111111111111111,
              "#46039f"
             ],
             [
              0.2222222222222222,
              "#7201a8"
             ],
             [
              0.3333333333333333,
              "#9c179e"
             ],
             [
              0.4444444444444444,
              "#bd3786"
             ],
             [
              0.5555555555555556,
              "#d8576b"
             ],
             [
              0.6666666666666666,
              "#ed7953"
             ],
             [
              0.7777777777777778,
              "#fb9f3a"
             ],
             [
              0.8888888888888888,
              "#fdca26"
             ],
             [
              1,
              "#f0f921"
             ]
            ],
            "type": "heatmapgl"
           }
          ],
          "histogram": [
           {
            "marker": {
             "colorbar": {
              "outlinewidth": 0,
              "ticks": ""
             }
            },
            "type": "histogram"
           }
          ],
          "histogram2d": [
           {
            "colorbar": {
             "outlinewidth": 0,
             "ticks": ""
            },
            "colorscale": [
             [
              0,
              "#0d0887"
             ],
             [
              0.1111111111111111,
              "#46039f"
             ],
             [
              0.2222222222222222,
              "#7201a8"
             ],
             [
              0.3333333333333333,
              "#9c179e"
             ],
             [
              0.4444444444444444,
              "#bd3786"
             ],
             [
              0.5555555555555556,
              "#d8576b"
             ],
             [
              0.6666666666666666,
              "#ed7953"
             ],
             [
              0.7777777777777778,
              "#fb9f3a"
             ],
             [
              0.8888888888888888,
              "#fdca26"
             ],
             [
              1,
              "#f0f921"
             ]
            ],
            "type": "histogram2d"
           }
          ],
          "histogram2dcontour": [
           {
            "colorbar": {
             "outlinewidth": 0,
             "ticks": ""
            },
            "colorscale": [
             [
              0,
              "#0d0887"
             ],
             [
              0.1111111111111111,
              "#46039f"
             ],
             [
              0.2222222222222222,
              "#7201a8"
             ],
             [
              0.3333333333333333,
              "#9c179e"
             ],
             [
              0.4444444444444444,
              "#bd3786"
             ],
             [
              0.5555555555555556,
              "#d8576b"
             ],
             [
              0.6666666666666666,
              "#ed7953"
             ],
             [
              0.7777777777777778,
              "#fb9f3a"
             ],
             [
              0.8888888888888888,
              "#fdca26"
             ],
             [
              1,
              "#f0f921"
             ]
            ],
            "type": "histogram2dcontour"
           }
          ],
          "mesh3d": [
           {
            "colorbar": {
             "outlinewidth": 0,
             "ticks": ""
            },
            "type": "mesh3d"
           }
          ],
          "parcoords": [
           {
            "line": {
             "colorbar": {
              "outlinewidth": 0,
              "ticks": ""
             }
            },
            "type": "parcoords"
           }
          ],
          "pie": [
           {
            "automargin": true,
            "type": "pie"
           }
          ],
          "scatter": [
           {
            "marker": {
             "colorbar": {
              "outlinewidth": 0,
              "ticks": ""
             }
            },
            "type": "scatter"
           }
          ],
          "scatter3d": [
           {
            "line": {
             "colorbar": {
              "outlinewidth": 0,
              "ticks": ""
             }
            },
            "marker": {
             "colorbar": {
              "outlinewidth": 0,
              "ticks": ""
             }
            },
            "type": "scatter3d"
           }
          ],
          "scattercarpet": [
           {
            "marker": {
             "colorbar": {
              "outlinewidth": 0,
              "ticks": ""
             }
            },
            "type": "scattercarpet"
           }
          ],
          "scattergeo": [
           {
            "marker": {
             "colorbar": {
              "outlinewidth": 0,
              "ticks": ""
             }
            },
            "type": "scattergeo"
           }
          ],
          "scattergl": [
           {
            "marker": {
             "colorbar": {
              "outlinewidth": 0,
              "ticks": ""
             }
            },
            "type": "scattergl"
           }
          ],
          "scattermapbox": [
           {
            "marker": {
             "colorbar": {
              "outlinewidth": 0,
              "ticks": ""
             }
            },
            "type": "scattermapbox"
           }
          ],
          "scatterpolar": [
           {
            "marker": {
             "colorbar": {
              "outlinewidth": 0,
              "ticks": ""
             }
            },
            "type": "scatterpolar"
           }
          ],
          "scatterpolargl": [
           {
            "marker": {
             "colorbar": {
              "outlinewidth": 0,
              "ticks": ""
             }
            },
            "type": "scatterpolargl"
           }
          ],
          "scatterternary": [
           {
            "marker": {
             "colorbar": {
              "outlinewidth": 0,
              "ticks": ""
             }
            },
            "type": "scatterternary"
           }
          ],
          "surface": [
           {
            "colorbar": {
             "outlinewidth": 0,
             "ticks": ""
            },
            "colorscale": [
             [
              0,
              "#0d0887"
             ],
             [
              0.1111111111111111,
              "#46039f"
             ],
             [
              0.2222222222222222,
              "#7201a8"
             ],
             [
              0.3333333333333333,
              "#9c179e"
             ],
             [
              0.4444444444444444,
              "#bd3786"
             ],
             [
              0.5555555555555556,
              "#d8576b"
             ],
             [
              0.6666666666666666,
              "#ed7953"
             ],
             [
              0.7777777777777778,
              "#fb9f3a"
             ],
             [
              0.8888888888888888,
              "#fdca26"
             ],
             [
              1,
              "#f0f921"
             ]
            ],
            "type": "surface"
           }
          ],
          "table": [
           {
            "cells": {
             "fill": {
              "color": "#EBF0F8"
             },
             "line": {
              "color": "white"
             }
            },
            "header": {
             "fill": {
              "color": "#C8D4E3"
             },
             "line": {
              "color": "white"
             }
            },
            "type": "table"
           }
          ]
         },
         "layout": {
          "annotationdefaults": {
           "arrowcolor": "#2a3f5f",
           "arrowhead": 0,
           "arrowwidth": 1
          },
          "coloraxis": {
           "colorbar": {
            "outlinewidth": 0,
            "ticks": ""
           }
          },
          "colorscale": {
           "diverging": [
            [
             0,
             "#8e0152"
            ],
            [
             0.1,
             "#c51b7d"
            ],
            [
             0.2,
             "#de77ae"
            ],
            [
             0.3,
             "#f1b6da"
            ],
            [
             0.4,
             "#fde0ef"
            ],
            [
             0.5,
             "#f7f7f7"
            ],
            [
             0.6,
             "#e6f5d0"
            ],
            [
             0.7,
             "#b8e186"
            ],
            [
             0.8,
             "#7fbc41"
            ],
            [
             0.9,
             "#4d9221"
            ],
            [
             1,
             "#276419"
            ]
           ],
           "sequential": [
            [
             0,
             "#0d0887"
            ],
            [
             0.1111111111111111,
             "#46039f"
            ],
            [
             0.2222222222222222,
             "#7201a8"
            ],
            [
             0.3333333333333333,
             "#9c179e"
            ],
            [
             0.4444444444444444,
             "#bd3786"
            ],
            [
             0.5555555555555556,
             "#d8576b"
            ],
            [
             0.6666666666666666,
             "#ed7953"
            ],
            [
             0.7777777777777778,
             "#fb9f3a"
            ],
            [
             0.8888888888888888,
             "#fdca26"
            ],
            [
             1,
             "#f0f921"
            ]
           ],
           "sequentialminus": [
            [
             0,
             "#0d0887"
            ],
            [
             0.1111111111111111,
             "#46039f"
            ],
            [
             0.2222222222222222,
             "#7201a8"
            ],
            [
             0.3333333333333333,
             "#9c179e"
            ],
            [
             0.4444444444444444,
             "#bd3786"
            ],
            [
             0.5555555555555556,
             "#d8576b"
            ],
            [
             0.6666666666666666,
             "#ed7953"
            ],
            [
             0.7777777777777778,
             "#fb9f3a"
            ],
            [
             0.8888888888888888,
             "#fdca26"
            ],
            [
             1,
             "#f0f921"
            ]
           ]
          },
          "colorway": [
           "#636efa",
           "#EF553B",
           "#00cc96",
           "#ab63fa",
           "#FFA15A",
           "#19d3f3",
           "#FF6692",
           "#B6E880",
           "#FF97FF",
           "#FECB52"
          ],
          "font": {
           "color": "#2a3f5f"
          },
          "geo": {
           "bgcolor": "white",
           "lakecolor": "white",
           "landcolor": "#E5ECF6",
           "showlakes": true,
           "showland": true,
           "subunitcolor": "white"
          },
          "hoverlabel": {
           "align": "left"
          },
          "hovermode": "closest",
          "mapbox": {
           "style": "light"
          },
          "paper_bgcolor": "white",
          "plot_bgcolor": "#E5ECF6",
          "polar": {
           "angularaxis": {
            "gridcolor": "white",
            "linecolor": "white",
            "ticks": ""
           },
           "bgcolor": "#E5ECF6",
           "radialaxis": {
            "gridcolor": "white",
            "linecolor": "white",
            "ticks": ""
           }
          },
          "scene": {
           "xaxis": {
            "backgroundcolor": "#E5ECF6",
            "gridcolor": "white",
            "gridwidth": 2,
            "linecolor": "white",
            "showbackground": true,
            "ticks": "",
            "zerolinecolor": "white"
           },
           "yaxis": {
            "backgroundcolor": "#E5ECF6",
            "gridcolor": "white",
            "gridwidth": 2,
            "linecolor": "white",
            "showbackground": true,
            "ticks": "",
            "zerolinecolor": "white"
           },
           "zaxis": {
            "backgroundcolor": "#E5ECF6",
            "gridcolor": "white",
            "gridwidth": 2,
            "linecolor": "white",
            "showbackground": true,
            "ticks": "",
            "zerolinecolor": "white"
           }
          },
          "shapedefaults": {
           "line": {
            "color": "#2a3f5f"
           }
          },
          "ternary": {
           "aaxis": {
            "gridcolor": "white",
            "linecolor": "white",
            "ticks": ""
           },
           "baxis": {
            "gridcolor": "white",
            "linecolor": "white",
            "ticks": ""
           },
           "bgcolor": "#E5ECF6",
           "caxis": {
            "gridcolor": "white",
            "linecolor": "white",
            "ticks": ""
           }
          },
          "title": {
           "x": 0.05
          },
          "xaxis": {
           "automargin": true,
           "gridcolor": "white",
           "linecolor": "white",
           "ticks": "",
           "title": {
            "standoff": 15
           },
           "zerolinecolor": "white",
           "zerolinewidth": 2
          },
          "yaxis": {
           "automargin": true,
           "gridcolor": "white",
           "linecolor": "white",
           "ticks": "",
           "title": {
            "standoff": 15
           },
           "zerolinecolor": "white",
           "zerolinewidth": 2
          }
         }
        },
        "title": {
         "text": "Goles vs Edad"
        },
        "xaxis": {
         "title": {
          "text": "Goles"
         }
        },
        "yaxis": {
         "title": {
          "text": "Edad"
         }
        }
       }
      },
      "text/html": [
       "<div>\n",
       "        \n",
       "        \n",
       "            <div id=\"d2eebf25-cf6e-4a8e-87bd-aded9e481b17\" class=\"plotly-graph-div\" style=\"height:500px; width:100%;\"></div>\n",
       "            <script type=\"text/javascript\">\n",
       "                require([\"plotly\"], function(Plotly) {\n",
       "                    window.PLOTLYENV=window.PLOTLYENV || {};\n",
       "                    \n",
       "                if (document.getElementById(\"d2eebf25-cf6e-4a8e-87bd-aded9e481b17\")) {\n",
       "                    Plotly.newPlot(\n",
       "                        'd2eebf25-cf6e-4a8e-87bd-aded9e481b17',\n",
       "                        [{\"marker\": {\"color\": \"red\", \"colorscale\": [[0.0, \"rgb(3, 35, 51)\"], [0.09090909090909091, \"rgb(13, 48, 100)\"], [0.18181818181818182, \"rgb(53, 50, 155)\"], [0.2727272727272727, \"rgb(93, 62, 153)\"], [0.36363636363636365, \"rgb(126, 77, 143)\"], [0.45454545454545453, \"rgb(158, 89, 135)\"], [0.5454545454545454, \"rgb(193, 100, 121)\"], [0.6363636363636364, \"rgb(225, 113, 97)\"], [0.7272727272727273, \"rgb(246, 139, 69)\"], [0.8181818181818182, \"rgb(251, 173, 60)\"], [0.9090909090909091, \"rgb(246, 211, 70)\"], [1.0, \"rgb(231, 250, 90)\"]], \"opacity\": 0.8, \"size\": 12}, \"mode\": \"markers\", \"name\": \"mayores de 27\", \"text\": [\"neymar\", \"sadio-mane\", \"mohamed-salah\", \"lionel-messi\", \"antoine-griezmann\", \"eden-hazard\", \"roberto-firmino\", \"pierre-emerick-aubameyang\", \"robert-lewandowski\", \"riyad-mahrez\", \"wilfried-zaha\", \"hakim-ziyech\", \"florian-thauvin\", \"thorgan-hazard\", \"lucas-moura\", \"angel-di-maria\", \"gareth-bale\", \"marco-reus\", \"karim-benzema\", \"andrej-kramaric\", \"kevin-volland\", \"pablo-sarabia\", \"luis-suarez\", \"heung-min-son\", \"mauro-icardi\", \"cristiano-ronaldo\", \"sergio-aguero\", \"lorenzo-insigne\", \"alexandre-lacazette\", \"wissam-ben-yedder\", \"rodrigo\", \"ciro-immobile\", \"alvaro-morata\", \"duvan-zapata\", \"raul-jimenez\"], \"textposition\": \"top right\", \"type\": \"scatter\", \"x\": [13, 14, 16, 19, 8, 1, 8, 17, 25, 7, 3, 6, 0, 5, 0, 8, 2, 11, 14, 7, 9, 4, 11, 9, 12, 21, 16, 5, 7, 18, 2, 27, 8, 11, 13], \"y\": [28, 28, 27, 32, 29, 29, 28, 30, 31, 29, 27, 27, 27, 27, 27, 32, 30, 30, 32, 28, 27, 27, 33, 27, 27, 35, 31, 28, 28, 29, 29, 30, 27, 29, 29]}, {\"marker\": {\"color\": \"blue\", \"colorscale\": [[0.0, \"rgb(3, 35, 51)\"], [0.09090909090909091, \"rgb(13, 48, 100)\"], [0.18181818181818182, \"rgb(53, 50, 155)\"], [0.2727272727272727, \"rgb(93, 62, 153)\"], [0.36363636363636365, \"rgb(126, 77, 143)\"], [0.45454545454545453, \"rgb(158, 89, 135)\"], [0.5454545454545454, \"rgb(193, 100, 121)\"], [0.6363636363636364, \"rgb(225, 113, 97)\"], [0.7272727272727273, \"rgb(246, 139, 69)\"], [0.8181818181818182, \"rgb(251, 173, 60)\"], [0.9090909090909091, \"rgb(246, 211, 70)\"], [1.0, \"rgb(231, 250, 90)\"]], \"opacity\": 0.8, \"size\": 12}, \"mode\": \"markers\", \"name\": \"menores de 27\", \"text\": [\"kylian-mbappe\", \"raheem-sterling\", \"harry-kane\", \"jadon-sancho\", \"joao-felix\", \"bernardo-silva\", \"leroy-sane\", \"erling-haaland\", \"paulo-dybala\", \"serge-gnabry\", \"romelu-lukaku\", \"lautaro-martinez\", \"marcus-rashford\", \"timo-werner\", \"federico-chiesa\", \"anthony-martial\", \"memphis-depay\", \"tammy-abraham\", \"inaki-williams\", \"kingsley-coman\", \"moussa-dembele\", \"david-neres\", \"ansu-fati\", \"sebastien-haller\", \"maxi-gomez\", \"marco-asensio\", \"angel-correa\", \"luka-jovic\", \"arkadiusz-milik\", \"lucas-ocampos\", \"andrea-belotti\", \"marcel-sabitzer\", \"dejan-kulusevski\", \"callum-hudson-odoi\", \"malcom\", \"joaquin-correa\", \"leon-bailey\", \"mason-greenwood\", \"paco-alcacer\", \"victor-osimhen\", \"samu-chukwueze\", \"moussa-diaby\", \"gabriel-jesus\", \"ousmane-dembele\", \"christian-pulisic\", \"richarlison\", \"nicolas-pepe\", \"rodrygo\", \"ferran-torres\", \"vinicius-junior\", \"everton\", \"hirving-lozano\", \"milot-rashica\", \"steven-bergwijn\", \"federico-bernardeschi\"], \"textposition\": \"top right\", \"type\": \"scatter\", \"x\": [18, 11, 11, 14, 4, 5, 0, 9, 7, 11, 17, 11, 14, 21, 6, 11, 9, 13, 0, 2, 16, 6, 4, 7, 9, 0, 5, 2, 9, 10, 9, 8, 5, 1, 1, 7, 5, 5, 7, 13, 3, 4, 10, 1, 5, 10, 4, 2, 4, 2, 0, 2, 7, 7, 0], \"y\": [21, 25, 26, 20, 20, 25, 24, 19, 26, 24, 26, 22, 22, 24, 22, 24, 26, 22, 25, 23, 23, 23, 17, 25, 23, 24, 25, 22, 26, 25, 26, 26, 20, 19, 23, 25, 22, 18, 26, 21, 20, 20, 23, 22, 21, 23, 24, 19, 20, 19, 24, 24, 23, 22, 26]}, {\"line\": {\"color\": \"black\", \"dash\": \"solid\", \"width\": 5}, \"mode\": \"lines\", \"name\": \"media\", \"text\": [\"media\"], \"textposition\": \"top right\", \"type\": \"scatter\", \"x\": [8.233333333333333, 8.233333333333333, 8.233333333333333, 8.233333333333333, 8.233333333333333, 8.233333333333333, 8.233333333333333, 8.233333333333333, 8.233333333333333, 8.233333333333333, 8.233333333333333, 8.233333333333333, 8.233333333333333, 8.233333333333333, 8.233333333333333, 8.233333333333333, 8.233333333333333, 8.233333333333333, 8.233333333333333, 8.233333333333333, 8.233333333333333, 8.233333333333333, 8.233333333333333, 8.233333333333333, 8.233333333333333, 8.233333333333333, 8.233333333333333, 8.233333333333333, 8.233333333333333, 8.233333333333333, 8.233333333333333, 8.233333333333333, 8.233333333333333, 8.233333333333333, 8.233333333333333, 8.233333333333333, 8.233333333333333, 8.233333333333333, 8.233333333333333, 8.233333333333333, 8.233333333333333, 8.233333333333333, 8.233333333333333, 8.233333333333333, 8.233333333333333, 8.233333333333333, 8.233333333333333, 8.233333333333333, 8.233333333333333, 8.233333333333333, 8.233333333333333, 8.233333333333333, 8.233333333333333, 8.233333333333333, 8.233333333333333, 8.233333333333333, 8.233333333333333, 8.233333333333333, 8.233333333333333, 8.233333333333333, 8.233333333333333, 8.233333333333333, 8.233333333333333, 8.233333333333333, 8.233333333333333, 8.233333333333333, 8.233333333333333, 8.233333333333333, 8.233333333333333, 8.233333333333333, 8.233333333333333, 8.233333333333333, 8.233333333333333, 8.233333333333333, 8.233333333333333, 8.233333333333333, 8.233333333333333, 8.233333333333333, 8.233333333333333, 8.233333333333333, 8.233333333333333, 8.233333333333333, 8.233333333333333, 8.233333333333333, 8.233333333333333, 8.233333333333333, 8.233333333333333, 8.233333333333333, 8.233333333333333, 8.233333333333333], \"y\": [21, 25, 28, 28, 27, 26, 20, 32, 29, 20, 25, 24, 29, 19, 26, 24, 28, 26, 22, 22, 24, 30, 31, 22, 24, 29, 26, 27, 22, 25, 23, 23, 27, 23, 17, 25, 23, 24, 25, 22, 26, 25, 27, 26, 26, 27, 27, 32, 30, 30, 32, 20, 19, 23, 25, 28, 22, 18, 26, 27, 27, 33, 21, 20, 20, 27, 27, 35, 23, 22, 21, 23, 24, 31, 28, 28, 19, 20, 19, 29, 29, 30, 27, 24, 24, 23, 22, 29, 29, 26]}],\n",
       "                        {\"height\": 500, \"template\": {\"data\": {\"bar\": [{\"error_x\": {\"color\": \"#2a3f5f\"}, \"error_y\": {\"color\": \"#2a3f5f\"}, \"marker\": {\"line\": {\"color\": \"#E5ECF6\", \"width\": 0.5}}, \"type\": \"bar\"}], \"barpolar\": [{\"marker\": {\"line\": {\"color\": \"#E5ECF6\", \"width\": 0.5}}, \"type\": \"barpolar\"}], \"carpet\": [{\"aaxis\": {\"endlinecolor\": \"#2a3f5f\", \"gridcolor\": \"white\", \"linecolor\": \"white\", \"minorgridcolor\": \"white\", \"startlinecolor\": \"#2a3f5f\"}, \"baxis\": {\"endlinecolor\": \"#2a3f5f\", \"gridcolor\": \"white\", \"linecolor\": \"white\", \"minorgridcolor\": \"white\", \"startlinecolor\": \"#2a3f5f\"}, \"type\": \"carpet\"}], \"choropleth\": [{\"colorbar\": {\"outlinewidth\": 0, \"ticks\": \"\"}, \"type\": \"choropleth\"}], \"contour\": [{\"colorbar\": {\"outlinewidth\": 0, \"ticks\": \"\"}, \"colorscale\": [[0.0, \"#0d0887\"], [0.1111111111111111, \"#46039f\"], [0.2222222222222222, \"#7201a8\"], [0.3333333333333333, \"#9c179e\"], [0.4444444444444444, \"#bd3786\"], [0.5555555555555556, \"#d8576b\"], [0.6666666666666666, \"#ed7953\"], [0.7777777777777778, \"#fb9f3a\"], [0.8888888888888888, \"#fdca26\"], [1.0, \"#f0f921\"]], \"type\": \"contour\"}], \"contourcarpet\": [{\"colorbar\": {\"outlinewidth\": 0, \"ticks\": \"\"}, \"type\": \"contourcarpet\"}], \"heatmap\": [{\"colorbar\": {\"outlinewidth\": 0, \"ticks\": \"\"}, \"colorscale\": [[0.0, \"#0d0887\"], [0.1111111111111111, \"#46039f\"], [0.2222222222222222, \"#7201a8\"], [0.3333333333333333, \"#9c179e\"], [0.4444444444444444, \"#bd3786\"], [0.5555555555555556, \"#d8576b\"], [0.6666666666666666, \"#ed7953\"], [0.7777777777777778, \"#fb9f3a\"], [0.8888888888888888, \"#fdca26\"], [1.0, \"#f0f921\"]], \"type\": \"heatmap\"}], \"heatmapgl\": [{\"colorbar\": {\"outlinewidth\": 0, \"ticks\": \"\"}, \"colorscale\": [[0.0, \"#0d0887\"], [0.1111111111111111, \"#46039f\"], [0.2222222222222222, \"#7201a8\"], [0.3333333333333333, \"#9c179e\"], [0.4444444444444444, \"#bd3786\"], [0.5555555555555556, \"#d8576b\"], [0.6666666666666666, \"#ed7953\"], [0.7777777777777778, \"#fb9f3a\"], [0.8888888888888888, \"#fdca26\"], [1.0, \"#f0f921\"]], \"type\": \"heatmapgl\"}], \"histogram\": [{\"marker\": {\"colorbar\": {\"outlinewidth\": 0, \"ticks\": \"\"}}, \"type\": \"histogram\"}], \"histogram2d\": [{\"colorbar\": {\"outlinewidth\": 0, \"ticks\": \"\"}, \"colorscale\": [[0.0, \"#0d0887\"], [0.1111111111111111, \"#46039f\"], [0.2222222222222222, \"#7201a8\"], [0.3333333333333333, \"#9c179e\"], [0.4444444444444444, \"#bd3786\"], [0.5555555555555556, \"#d8576b\"], [0.6666666666666666, \"#ed7953\"], [0.7777777777777778, \"#fb9f3a\"], [0.8888888888888888, \"#fdca26\"], [1.0, \"#f0f921\"]], \"type\": \"histogram2d\"}], \"histogram2dcontour\": [{\"colorbar\": {\"outlinewidth\": 0, \"ticks\": \"\"}, \"colorscale\": [[0.0, \"#0d0887\"], [0.1111111111111111, \"#46039f\"], [0.2222222222222222, \"#7201a8\"], [0.3333333333333333, \"#9c179e\"], [0.4444444444444444, \"#bd3786\"], [0.5555555555555556, \"#d8576b\"], [0.6666666666666666, \"#ed7953\"], [0.7777777777777778, \"#fb9f3a\"], [0.8888888888888888, \"#fdca26\"], [1.0, \"#f0f921\"]], \"type\": \"histogram2dcontour\"}], \"mesh3d\": [{\"colorbar\": {\"outlinewidth\": 0, \"ticks\": \"\"}, \"type\": \"mesh3d\"}], \"parcoords\": [{\"line\": {\"colorbar\": {\"outlinewidth\": 0, \"ticks\": \"\"}}, \"type\": \"parcoords\"}], \"pie\": [{\"automargin\": true, \"type\": \"pie\"}], \"scatter\": [{\"marker\": {\"colorbar\": {\"outlinewidth\": 0, \"ticks\": \"\"}}, \"type\": \"scatter\"}], \"scatter3d\": [{\"line\": {\"colorbar\": {\"outlinewidth\": 0, \"ticks\": \"\"}}, \"marker\": {\"colorbar\": {\"outlinewidth\": 0, \"ticks\": \"\"}}, \"type\": \"scatter3d\"}], \"scattercarpet\": [{\"marker\": {\"colorbar\": {\"outlinewidth\": 0, \"ticks\": \"\"}}, \"type\": \"scattercarpet\"}], \"scattergeo\": [{\"marker\": {\"colorbar\": {\"outlinewidth\": 0, \"ticks\": \"\"}}, \"type\": \"scattergeo\"}], \"scattergl\": [{\"marker\": {\"colorbar\": {\"outlinewidth\": 0, \"ticks\": \"\"}}, \"type\": \"scattergl\"}], \"scattermapbox\": [{\"marker\": {\"colorbar\": {\"outlinewidth\": 0, \"ticks\": \"\"}}, \"type\": \"scattermapbox\"}], \"scatterpolar\": [{\"marker\": {\"colorbar\": {\"outlinewidth\": 0, \"ticks\": \"\"}}, \"type\": \"scatterpolar\"}], \"scatterpolargl\": [{\"marker\": {\"colorbar\": {\"outlinewidth\": 0, \"ticks\": \"\"}}, \"type\": \"scatterpolargl\"}], \"scatterternary\": [{\"marker\": {\"colorbar\": {\"outlinewidth\": 0, \"ticks\": \"\"}}, \"type\": \"scatterternary\"}], \"surface\": [{\"colorbar\": {\"outlinewidth\": 0, \"ticks\": \"\"}, \"colorscale\": [[0.0, \"#0d0887\"], [0.1111111111111111, \"#46039f\"], [0.2222222222222222, \"#7201a8\"], [0.3333333333333333, \"#9c179e\"], [0.4444444444444444, \"#bd3786\"], [0.5555555555555556, \"#d8576b\"], [0.6666666666666666, \"#ed7953\"], [0.7777777777777778, \"#fb9f3a\"], [0.8888888888888888, \"#fdca26\"], [1.0, \"#f0f921\"]], \"type\": \"surface\"}], \"table\": [{\"cells\": {\"fill\": {\"color\": \"#EBF0F8\"}, \"line\": {\"color\": \"white\"}}, \"header\": {\"fill\": {\"color\": \"#C8D4E3\"}, \"line\": {\"color\": \"white\"}}, \"type\": \"table\"}]}, \"layout\": {\"annotationdefaults\": {\"arrowcolor\": \"#2a3f5f\", \"arrowhead\": 0, \"arrowwidth\": 1}, \"coloraxis\": {\"colorbar\": {\"outlinewidth\": 0, \"ticks\": \"\"}}, \"colorscale\": {\"diverging\": [[0, \"#8e0152\"], [0.1, \"#c51b7d\"], [0.2, \"#de77ae\"], [0.3, \"#f1b6da\"], [0.4, \"#fde0ef\"], [0.5, \"#f7f7f7\"], [0.6, \"#e6f5d0\"], [0.7, \"#b8e186\"], [0.8, \"#7fbc41\"], [0.9, \"#4d9221\"], [1, \"#276419\"]], \"sequential\": [[0.0, \"#0d0887\"], [0.1111111111111111, \"#46039f\"], [0.2222222222222222, \"#7201a8\"], [0.3333333333333333, \"#9c179e\"], [0.4444444444444444, \"#bd3786\"], [0.5555555555555556, \"#d8576b\"], [0.6666666666666666, \"#ed7953\"], [0.7777777777777778, \"#fb9f3a\"], [0.8888888888888888, \"#fdca26\"], [1.0, \"#f0f921\"]], \"sequentialminus\": [[0.0, \"#0d0887\"], [0.1111111111111111, \"#46039f\"], [0.2222222222222222, \"#7201a8\"], [0.3333333333333333, \"#9c179e\"], [0.4444444444444444, \"#bd3786\"], [0.5555555555555556, \"#d8576b\"], [0.6666666666666666, \"#ed7953\"], [0.7777777777777778, \"#fb9f3a\"], [0.8888888888888888, \"#fdca26\"], [1.0, \"#f0f921\"]]}, \"colorway\": [\"#636efa\", \"#EF553B\", \"#00cc96\", \"#ab63fa\", \"#FFA15A\", \"#19d3f3\", \"#FF6692\", \"#B6E880\", \"#FF97FF\", \"#FECB52\"], \"font\": {\"color\": \"#2a3f5f\"}, \"geo\": {\"bgcolor\": \"white\", \"lakecolor\": \"white\", \"landcolor\": \"#E5ECF6\", \"showlakes\": true, \"showland\": true, \"subunitcolor\": \"white\"}, \"hoverlabel\": {\"align\": \"left\"}, \"hovermode\": \"closest\", \"mapbox\": {\"style\": \"light\"}, \"paper_bgcolor\": \"white\", \"plot_bgcolor\": \"#E5ECF6\", \"polar\": {\"angularaxis\": {\"gridcolor\": \"white\", \"linecolor\": \"white\", \"ticks\": \"\"}, \"bgcolor\": \"#E5ECF6\", \"radialaxis\": {\"gridcolor\": \"white\", \"linecolor\": \"white\", \"ticks\": \"\"}}, \"scene\": {\"xaxis\": {\"backgroundcolor\": \"#E5ECF6\", \"gridcolor\": \"white\", \"gridwidth\": 2, \"linecolor\": \"white\", \"showbackground\": true, \"ticks\": \"\", \"zerolinecolor\": \"white\"}, \"yaxis\": {\"backgroundcolor\": \"#E5ECF6\", \"gridcolor\": \"white\", \"gridwidth\": 2, \"linecolor\": \"white\", \"showbackground\": true, \"ticks\": \"\", \"zerolinecolor\": \"white\"}, \"zaxis\": {\"backgroundcolor\": \"#E5ECF6\", \"gridcolor\": \"white\", \"gridwidth\": 2, \"linecolor\": \"white\", \"showbackground\": true, \"ticks\": \"\", \"zerolinecolor\": \"white\"}}, \"shapedefaults\": {\"line\": {\"color\": \"#2a3f5f\"}}, \"ternary\": {\"aaxis\": {\"gridcolor\": \"white\", \"linecolor\": \"white\", \"ticks\": \"\"}, \"baxis\": {\"gridcolor\": \"white\", \"linecolor\": \"white\", \"ticks\": \"\"}, \"bgcolor\": \"#E5ECF6\", \"caxis\": {\"gridcolor\": \"white\", \"linecolor\": \"white\", \"ticks\": \"\"}}, \"title\": {\"x\": 0.05}, \"xaxis\": {\"automargin\": true, \"gridcolor\": \"white\", \"linecolor\": \"white\", \"ticks\": \"\", \"title\": {\"standoff\": 15}, \"zerolinecolor\": \"white\", \"zerolinewidth\": 2}, \"yaxis\": {\"automargin\": true, \"gridcolor\": \"white\", \"linecolor\": \"white\", \"ticks\": \"\", \"title\": {\"standoff\": 15}, \"zerolinecolor\": \"white\", \"zerolinewidth\": 2}}}, \"title\": {\"text\": \"Goles vs Edad\"}, \"xaxis\": {\"title\": {\"text\": \"Goles\"}}, \"yaxis\": {\"title\": {\"text\": \"Edad\"}}},\n",
       "                        {\"responsive\": true}\n",
       "                    ).then(function(){\n",
       "                            \n",
       "var gd = document.getElementById('d2eebf25-cf6e-4a8e-87bd-aded9e481b17');\n",
       "var x = new MutationObserver(function (mutations, observer) {{\n",
       "        var display = window.getComputedStyle(gd).display;\n",
       "        if (!display || display === 'none') {{\n",
       "            console.log([gd, 'removed!']);\n",
       "            Plotly.purge(gd);\n",
       "            observer.disconnect();\n",
       "        }}\n",
       "}});\n",
       "\n",
       "// Listen for the removal of the full notebook cells\n",
       "var notebookContainer = gd.closest('#notebook-container');\n",
       "if (notebookContainer) {{\n",
       "    x.observe(notebookContainer, {childList: true});\n",
       "}}\n",
       "\n",
       "// Listen for the clearing of the current output cell\n",
       "var outputEl = gd.closest('.output');\n",
       "if (outputEl) {{\n",
       "    x.observe(outputEl, {childList: true});\n",
       "}}\n",
       "\n",
       "                        })\n",
       "                };\n",
       "                });\n",
       "            </script>\n",
       "        </div>"
      ]
     },
     "metadata": {},
     "output_type": "display_data"
    }
   ],
   "source": [
    "fig = go.Figure()\n",
    "\n",
    "fig.add_trace(go.Scatter(\n",
    "    x=mas_27[\"goles\"],\n",
    "    y=mas_27[\"edad\"],\n",
    "    mode=\"markers\",\n",
    "    marker=dict(\n",
    "    size=12,\n",
    "    color = 'red',\n",
    "    colorscale='thermal',\n",
    "    opacity=.8),\n",
    "    name=\"mayores de 27\",\n",
    "    text=mas_27[\"nombre\"],\n",
    "    textposition=\"top center\"\n",
    "))\n",
    "fig.add_trace((go.Scatter(\n",
    "    x=menos_27[\"goles\"],\n",
    "    y=menos_27[\"edad\"],\n",
    "    mode=\"markers\",\n",
    "    marker=dict(\n",
    "    size=12,\n",
    "    color = 'blue',\n",
    "    colorscale='thermal',\n",
    "    opacity=.8),\n",
    "    name=\"menores de 27\",\n",
    "    text=menos_27[\"nombre\"],\n",
    "    textposition=\"top center\")\n",
    "))\n",
    "fig.add_trace((go.Scatter(\n",
    "    x=promedio_goles,\n",
    "    y=df[\"edad\"],\n",
    "    mode=\"lines\",\n",
    "    line=dict(\n",
    "    color = 'black',\n",
    "    dash = \"solid\",\n",
    "    width = 5\n",
    "    ),\n",
    "    name=\"media\",\n",
    "    text=[\"media\"],\n",
    "    textposition=\"top center\")\n",
    "))\n",
    "fig.update_traces(textposition='top right')\n",
    "\n",
    "fig.update_layout(\n",
    "    height=500,\n",
    "    title_text='Goles vs Edad',\n",
    "    xaxis_title=\"Goles\",\n",
    "    yaxis_title=\"Edad\"\n",
    ")\n",
    "fig.show()"
   ]
  },
  {
   "cell_type": "code",
   "execution_count": 26,
   "metadata": {},
   "outputs": [
    {
     "data": {
      "application/vnd.plotly.v1+json": {
       "config": {
        "plotlyServerURL": "https://plot.ly"
       },
       "data": [
        {
         "marker": {
          "color": "blue",
          "colorscale": [
           [
            0,
            "rgb(3, 35, 51)"
           ],
           [
            0.09090909090909091,
            "rgb(13, 48, 100)"
           ],
           [
            0.18181818181818182,
            "rgb(53, 50, 155)"
           ],
           [
            0.2727272727272727,
            "rgb(93, 62, 153)"
           ],
           [
            0.36363636363636365,
            "rgb(126, 77, 143)"
           ],
           [
            0.45454545454545453,
            "rgb(158, 89, 135)"
           ],
           [
            0.5454545454545454,
            "rgb(193, 100, 121)"
           ],
           [
            0.6363636363636364,
            "rgb(225, 113, 97)"
           ],
           [
            0.7272727272727273,
            "rgb(246, 139, 69)"
           ],
           [
            0.8181818181818182,
            "rgb(251, 173, 60)"
           ],
           [
            0.9090909090909091,
            "rgb(246, 211, 70)"
           ],
           [
            1,
            "rgb(231, 250, 90)"
           ]
          ],
          "opacity": 0.8,
          "size": 12
         },
         "mode": "markers",
         "name": "mayores de 27",
         "text": [
          "neymar",
          "sadio-mane",
          "mohamed-salah",
          "lionel-messi",
          "antoine-griezmann",
          "eden-hazard",
          "roberto-firmino",
          "pierre-emerick-aubameyang",
          "robert-lewandowski",
          "riyad-mahrez",
          "wilfried-zaha",
          "hakim-ziyech",
          "florian-thauvin",
          "thorgan-hazard",
          "lucas-moura",
          "angel-di-maria",
          "gareth-bale",
          "marco-reus",
          "karim-benzema",
          "andrej-kramaric",
          "kevin-volland",
          "pablo-sarabia",
          "luis-suarez",
          "heung-min-son",
          "mauro-icardi",
          "cristiano-ronaldo",
          "sergio-aguero",
          "lorenzo-insigne",
          "alexandre-lacazette",
          "wissam-ben-yedder",
          "rodrigo",
          "ciro-immobile",
          "alvaro-morata",
          "duvan-zapata",
          "raul-jimenez"
         ],
         "type": "scatter3d",
         "x": [
          13,
          14,
          16,
          19,
          8,
          1,
          8,
          17,
          25,
          7,
          3,
          6,
          0,
          5,
          0,
          8,
          2,
          11,
          14,
          7,
          9,
          4,
          11,
          9,
          12,
          21,
          16,
          5,
          7,
          18,
          2,
          27,
          8,
          11,
          13
         ],
         "y": [
          28,
          28,
          27,
          32,
          29,
          29,
          28,
          30,
          31,
          29,
          27,
          27,
          27,
          27,
          27,
          32,
          30,
          30,
          32,
          28,
          27,
          27,
          33,
          27,
          27,
          35,
          31,
          28,
          28,
          29,
          29,
          30,
          27,
          29,
          29
         ],
         "z": [
          128,
          120,
          120,
          112,
          96,
          80,
          72,
          56,
          56,
          48,
          44,
          40,
          32,
          32,
          32,
          32,
          32,
          32,
          32,
          30.5,
          28,
          28,
          28,
          64,
          60,
          60,
          52,
          48,
          48,
          40,
          40,
          40,
          36,
          36,
          40
         ]
        },
        {
         "marker": {
          "color": "orange",
          "colorscale": [
           [
            0,
            "rgb(3, 35, 51)"
           ],
           [
            0.09090909090909091,
            "rgb(13, 48, 100)"
           ],
           [
            0.18181818181818182,
            "rgb(53, 50, 155)"
           ],
           [
            0.2727272727272727,
            "rgb(93, 62, 153)"
           ],
           [
            0.36363636363636365,
            "rgb(126, 77, 143)"
           ],
           [
            0.45454545454545453,
            "rgb(158, 89, 135)"
           ],
           [
            0.5454545454545454,
            "rgb(193, 100, 121)"
           ],
           [
            0.6363636363636364,
            "rgb(225, 113, 97)"
           ],
           [
            0.7272727272727273,
            "rgb(246, 139, 69)"
           ],
           [
            0.8181818181818182,
            "rgb(251, 173, 60)"
           ],
           [
            0.9090909090909091,
            "rgb(246, 211, 70)"
           ],
           [
            1,
            "rgb(231, 250, 90)"
           ]
          ],
          "opacity": 0.8,
          "size": 12
         },
         "mode": "markers",
         "name": "menores de 27",
         "text": [
          "kylian-mbappe",
          "raheem-sterling",
          "harry-kane",
          "jadon-sancho",
          "joao-felix",
          "bernardo-silva",
          "leroy-sane",
          "erling-haaland",
          "paulo-dybala",
          "serge-gnabry",
          "romelu-lukaku",
          "lautaro-martinez",
          "marcus-rashford",
          "timo-werner",
          "federico-chiesa",
          "anthony-martial",
          "memphis-depay",
          "tammy-abraham",
          "inaki-williams",
          "kingsley-coman",
          "moussa-dembele",
          "david-neres",
          "ansu-fati",
          "sebastien-haller",
          "maxi-gomez",
          "marco-asensio",
          "angel-correa",
          "luka-jovic",
          "arkadiusz-milik",
          "lucas-ocampos",
          "andrea-belotti",
          "marcel-sabitzer",
          "dejan-kulusevski",
          "callum-hudson-odoi",
          "malcom",
          "joaquin-correa",
          "leon-bailey",
          "mason-greenwood",
          "paco-alcacer",
          "victor-osimhen",
          "samu-chukwueze",
          "moussa-diaby",
          "gabriel-jesus",
          "ousmane-dembele",
          "christian-pulisic",
          "richarlison",
          "nicolas-pepe",
          "rodrygo",
          "ferran-torres",
          "vinicius-junior",
          "everton",
          "hirving-lozano",
          "milot-rashica",
          "steven-bergwijn",
          "federico-bernardeschi"
         ],
         "type": "scatter3d",
         "x": [
          18,
          11,
          11,
          14,
          4,
          5,
          0,
          9,
          7,
          11,
          17,
          11,
          14,
          21,
          6,
          11,
          9,
          13,
          0,
          2,
          16,
          6,
          4,
          7,
          9,
          0,
          5,
          2,
          9,
          10,
          9,
          8,
          5,
          1,
          1,
          7,
          5,
          5,
          7,
          13,
          3,
          4,
          10,
          1,
          5,
          10,
          4,
          2,
          4,
          2,
          0,
          2,
          7,
          7,
          0
         ],
         "y": [
          21,
          25,
          26,
          20,
          20,
          25,
          24,
          19,
          26,
          24,
          26,
          22,
          22,
          24,
          22,
          24,
          26,
          22,
          25,
          23,
          23,
          23,
          17,
          25,
          23,
          24,
          25,
          22,
          26,
          25,
          26,
          26,
          20,
          19,
          23,
          25,
          22,
          18,
          26,
          21,
          20,
          20,
          23,
          22,
          21,
          23,
          24,
          19,
          20,
          19,
          24,
          24,
          23,
          22,
          26
         ],
         "z": [
          180,
          128,
          120,
          117,
          81,
          80,
          80,
          72,
          72,
          72,
          68,
          64,
          64,
          64,
          48,
          48,
          44,
          40,
          40,
          40,
          40,
          36,
          36,
          36,
          32,
          32,
          32,
          32,
          32,
          32,
          32,
          32,
          31.5,
          31.5,
          30.5,
          30.5,
          29.5,
          29,
          28,
          27,
          27,
          27,
          56,
          56,
          54,
          52,
          52,
          45,
          45,
          45,
          28,
          28,
          28,
          28,
          28
         ]
        }
       ],
       "layout": {
        "margin": {
         "b": 10,
         "l": 10,
         "r": 20,
         "t": 10
        },
        "scene": {
         "xaxis": {
          "title": {
           "text": "GOLES"
          }
         },
         "yaxis": {
          "title": {
           "text": "EDAD"
          }
         },
         "zaxis": {
          "title": {
           "text": "VALOR"
          }
         }
        },
        "template": {
         "data": {
          "bar": [
           {
            "error_x": {
             "color": "#2a3f5f"
            },
            "error_y": {
             "color": "#2a3f5f"
            },
            "marker": {
             "line": {
              "color": "#E5ECF6",
              "width": 0.5
             }
            },
            "type": "bar"
           }
          ],
          "barpolar": [
           {
            "marker": {
             "line": {
              "color": "#E5ECF6",
              "width": 0.5
             }
            },
            "type": "barpolar"
           }
          ],
          "carpet": [
           {
            "aaxis": {
             "endlinecolor": "#2a3f5f",
             "gridcolor": "white",
             "linecolor": "white",
             "minorgridcolor": "white",
             "startlinecolor": "#2a3f5f"
            },
            "baxis": {
             "endlinecolor": "#2a3f5f",
             "gridcolor": "white",
             "linecolor": "white",
             "minorgridcolor": "white",
             "startlinecolor": "#2a3f5f"
            },
            "type": "carpet"
           }
          ],
          "choropleth": [
           {
            "colorbar": {
             "outlinewidth": 0,
             "ticks": ""
            },
            "type": "choropleth"
           }
          ],
          "contour": [
           {
            "colorbar": {
             "outlinewidth": 0,
             "ticks": ""
            },
            "colorscale": [
             [
              0,
              "#0d0887"
             ],
             [
              0.1111111111111111,
              "#46039f"
             ],
             [
              0.2222222222222222,
              "#7201a8"
             ],
             [
              0.3333333333333333,
              "#9c179e"
             ],
             [
              0.4444444444444444,
              "#bd3786"
             ],
             [
              0.5555555555555556,
              "#d8576b"
             ],
             [
              0.6666666666666666,
              "#ed7953"
             ],
             [
              0.7777777777777778,
              "#fb9f3a"
             ],
             [
              0.8888888888888888,
              "#fdca26"
             ],
             [
              1,
              "#f0f921"
             ]
            ],
            "type": "contour"
           }
          ],
          "contourcarpet": [
           {
            "colorbar": {
             "outlinewidth": 0,
             "ticks": ""
            },
            "type": "contourcarpet"
           }
          ],
          "heatmap": [
           {
            "colorbar": {
             "outlinewidth": 0,
             "ticks": ""
            },
            "colorscale": [
             [
              0,
              "#0d0887"
             ],
             [
              0.1111111111111111,
              "#46039f"
             ],
             [
              0.2222222222222222,
              "#7201a8"
             ],
             [
              0.3333333333333333,
              "#9c179e"
             ],
             [
              0.4444444444444444,
              "#bd3786"
             ],
             [
              0.5555555555555556,
              "#d8576b"
             ],
             [
              0.6666666666666666,
              "#ed7953"
             ],
             [
              0.7777777777777778,
              "#fb9f3a"
             ],
             [
              0.8888888888888888,
              "#fdca26"
             ],
             [
              1,
              "#f0f921"
             ]
            ],
            "type": "heatmap"
           }
          ],
          "heatmapgl": [
           {
            "colorbar": {
             "outlinewidth": 0,
             "ticks": ""
            },
            "colorscale": [
             [
              0,
              "#0d0887"
             ],
             [
              0.1111111111111111,
              "#46039f"
             ],
             [
              0.2222222222222222,
              "#7201a8"
             ],
             [
              0.3333333333333333,
              "#9c179e"
             ],
             [
              0.4444444444444444,
              "#bd3786"
             ],
             [
              0.5555555555555556,
              "#d8576b"
             ],
             [
              0.6666666666666666,
              "#ed7953"
             ],
             [
              0.7777777777777778,
              "#fb9f3a"
             ],
             [
              0.8888888888888888,
              "#fdca26"
             ],
             [
              1,
              "#f0f921"
             ]
            ],
            "type": "heatmapgl"
           }
          ],
          "histogram": [
           {
            "marker": {
             "colorbar": {
              "outlinewidth": 0,
              "ticks": ""
             }
            },
            "type": "histogram"
           }
          ],
          "histogram2d": [
           {
            "colorbar": {
             "outlinewidth": 0,
             "ticks": ""
            },
            "colorscale": [
             [
              0,
              "#0d0887"
             ],
             [
              0.1111111111111111,
              "#46039f"
             ],
             [
              0.2222222222222222,
              "#7201a8"
             ],
             [
              0.3333333333333333,
              "#9c179e"
             ],
             [
              0.4444444444444444,
              "#bd3786"
             ],
             [
              0.5555555555555556,
              "#d8576b"
             ],
             [
              0.6666666666666666,
              "#ed7953"
             ],
             [
              0.7777777777777778,
              "#fb9f3a"
             ],
             [
              0.8888888888888888,
              "#fdca26"
             ],
             [
              1,
              "#f0f921"
             ]
            ],
            "type": "histogram2d"
           }
          ],
          "histogram2dcontour": [
           {
            "colorbar": {
             "outlinewidth": 0,
             "ticks": ""
            },
            "colorscale": [
             [
              0,
              "#0d0887"
             ],
             [
              0.1111111111111111,
              "#46039f"
             ],
             [
              0.2222222222222222,
              "#7201a8"
             ],
             [
              0.3333333333333333,
              "#9c179e"
             ],
             [
              0.4444444444444444,
              "#bd3786"
             ],
             [
              0.5555555555555556,
              "#d8576b"
             ],
             [
              0.6666666666666666,
              "#ed7953"
             ],
             [
              0.7777777777777778,
              "#fb9f3a"
             ],
             [
              0.8888888888888888,
              "#fdca26"
             ],
             [
              1,
              "#f0f921"
             ]
            ],
            "type": "histogram2dcontour"
           }
          ],
          "mesh3d": [
           {
            "colorbar": {
             "outlinewidth": 0,
             "ticks": ""
            },
            "type": "mesh3d"
           }
          ],
          "parcoords": [
           {
            "line": {
             "colorbar": {
              "outlinewidth": 0,
              "ticks": ""
             }
            },
            "type": "parcoords"
           }
          ],
          "pie": [
           {
            "automargin": true,
            "type": "pie"
           }
          ],
          "scatter": [
           {
            "marker": {
             "colorbar": {
              "outlinewidth": 0,
              "ticks": ""
             }
            },
            "type": "scatter"
           }
          ],
          "scatter3d": [
           {
            "line": {
             "colorbar": {
              "outlinewidth": 0,
              "ticks": ""
             }
            },
            "marker": {
             "colorbar": {
              "outlinewidth": 0,
              "ticks": ""
             }
            },
            "type": "scatter3d"
           }
          ],
          "scattercarpet": [
           {
            "marker": {
             "colorbar": {
              "outlinewidth": 0,
              "ticks": ""
             }
            },
            "type": "scattercarpet"
           }
          ],
          "scattergeo": [
           {
            "marker": {
             "colorbar": {
              "outlinewidth": 0,
              "ticks": ""
             }
            },
            "type": "scattergeo"
           }
          ],
          "scattergl": [
           {
            "marker": {
             "colorbar": {
              "outlinewidth": 0,
              "ticks": ""
             }
            },
            "type": "scattergl"
           }
          ],
          "scattermapbox": [
           {
            "marker": {
             "colorbar": {
              "outlinewidth": 0,
              "ticks": ""
             }
            },
            "type": "scattermapbox"
           }
          ],
          "scatterpolar": [
           {
            "marker": {
             "colorbar": {
              "outlinewidth": 0,
              "ticks": ""
             }
            },
            "type": "scatterpolar"
           }
          ],
          "scatterpolargl": [
           {
            "marker": {
             "colorbar": {
              "outlinewidth": 0,
              "ticks": ""
             }
            },
            "type": "scatterpolargl"
           }
          ],
          "scatterternary": [
           {
            "marker": {
             "colorbar": {
              "outlinewidth": 0,
              "ticks": ""
             }
            },
            "type": "scatterternary"
           }
          ],
          "surface": [
           {
            "colorbar": {
             "outlinewidth": 0,
             "ticks": ""
            },
            "colorscale": [
             [
              0,
              "#0d0887"
             ],
             [
              0.1111111111111111,
              "#46039f"
             ],
             [
              0.2222222222222222,
              "#7201a8"
             ],
             [
              0.3333333333333333,
              "#9c179e"
             ],
             [
              0.4444444444444444,
              "#bd3786"
             ],
             [
              0.5555555555555556,
              "#d8576b"
             ],
             [
              0.6666666666666666,
              "#ed7953"
             ],
             [
              0.7777777777777778,
              "#fb9f3a"
             ],
             [
              0.8888888888888888,
              "#fdca26"
             ],
             [
              1,
              "#f0f921"
             ]
            ],
            "type": "surface"
           }
          ],
          "table": [
           {
            "cells": {
             "fill": {
              "color": "#EBF0F8"
             },
             "line": {
              "color": "white"
             }
            },
            "header": {
             "fill": {
              "color": "#C8D4E3"
             },
             "line": {
              "color": "white"
             }
            },
            "type": "table"
           }
          ]
         },
         "layout": {
          "annotationdefaults": {
           "arrowcolor": "#2a3f5f",
           "arrowhead": 0,
           "arrowwidth": 1
          },
          "coloraxis": {
           "colorbar": {
            "outlinewidth": 0,
            "ticks": ""
           }
          },
          "colorscale": {
           "diverging": [
            [
             0,
             "#8e0152"
            ],
            [
             0.1,
             "#c51b7d"
            ],
            [
             0.2,
             "#de77ae"
            ],
            [
             0.3,
             "#f1b6da"
            ],
            [
             0.4,
             "#fde0ef"
            ],
            [
             0.5,
             "#f7f7f7"
            ],
            [
             0.6,
             "#e6f5d0"
            ],
            [
             0.7,
             "#b8e186"
            ],
            [
             0.8,
             "#7fbc41"
            ],
            [
             0.9,
             "#4d9221"
            ],
            [
             1,
             "#276419"
            ]
           ],
           "sequential": [
            [
             0,
             "#0d0887"
            ],
            [
             0.1111111111111111,
             "#46039f"
            ],
            [
             0.2222222222222222,
             "#7201a8"
            ],
            [
             0.3333333333333333,
             "#9c179e"
            ],
            [
             0.4444444444444444,
             "#bd3786"
            ],
            [
             0.5555555555555556,
             "#d8576b"
            ],
            [
             0.6666666666666666,
             "#ed7953"
            ],
            [
             0.7777777777777778,
             "#fb9f3a"
            ],
            [
             0.8888888888888888,
             "#fdca26"
            ],
            [
             1,
             "#f0f921"
            ]
           ],
           "sequentialminus": [
            [
             0,
             "#0d0887"
            ],
            [
             0.1111111111111111,
             "#46039f"
            ],
            [
             0.2222222222222222,
             "#7201a8"
            ],
            [
             0.3333333333333333,
             "#9c179e"
            ],
            [
             0.4444444444444444,
             "#bd3786"
            ],
            [
             0.5555555555555556,
             "#d8576b"
            ],
            [
             0.6666666666666666,
             "#ed7953"
            ],
            [
             0.7777777777777778,
             "#fb9f3a"
            ],
            [
             0.8888888888888888,
             "#fdca26"
            ],
            [
             1,
             "#f0f921"
            ]
           ]
          },
          "colorway": [
           "#636efa",
           "#EF553B",
           "#00cc96",
           "#ab63fa",
           "#FFA15A",
           "#19d3f3",
           "#FF6692",
           "#B6E880",
           "#FF97FF",
           "#FECB52"
          ],
          "font": {
           "color": "#2a3f5f"
          },
          "geo": {
           "bgcolor": "white",
           "lakecolor": "white",
           "landcolor": "#E5ECF6",
           "showlakes": true,
           "showland": true,
           "subunitcolor": "white"
          },
          "hoverlabel": {
           "align": "left"
          },
          "hovermode": "closest",
          "mapbox": {
           "style": "light"
          },
          "paper_bgcolor": "white",
          "plot_bgcolor": "#E5ECF6",
          "polar": {
           "angularaxis": {
            "gridcolor": "white",
            "linecolor": "white",
            "ticks": ""
           },
           "bgcolor": "#E5ECF6",
           "radialaxis": {
            "gridcolor": "white",
            "linecolor": "white",
            "ticks": ""
           }
          },
          "scene": {
           "xaxis": {
            "backgroundcolor": "#E5ECF6",
            "gridcolor": "white",
            "gridwidth": 2,
            "linecolor": "white",
            "showbackground": true,
            "ticks": "",
            "zerolinecolor": "white"
           },
           "yaxis": {
            "backgroundcolor": "#E5ECF6",
            "gridcolor": "white",
            "gridwidth": 2,
            "linecolor": "white",
            "showbackground": true,
            "ticks": "",
            "zerolinecolor": "white"
           },
           "zaxis": {
            "backgroundcolor": "#E5ECF6",
            "gridcolor": "white",
            "gridwidth": 2,
            "linecolor": "white",
            "showbackground": true,
            "ticks": "",
            "zerolinecolor": "white"
           }
          },
          "shapedefaults": {
           "line": {
            "color": "#2a3f5f"
           }
          },
          "ternary": {
           "aaxis": {
            "gridcolor": "white",
            "linecolor": "white",
            "ticks": ""
           },
           "baxis": {
            "gridcolor": "white",
            "linecolor": "white",
            "ticks": ""
           },
           "bgcolor": "#E5ECF6",
           "caxis": {
            "gridcolor": "white",
            "linecolor": "white",
            "ticks": ""
           }
          },
          "title": {
           "x": 0.05
          },
          "xaxis": {
           "automargin": true,
           "gridcolor": "white",
           "linecolor": "white",
           "ticks": "",
           "title": {
            "standoff": 15
           },
           "zerolinecolor": "white",
           "zerolinewidth": 2
          },
          "yaxis": {
           "automargin": true,
           "gridcolor": "white",
           "linecolor": "white",
           "ticks": "",
           "title": {
            "standoff": 15
           },
           "zerolinecolor": "white",
           "zerolinewidth": 2
          }
         }
        },
        "width": 700
       }
      },
      "text/html": [
       "<div>\n",
       "        \n",
       "        \n",
       "            <div id=\"ba209d45-7bc3-496b-ac13-dad9ee4c9aec\" class=\"plotly-graph-div\" style=\"height:525px; width:700px;\"></div>\n",
       "            <script type=\"text/javascript\">\n",
       "                require([\"plotly\"], function(Plotly) {\n",
       "                    window.PLOTLYENV=window.PLOTLYENV || {};\n",
       "                    \n",
       "                if (document.getElementById(\"ba209d45-7bc3-496b-ac13-dad9ee4c9aec\")) {\n",
       "                    Plotly.newPlot(\n",
       "                        'ba209d45-7bc3-496b-ac13-dad9ee4c9aec',\n",
       "                        [{\"marker\": {\"color\": \"blue\", \"colorscale\": [[0.0, \"rgb(3, 35, 51)\"], [0.09090909090909091, \"rgb(13, 48, 100)\"], [0.18181818181818182, \"rgb(53, 50, 155)\"], [0.2727272727272727, \"rgb(93, 62, 153)\"], [0.36363636363636365, \"rgb(126, 77, 143)\"], [0.45454545454545453, \"rgb(158, 89, 135)\"], [0.5454545454545454, \"rgb(193, 100, 121)\"], [0.6363636363636364, \"rgb(225, 113, 97)\"], [0.7272727272727273, \"rgb(246, 139, 69)\"], [0.8181818181818182, \"rgb(251, 173, 60)\"], [0.9090909090909091, \"rgb(246, 211, 70)\"], [1.0, \"rgb(231, 250, 90)\"]], \"opacity\": 0.8, \"size\": 12}, \"mode\": \"markers\", \"name\": \"mayores de 27\", \"text\": [\"neymar\", \"sadio-mane\", \"mohamed-salah\", \"lionel-messi\", \"antoine-griezmann\", \"eden-hazard\", \"roberto-firmino\", \"pierre-emerick-aubameyang\", \"robert-lewandowski\", \"riyad-mahrez\", \"wilfried-zaha\", \"hakim-ziyech\", \"florian-thauvin\", \"thorgan-hazard\", \"lucas-moura\", \"angel-di-maria\", \"gareth-bale\", \"marco-reus\", \"karim-benzema\", \"andrej-kramaric\", \"kevin-volland\", \"pablo-sarabia\", \"luis-suarez\", \"heung-min-son\", \"mauro-icardi\", \"cristiano-ronaldo\", \"sergio-aguero\", \"lorenzo-insigne\", \"alexandre-lacazette\", \"wissam-ben-yedder\", \"rodrigo\", \"ciro-immobile\", \"alvaro-morata\", \"duvan-zapata\", \"raul-jimenez\"], \"type\": \"scatter3d\", \"x\": [13, 14, 16, 19, 8, 1, 8, 17, 25, 7, 3, 6, 0, 5, 0, 8, 2, 11, 14, 7, 9, 4, 11, 9, 12, 21, 16, 5, 7, 18, 2, 27, 8, 11, 13], \"y\": [28, 28, 27, 32, 29, 29, 28, 30, 31, 29, 27, 27, 27, 27, 27, 32, 30, 30, 32, 28, 27, 27, 33, 27, 27, 35, 31, 28, 28, 29, 29, 30, 27, 29, 29], \"z\": [128.0, 120.0, 120.0, 112.0, 96.0, 80.0, 72.0, 56.0, 56.0, 48.0, 44.0, 40.0, 32.0, 32.0, 32.0, 32.0, 32.0, 32.0, 32.0, 30.5, 28.0, 28.0, 28.0, 64.0, 60.0, 60.0, 52.0, 48.0, 48.0, 40.0, 40.0, 40.0, 36.0, 36.0, 40.0]}, {\"marker\": {\"color\": \"orange\", \"colorscale\": [[0.0, \"rgb(3, 35, 51)\"], [0.09090909090909091, \"rgb(13, 48, 100)\"], [0.18181818181818182, \"rgb(53, 50, 155)\"], [0.2727272727272727, \"rgb(93, 62, 153)\"], [0.36363636363636365, \"rgb(126, 77, 143)\"], [0.45454545454545453, \"rgb(158, 89, 135)\"], [0.5454545454545454, \"rgb(193, 100, 121)\"], [0.6363636363636364, \"rgb(225, 113, 97)\"], [0.7272727272727273, \"rgb(246, 139, 69)\"], [0.8181818181818182, \"rgb(251, 173, 60)\"], [0.9090909090909091, \"rgb(246, 211, 70)\"], [1.0, \"rgb(231, 250, 90)\"]], \"opacity\": 0.8, \"size\": 12}, \"mode\": \"markers\", \"name\": \"menores de 27\", \"text\": [\"kylian-mbappe\", \"raheem-sterling\", \"harry-kane\", \"jadon-sancho\", \"joao-felix\", \"bernardo-silva\", \"leroy-sane\", \"erling-haaland\", \"paulo-dybala\", \"serge-gnabry\", \"romelu-lukaku\", \"lautaro-martinez\", \"marcus-rashford\", \"timo-werner\", \"federico-chiesa\", \"anthony-martial\", \"memphis-depay\", \"tammy-abraham\", \"inaki-williams\", \"kingsley-coman\", \"moussa-dembele\", \"david-neres\", \"ansu-fati\", \"sebastien-haller\", \"maxi-gomez\", \"marco-asensio\", \"angel-correa\", \"luka-jovic\", \"arkadiusz-milik\", \"lucas-ocampos\", \"andrea-belotti\", \"marcel-sabitzer\", \"dejan-kulusevski\", \"callum-hudson-odoi\", \"malcom\", \"joaquin-correa\", \"leon-bailey\", \"mason-greenwood\", \"paco-alcacer\", \"victor-osimhen\", \"samu-chukwueze\", \"moussa-diaby\", \"gabriel-jesus\", \"ousmane-dembele\", \"christian-pulisic\", \"richarlison\", \"nicolas-pepe\", \"rodrygo\", \"ferran-torres\", \"vinicius-junior\", \"everton\", \"hirving-lozano\", \"milot-rashica\", \"steven-bergwijn\", \"federico-bernardeschi\"], \"type\": \"scatter3d\", \"x\": [18, 11, 11, 14, 4, 5, 0, 9, 7, 11, 17, 11, 14, 21, 6, 11, 9, 13, 0, 2, 16, 6, 4, 7, 9, 0, 5, 2, 9, 10, 9, 8, 5, 1, 1, 7, 5, 5, 7, 13, 3, 4, 10, 1, 5, 10, 4, 2, 4, 2, 0, 2, 7, 7, 0], \"y\": [21, 25, 26, 20, 20, 25, 24, 19, 26, 24, 26, 22, 22, 24, 22, 24, 26, 22, 25, 23, 23, 23, 17, 25, 23, 24, 25, 22, 26, 25, 26, 26, 20, 19, 23, 25, 22, 18, 26, 21, 20, 20, 23, 22, 21, 23, 24, 19, 20, 19, 24, 24, 23, 22, 26], \"z\": [180.0, 128.0, 120.0, 117.0, 81.0, 80.0, 80.0, 72.0, 72.0, 72.0, 68.0, 64.0, 64.0, 64.0, 48.0, 48.0, 44.0, 40.0, 40.0, 40.0, 40.0, 36.0, 36.0, 36.0, 32.0, 32.0, 32.0, 32.0, 32.0, 32.0, 32.0, 32.0, 31.5, 31.5, 30.5, 30.5, 29.5, 29.0, 28.0, 27.0, 27.0, 27.0, 56.0, 56.0, 54.0, 52.0, 52.0, 45.0, 45.0, 45.0, 28.0, 28.0, 28.0, 28.0, 28.0]}],\n",
       "                        {\"margin\": {\"b\": 10, \"l\": 10, \"r\": 20, \"t\": 10}, \"scene\": {\"xaxis\": {\"title\": {\"text\": \"GOLES\"}}, \"yaxis\": {\"title\": {\"text\": \"EDAD\"}}, \"zaxis\": {\"title\": {\"text\": \"VALOR\"}}}, \"template\": {\"data\": {\"bar\": [{\"error_x\": {\"color\": \"#2a3f5f\"}, \"error_y\": {\"color\": \"#2a3f5f\"}, \"marker\": {\"line\": {\"color\": \"#E5ECF6\", \"width\": 0.5}}, \"type\": \"bar\"}], \"barpolar\": [{\"marker\": {\"line\": {\"color\": \"#E5ECF6\", \"width\": 0.5}}, \"type\": \"barpolar\"}], \"carpet\": [{\"aaxis\": {\"endlinecolor\": \"#2a3f5f\", \"gridcolor\": \"white\", \"linecolor\": \"white\", \"minorgridcolor\": \"white\", \"startlinecolor\": \"#2a3f5f\"}, \"baxis\": {\"endlinecolor\": \"#2a3f5f\", \"gridcolor\": \"white\", \"linecolor\": \"white\", \"minorgridcolor\": \"white\", \"startlinecolor\": \"#2a3f5f\"}, \"type\": \"carpet\"}], \"choropleth\": [{\"colorbar\": {\"outlinewidth\": 0, \"ticks\": \"\"}, \"type\": \"choropleth\"}], \"contour\": [{\"colorbar\": {\"outlinewidth\": 0, \"ticks\": \"\"}, \"colorscale\": [[0.0, \"#0d0887\"], [0.1111111111111111, \"#46039f\"], [0.2222222222222222, \"#7201a8\"], [0.3333333333333333, \"#9c179e\"], [0.4444444444444444, \"#bd3786\"], [0.5555555555555556, \"#d8576b\"], [0.6666666666666666, \"#ed7953\"], [0.7777777777777778, \"#fb9f3a\"], [0.8888888888888888, \"#fdca26\"], [1.0, \"#f0f921\"]], \"type\": \"contour\"}], \"contourcarpet\": [{\"colorbar\": {\"outlinewidth\": 0, \"ticks\": \"\"}, \"type\": \"contourcarpet\"}], \"heatmap\": [{\"colorbar\": {\"outlinewidth\": 0, \"ticks\": \"\"}, \"colorscale\": [[0.0, \"#0d0887\"], [0.1111111111111111, \"#46039f\"], [0.2222222222222222, \"#7201a8\"], [0.3333333333333333, \"#9c179e\"], [0.4444444444444444, \"#bd3786\"], [0.5555555555555556, \"#d8576b\"], [0.6666666666666666, \"#ed7953\"], [0.7777777777777778, \"#fb9f3a\"], [0.8888888888888888, \"#fdca26\"], [1.0, \"#f0f921\"]], \"type\": \"heatmap\"}], \"heatmapgl\": [{\"colorbar\": {\"outlinewidth\": 0, \"ticks\": \"\"}, \"colorscale\": [[0.0, \"#0d0887\"], [0.1111111111111111, \"#46039f\"], [0.2222222222222222, \"#7201a8\"], [0.3333333333333333, \"#9c179e\"], [0.4444444444444444, \"#bd3786\"], [0.5555555555555556, \"#d8576b\"], [0.6666666666666666, \"#ed7953\"], [0.7777777777777778, \"#fb9f3a\"], [0.8888888888888888, \"#fdca26\"], [1.0, \"#f0f921\"]], \"type\": \"heatmapgl\"}], \"histogram\": [{\"marker\": {\"colorbar\": {\"outlinewidth\": 0, \"ticks\": \"\"}}, \"type\": \"histogram\"}], \"histogram2d\": [{\"colorbar\": {\"outlinewidth\": 0, \"ticks\": \"\"}, \"colorscale\": [[0.0, \"#0d0887\"], [0.1111111111111111, \"#46039f\"], [0.2222222222222222, \"#7201a8\"], [0.3333333333333333, \"#9c179e\"], [0.4444444444444444, \"#bd3786\"], [0.5555555555555556, \"#d8576b\"], [0.6666666666666666, \"#ed7953\"], [0.7777777777777778, \"#fb9f3a\"], [0.8888888888888888, \"#fdca26\"], [1.0, \"#f0f921\"]], \"type\": \"histogram2d\"}], \"histogram2dcontour\": [{\"colorbar\": {\"outlinewidth\": 0, \"ticks\": \"\"}, \"colorscale\": [[0.0, \"#0d0887\"], [0.1111111111111111, \"#46039f\"], [0.2222222222222222, \"#7201a8\"], [0.3333333333333333, \"#9c179e\"], [0.4444444444444444, \"#bd3786\"], [0.5555555555555556, \"#d8576b\"], [0.6666666666666666, \"#ed7953\"], [0.7777777777777778, \"#fb9f3a\"], [0.8888888888888888, \"#fdca26\"], [1.0, \"#f0f921\"]], \"type\": \"histogram2dcontour\"}], \"mesh3d\": [{\"colorbar\": {\"outlinewidth\": 0, \"ticks\": \"\"}, \"type\": \"mesh3d\"}], \"parcoords\": [{\"line\": {\"colorbar\": {\"outlinewidth\": 0, \"ticks\": \"\"}}, \"type\": \"parcoords\"}], \"pie\": [{\"automargin\": true, \"type\": \"pie\"}], \"scatter\": [{\"marker\": {\"colorbar\": {\"outlinewidth\": 0, \"ticks\": \"\"}}, \"type\": \"scatter\"}], \"scatter3d\": [{\"line\": {\"colorbar\": {\"outlinewidth\": 0, \"ticks\": \"\"}}, \"marker\": {\"colorbar\": {\"outlinewidth\": 0, \"ticks\": \"\"}}, \"type\": \"scatter3d\"}], \"scattercarpet\": [{\"marker\": {\"colorbar\": {\"outlinewidth\": 0, \"ticks\": \"\"}}, \"type\": \"scattercarpet\"}], \"scattergeo\": [{\"marker\": {\"colorbar\": {\"outlinewidth\": 0, \"ticks\": \"\"}}, \"type\": \"scattergeo\"}], \"scattergl\": [{\"marker\": {\"colorbar\": {\"outlinewidth\": 0, \"ticks\": \"\"}}, \"type\": \"scattergl\"}], \"scattermapbox\": [{\"marker\": {\"colorbar\": {\"outlinewidth\": 0, \"ticks\": \"\"}}, \"type\": \"scattermapbox\"}], \"scatterpolar\": [{\"marker\": {\"colorbar\": {\"outlinewidth\": 0, \"ticks\": \"\"}}, \"type\": \"scatterpolar\"}], \"scatterpolargl\": [{\"marker\": {\"colorbar\": {\"outlinewidth\": 0, \"ticks\": \"\"}}, \"type\": \"scatterpolargl\"}], \"scatterternary\": [{\"marker\": {\"colorbar\": {\"outlinewidth\": 0, \"ticks\": \"\"}}, \"type\": \"scatterternary\"}], \"surface\": [{\"colorbar\": {\"outlinewidth\": 0, \"ticks\": \"\"}, \"colorscale\": [[0.0, \"#0d0887\"], [0.1111111111111111, \"#46039f\"], [0.2222222222222222, \"#7201a8\"], [0.3333333333333333, \"#9c179e\"], [0.4444444444444444, \"#bd3786\"], [0.5555555555555556, \"#d8576b\"], [0.6666666666666666, \"#ed7953\"], [0.7777777777777778, \"#fb9f3a\"], [0.8888888888888888, \"#fdca26\"], [1.0, \"#f0f921\"]], \"type\": \"surface\"}], \"table\": [{\"cells\": {\"fill\": {\"color\": \"#EBF0F8\"}, \"line\": {\"color\": \"white\"}}, \"header\": {\"fill\": {\"color\": \"#C8D4E3\"}, \"line\": {\"color\": \"white\"}}, \"type\": \"table\"}]}, \"layout\": {\"annotationdefaults\": {\"arrowcolor\": \"#2a3f5f\", \"arrowhead\": 0, \"arrowwidth\": 1}, \"coloraxis\": {\"colorbar\": {\"outlinewidth\": 0, \"ticks\": \"\"}}, \"colorscale\": {\"diverging\": [[0, \"#8e0152\"], [0.1, \"#c51b7d\"], [0.2, \"#de77ae\"], [0.3, \"#f1b6da\"], [0.4, \"#fde0ef\"], [0.5, \"#f7f7f7\"], [0.6, \"#e6f5d0\"], [0.7, \"#b8e186\"], [0.8, \"#7fbc41\"], [0.9, \"#4d9221\"], [1, \"#276419\"]], \"sequential\": [[0.0, \"#0d0887\"], [0.1111111111111111, \"#46039f\"], [0.2222222222222222, \"#7201a8\"], [0.3333333333333333, \"#9c179e\"], [0.4444444444444444, \"#bd3786\"], [0.5555555555555556, \"#d8576b\"], [0.6666666666666666, \"#ed7953\"], [0.7777777777777778, \"#fb9f3a\"], [0.8888888888888888, \"#fdca26\"], [1.0, \"#f0f921\"]], \"sequentialminus\": [[0.0, \"#0d0887\"], [0.1111111111111111, \"#46039f\"], [0.2222222222222222, \"#7201a8\"], [0.3333333333333333, \"#9c179e\"], [0.4444444444444444, \"#bd3786\"], [0.5555555555555556, \"#d8576b\"], [0.6666666666666666, \"#ed7953\"], [0.7777777777777778, \"#fb9f3a\"], [0.8888888888888888, \"#fdca26\"], [1.0, \"#f0f921\"]]}, \"colorway\": [\"#636efa\", \"#EF553B\", \"#00cc96\", \"#ab63fa\", \"#FFA15A\", \"#19d3f3\", \"#FF6692\", \"#B6E880\", \"#FF97FF\", \"#FECB52\"], \"font\": {\"color\": \"#2a3f5f\"}, \"geo\": {\"bgcolor\": \"white\", \"lakecolor\": \"white\", \"landcolor\": \"#E5ECF6\", \"showlakes\": true, \"showland\": true, \"subunitcolor\": \"white\"}, \"hoverlabel\": {\"align\": \"left\"}, \"hovermode\": \"closest\", \"mapbox\": {\"style\": \"light\"}, \"paper_bgcolor\": \"white\", \"plot_bgcolor\": \"#E5ECF6\", \"polar\": {\"angularaxis\": {\"gridcolor\": \"white\", \"linecolor\": \"white\", \"ticks\": \"\"}, \"bgcolor\": \"#E5ECF6\", \"radialaxis\": {\"gridcolor\": \"white\", \"linecolor\": \"white\", \"ticks\": \"\"}}, \"scene\": {\"xaxis\": {\"backgroundcolor\": \"#E5ECF6\", \"gridcolor\": \"white\", \"gridwidth\": 2, \"linecolor\": \"white\", \"showbackground\": true, \"ticks\": \"\", \"zerolinecolor\": \"white\"}, \"yaxis\": {\"backgroundcolor\": \"#E5ECF6\", \"gridcolor\": \"white\", \"gridwidth\": 2, \"linecolor\": \"white\", \"showbackground\": true, \"ticks\": \"\", \"zerolinecolor\": \"white\"}, \"zaxis\": {\"backgroundcolor\": \"#E5ECF6\", \"gridcolor\": \"white\", \"gridwidth\": 2, \"linecolor\": \"white\", \"showbackground\": true, \"ticks\": \"\", \"zerolinecolor\": \"white\"}}, \"shapedefaults\": {\"line\": {\"color\": \"#2a3f5f\"}}, \"ternary\": {\"aaxis\": {\"gridcolor\": \"white\", \"linecolor\": \"white\", \"ticks\": \"\"}, \"baxis\": {\"gridcolor\": \"white\", \"linecolor\": \"white\", \"ticks\": \"\"}, \"bgcolor\": \"#E5ECF6\", \"caxis\": {\"gridcolor\": \"white\", \"linecolor\": \"white\", \"ticks\": \"\"}}, \"title\": {\"x\": 0.05}, \"xaxis\": {\"automargin\": true, \"gridcolor\": \"white\", \"linecolor\": \"white\", \"ticks\": \"\", \"title\": {\"standoff\": 15}, \"zerolinecolor\": \"white\", \"zerolinewidth\": 2}, \"yaxis\": {\"automargin\": true, \"gridcolor\": \"white\", \"linecolor\": \"white\", \"ticks\": \"\", \"title\": {\"standoff\": 15}, \"zerolinecolor\": \"white\", \"zerolinewidth\": 2}}}, \"width\": 700},\n",
       "                        {\"responsive\": true}\n",
       "                    ).then(function(){\n",
       "                            \n",
       "var gd = document.getElementById('ba209d45-7bc3-496b-ac13-dad9ee4c9aec');\n",
       "var x = new MutationObserver(function (mutations, observer) {{\n",
       "        var display = window.getComputedStyle(gd).display;\n",
       "        if (!display || display === 'none') {{\n",
       "            console.log([gd, 'removed!']);\n",
       "            Plotly.purge(gd);\n",
       "            observer.disconnect();\n",
       "        }}\n",
       "}});\n",
       "\n",
       "// Listen for the removal of the full notebook cells\n",
       "var notebookContainer = gd.closest('#notebook-container');\n",
       "if (notebookContainer) {{\n",
       "    x.observe(notebookContainer, {childList: true});\n",
       "}}\n",
       "\n",
       "// Listen for the clearing of the current output cell\n",
       "var outputEl = gd.closest('.output');\n",
       "if (outputEl) {{\n",
       "    x.observe(outputEl, {childList: true});\n",
       "}}\n",
       "\n",
       "                        })\n",
       "                };\n",
       "                });\n",
       "            </script>\n",
       "        </div>"
      ]
     },
     "metadata": {},
     "output_type": "display_data"
    }
   ],
   "source": [
    "fig = go.Figure()\n",
    "fig.add_trace(go.Scatter3d(\n",
    "                    x=mas_27[\"goles\"],\n",
    "                    y=mas_27[\"edad\"],\n",
    "                    z=mas_27[\"valor\"],\n",
    "                    mode=\"markers\",\n",
    "                    marker=dict(\n",
    "                    size=12,\n",
    "                    color = 'blue',\n",
    "                    colorscale='thermal',\n",
    "                    opacity=.8),\n",
    "                    name = \"mayores de 27\",\n",
    "                    text= mas_27[\"nombre\"]))\n",
    "fig.add_trace(go.Scatter3d(\n",
    "                    x=menos_27[\"goles\"],\n",
    "                    y=menos_27[\"edad\"],\n",
    "                    z=menos_27[\"valor\"],\n",
    "                    mode=\"markers\",\n",
    "                    marker=dict(\n",
    "                    size=12,\n",
    "                    color = 'orange',\n",
    "                    colorscale='thermal',\n",
    "                    opacity=.8),\n",
    "                    name = \"menores de 27\",\n",
    "                    text= menos_27[\"nombre\"]))\n",
    "fig.update_layout(scene = dict(\n",
    "                    xaxis_title='GOLES',\n",
    "                    yaxis_title='EDAD',\n",
    "                    zaxis_title='VALOR'),\n",
    "                    width=700,\n",
    "                    margin=dict(r=20, b=10, l=10, t=10))\n",
    "fig.show()"
   ]
  },
  {
   "cell_type": "code",
   "execution_count": 62,
   "metadata": {},
   "outputs": [],
   "source": [
    "lo = df.groupby(\"edad\").mean()\n",
    "media_valor = lo[\"valor\"]"
   ]
  },
  {
   "cell_type": "code",
   "execution_count": 63,
   "metadata": {},
   "outputs": [],
   "source": [
    "edad_unica = df.edad.unique()"
   ]
  },
  {
   "cell_type": "code",
   "execution_count": 64,
   "metadata": {},
   "outputs": [
    {
     "data": {
      "text/plain": [
       "array([21, 25, 28, 27, 26, 20, 32, 29, 24, 19, 22, 30, 31, 23, 17, 18, 33,\n",
       "       35], dtype=int64)"
      ]
     },
     "execution_count": 64,
     "metadata": {},
     "output_type": "execute_result"
    }
   ],
   "source": [
    "edad_unica"
   ]
  },
  {
   "cell_type": "code",
   "execution_count": 65,
   "metadata": {},
   "outputs": [
    {
     "name": "stdout",
     "output_type": "stream",
     "text": [
      "None\n"
     ]
    }
   ],
   "source": [
    "print (edad_unica.sort())"
   ]
  },
  {
   "cell_type": "code",
   "execution_count": 66,
   "metadata": {},
   "outputs": [
    {
     "data": {
      "text/plain": [
       "array([17, 18, 19, 20, 21, 22, 23, 24, 25, 26, 27, 28, 29, 30, 31, 32, 33,\n",
       "       35], dtype=int64)"
      ]
     },
     "execution_count": 66,
     "metadata": {},
     "output_type": "execute_result"
    }
   ],
   "source": [
    "edad_unica"
   ]
  },
  {
   "cell_type": "code",
   "execution_count": 67,
   "metadata": {},
   "outputs": [
    {
     "data": {
      "application/vnd.plotly.v1+json": {
       "config": {
        "plotlyServerURL": "https://plot.ly"
       },
       "data": [
        {
         "line": {
          "color": "palevioletred",
          "dash": "dot"
         },
         "marker": {
          "color": "red",
          "colorscale": [
           [
            0,
            "rgb(3, 35, 51)"
           ],
           [
            0.09090909090909091,
            "rgb(13, 48, 100)"
           ],
           [
            0.18181818181818182,
            "rgb(53, 50, 155)"
           ],
           [
            0.2727272727272727,
            "rgb(93, 62, 153)"
           ],
           [
            0.36363636363636365,
            "rgb(126, 77, 143)"
           ],
           [
            0.45454545454545453,
            "rgb(158, 89, 135)"
           ],
           [
            0.5454545454545454,
            "rgb(193, 100, 121)"
           ],
           [
            0.6363636363636364,
            "rgb(225, 113, 97)"
           ],
           [
            0.7272727272727273,
            "rgb(246, 139, 69)"
           ],
           [
            0.8181818181818182,
            "rgb(251, 173, 60)"
           ],
           [
            0.9090909090909091,
            "rgb(246, 211, 70)"
           ],
           [
            1,
            "rgb(231, 250, 90)"
           ]
          ],
          "opacity": 0.8,
          "size": 12
         },
         "mode": "lines+markers",
         "textposition": "top right",
         "type": "scatter",
         "x": [
          17,
          18,
          19,
          20,
          21,
          22,
          23,
          24,
          25,
          26,
          27,
          28,
          29,
          30,
          31,
          32,
          33,
          35
         ],
         "y": [
          36,
          29,
          48.375,
          54.75,
          87,
          45.1875,
          39.3125,
          50.5,
          54.07142857142857,
          50.666666666666664,
          46.90909090909091,
          74.41666666666667,
          54.285714285714285,
          40,
          54,
          58.666666666666664,
          28,
          60
         ]
        }
       ],
       "layout": {
        "height": 500,
        "template": {
         "data": {
          "bar": [
           {
            "error_x": {
             "color": "#2a3f5f"
            },
            "error_y": {
             "color": "#2a3f5f"
            },
            "marker": {
             "line": {
              "color": "#E5ECF6",
              "width": 0.5
             }
            },
            "type": "bar"
           }
          ],
          "barpolar": [
           {
            "marker": {
             "line": {
              "color": "#E5ECF6",
              "width": 0.5
             }
            },
            "type": "barpolar"
           }
          ],
          "carpet": [
           {
            "aaxis": {
             "endlinecolor": "#2a3f5f",
             "gridcolor": "white",
             "linecolor": "white",
             "minorgridcolor": "white",
             "startlinecolor": "#2a3f5f"
            },
            "baxis": {
             "endlinecolor": "#2a3f5f",
             "gridcolor": "white",
             "linecolor": "white",
             "minorgridcolor": "white",
             "startlinecolor": "#2a3f5f"
            },
            "type": "carpet"
           }
          ],
          "choropleth": [
           {
            "colorbar": {
             "outlinewidth": 0,
             "ticks": ""
            },
            "type": "choropleth"
           }
          ],
          "contour": [
           {
            "colorbar": {
             "outlinewidth": 0,
             "ticks": ""
            },
            "colorscale": [
             [
              0,
              "#0d0887"
             ],
             [
              0.1111111111111111,
              "#46039f"
             ],
             [
              0.2222222222222222,
              "#7201a8"
             ],
             [
              0.3333333333333333,
              "#9c179e"
             ],
             [
              0.4444444444444444,
              "#bd3786"
             ],
             [
              0.5555555555555556,
              "#d8576b"
             ],
             [
              0.6666666666666666,
              "#ed7953"
             ],
             [
              0.7777777777777778,
              "#fb9f3a"
             ],
             [
              0.8888888888888888,
              "#fdca26"
             ],
             [
              1,
              "#f0f921"
             ]
            ],
            "type": "contour"
           }
          ],
          "contourcarpet": [
           {
            "colorbar": {
             "outlinewidth": 0,
             "ticks": ""
            },
            "type": "contourcarpet"
           }
          ],
          "heatmap": [
           {
            "colorbar": {
             "outlinewidth": 0,
             "ticks": ""
            },
            "colorscale": [
             [
              0,
              "#0d0887"
             ],
             [
              0.1111111111111111,
              "#46039f"
             ],
             [
              0.2222222222222222,
              "#7201a8"
             ],
             [
              0.3333333333333333,
              "#9c179e"
             ],
             [
              0.4444444444444444,
              "#bd3786"
             ],
             [
              0.5555555555555556,
              "#d8576b"
             ],
             [
              0.6666666666666666,
              "#ed7953"
             ],
             [
              0.7777777777777778,
              "#fb9f3a"
             ],
             [
              0.8888888888888888,
              "#fdca26"
             ],
             [
              1,
              "#f0f921"
             ]
            ],
            "type": "heatmap"
           }
          ],
          "heatmapgl": [
           {
            "colorbar": {
             "outlinewidth": 0,
             "ticks": ""
            },
            "colorscale": [
             [
              0,
              "#0d0887"
             ],
             [
              0.1111111111111111,
              "#46039f"
             ],
             [
              0.2222222222222222,
              "#7201a8"
             ],
             [
              0.3333333333333333,
              "#9c179e"
             ],
             [
              0.4444444444444444,
              "#bd3786"
             ],
             [
              0.5555555555555556,
              "#d8576b"
             ],
             [
              0.6666666666666666,
              "#ed7953"
             ],
             [
              0.7777777777777778,
              "#fb9f3a"
             ],
             [
              0.8888888888888888,
              "#fdca26"
             ],
             [
              1,
              "#f0f921"
             ]
            ],
            "type": "heatmapgl"
           }
          ],
          "histogram": [
           {
            "marker": {
             "colorbar": {
              "outlinewidth": 0,
              "ticks": ""
             }
            },
            "type": "histogram"
           }
          ],
          "histogram2d": [
           {
            "colorbar": {
             "outlinewidth": 0,
             "ticks": ""
            },
            "colorscale": [
             [
              0,
              "#0d0887"
             ],
             [
              0.1111111111111111,
              "#46039f"
             ],
             [
              0.2222222222222222,
              "#7201a8"
             ],
             [
              0.3333333333333333,
              "#9c179e"
             ],
             [
              0.4444444444444444,
              "#bd3786"
             ],
             [
              0.5555555555555556,
              "#d8576b"
             ],
             [
              0.6666666666666666,
              "#ed7953"
             ],
             [
              0.7777777777777778,
              "#fb9f3a"
             ],
             [
              0.8888888888888888,
              "#fdca26"
             ],
             [
              1,
              "#f0f921"
             ]
            ],
            "type": "histogram2d"
           }
          ],
          "histogram2dcontour": [
           {
            "colorbar": {
             "outlinewidth": 0,
             "ticks": ""
            },
            "colorscale": [
             [
              0,
              "#0d0887"
             ],
             [
              0.1111111111111111,
              "#46039f"
             ],
             [
              0.2222222222222222,
              "#7201a8"
             ],
             [
              0.3333333333333333,
              "#9c179e"
             ],
             [
              0.4444444444444444,
              "#bd3786"
             ],
             [
              0.5555555555555556,
              "#d8576b"
             ],
             [
              0.6666666666666666,
              "#ed7953"
             ],
             [
              0.7777777777777778,
              "#fb9f3a"
             ],
             [
              0.8888888888888888,
              "#fdca26"
             ],
             [
              1,
              "#f0f921"
             ]
            ],
            "type": "histogram2dcontour"
           }
          ],
          "mesh3d": [
           {
            "colorbar": {
             "outlinewidth": 0,
             "ticks": ""
            },
            "type": "mesh3d"
           }
          ],
          "parcoords": [
           {
            "line": {
             "colorbar": {
              "outlinewidth": 0,
              "ticks": ""
             }
            },
            "type": "parcoords"
           }
          ],
          "pie": [
           {
            "automargin": true,
            "type": "pie"
           }
          ],
          "scatter": [
           {
            "marker": {
             "colorbar": {
              "outlinewidth": 0,
              "ticks": ""
             }
            },
            "type": "scatter"
           }
          ],
          "scatter3d": [
           {
            "line": {
             "colorbar": {
              "outlinewidth": 0,
              "ticks": ""
             }
            },
            "marker": {
             "colorbar": {
              "outlinewidth": 0,
              "ticks": ""
             }
            },
            "type": "scatter3d"
           }
          ],
          "scattercarpet": [
           {
            "marker": {
             "colorbar": {
              "outlinewidth": 0,
              "ticks": ""
             }
            },
            "type": "scattercarpet"
           }
          ],
          "scattergeo": [
           {
            "marker": {
             "colorbar": {
              "outlinewidth": 0,
              "ticks": ""
             }
            },
            "type": "scattergeo"
           }
          ],
          "scattergl": [
           {
            "marker": {
             "colorbar": {
              "outlinewidth": 0,
              "ticks": ""
             }
            },
            "type": "scattergl"
           }
          ],
          "scattermapbox": [
           {
            "marker": {
             "colorbar": {
              "outlinewidth": 0,
              "ticks": ""
             }
            },
            "type": "scattermapbox"
           }
          ],
          "scatterpolar": [
           {
            "marker": {
             "colorbar": {
              "outlinewidth": 0,
              "ticks": ""
             }
            },
            "type": "scatterpolar"
           }
          ],
          "scatterpolargl": [
           {
            "marker": {
             "colorbar": {
              "outlinewidth": 0,
              "ticks": ""
             }
            },
            "type": "scatterpolargl"
           }
          ],
          "scatterternary": [
           {
            "marker": {
             "colorbar": {
              "outlinewidth": 0,
              "ticks": ""
             }
            },
            "type": "scatterternary"
           }
          ],
          "surface": [
           {
            "colorbar": {
             "outlinewidth": 0,
             "ticks": ""
            },
            "colorscale": [
             [
              0,
              "#0d0887"
             ],
             [
              0.1111111111111111,
              "#46039f"
             ],
             [
              0.2222222222222222,
              "#7201a8"
             ],
             [
              0.3333333333333333,
              "#9c179e"
             ],
             [
              0.4444444444444444,
              "#bd3786"
             ],
             [
              0.5555555555555556,
              "#d8576b"
             ],
             [
              0.6666666666666666,
              "#ed7953"
             ],
             [
              0.7777777777777778,
              "#fb9f3a"
             ],
             [
              0.8888888888888888,
              "#fdca26"
             ],
             [
              1,
              "#f0f921"
             ]
            ],
            "type": "surface"
           }
          ],
          "table": [
           {
            "cells": {
             "fill": {
              "color": "#EBF0F8"
             },
             "line": {
              "color": "white"
             }
            },
            "header": {
             "fill": {
              "color": "#C8D4E3"
             },
             "line": {
              "color": "white"
             }
            },
            "type": "table"
           }
          ]
         },
         "layout": {
          "annotationdefaults": {
           "arrowcolor": "#2a3f5f",
           "arrowhead": 0,
           "arrowwidth": 1
          },
          "coloraxis": {
           "colorbar": {
            "outlinewidth": 0,
            "ticks": ""
           }
          },
          "colorscale": {
           "diverging": [
            [
             0,
             "#8e0152"
            ],
            [
             0.1,
             "#c51b7d"
            ],
            [
             0.2,
             "#de77ae"
            ],
            [
             0.3,
             "#f1b6da"
            ],
            [
             0.4,
             "#fde0ef"
            ],
            [
             0.5,
             "#f7f7f7"
            ],
            [
             0.6,
             "#e6f5d0"
            ],
            [
             0.7,
             "#b8e186"
            ],
            [
             0.8,
             "#7fbc41"
            ],
            [
             0.9,
             "#4d9221"
            ],
            [
             1,
             "#276419"
            ]
           ],
           "sequential": [
            [
             0,
             "#0d0887"
            ],
            [
             0.1111111111111111,
             "#46039f"
            ],
            [
             0.2222222222222222,
             "#7201a8"
            ],
            [
             0.3333333333333333,
             "#9c179e"
            ],
            [
             0.4444444444444444,
             "#bd3786"
            ],
            [
             0.5555555555555556,
             "#d8576b"
            ],
            [
             0.6666666666666666,
             "#ed7953"
            ],
            [
             0.7777777777777778,
             "#fb9f3a"
            ],
            [
             0.8888888888888888,
             "#fdca26"
            ],
            [
             1,
             "#f0f921"
            ]
           ],
           "sequentialminus": [
            [
             0,
             "#0d0887"
            ],
            [
             0.1111111111111111,
             "#46039f"
            ],
            [
             0.2222222222222222,
             "#7201a8"
            ],
            [
             0.3333333333333333,
             "#9c179e"
            ],
            [
             0.4444444444444444,
             "#bd3786"
            ],
            [
             0.5555555555555556,
             "#d8576b"
            ],
            [
             0.6666666666666666,
             "#ed7953"
            ],
            [
             0.7777777777777778,
             "#fb9f3a"
            ],
            [
             0.8888888888888888,
             "#fdca26"
            ],
            [
             1,
             "#f0f921"
            ]
           ]
          },
          "colorway": [
           "#636efa",
           "#EF553B",
           "#00cc96",
           "#ab63fa",
           "#FFA15A",
           "#19d3f3",
           "#FF6692",
           "#B6E880",
           "#FF97FF",
           "#FECB52"
          ],
          "font": {
           "color": "#2a3f5f"
          },
          "geo": {
           "bgcolor": "white",
           "lakecolor": "white",
           "landcolor": "#E5ECF6",
           "showlakes": true,
           "showland": true,
           "subunitcolor": "white"
          },
          "hoverlabel": {
           "align": "left"
          },
          "hovermode": "closest",
          "mapbox": {
           "style": "light"
          },
          "paper_bgcolor": "white",
          "plot_bgcolor": "#E5ECF6",
          "polar": {
           "angularaxis": {
            "gridcolor": "white",
            "linecolor": "white",
            "ticks": ""
           },
           "bgcolor": "#E5ECF6",
           "radialaxis": {
            "gridcolor": "white",
            "linecolor": "white",
            "ticks": ""
           }
          },
          "scene": {
           "xaxis": {
            "backgroundcolor": "#E5ECF6",
            "gridcolor": "white",
            "gridwidth": 2,
            "linecolor": "white",
            "showbackground": true,
            "ticks": "",
            "zerolinecolor": "white"
           },
           "yaxis": {
            "backgroundcolor": "#E5ECF6",
            "gridcolor": "white",
            "gridwidth": 2,
            "linecolor": "white",
            "showbackground": true,
            "ticks": "",
            "zerolinecolor": "white"
           },
           "zaxis": {
            "backgroundcolor": "#E5ECF6",
            "gridcolor": "white",
            "gridwidth": 2,
            "linecolor": "white",
            "showbackground": true,
            "ticks": "",
            "zerolinecolor": "white"
           }
          },
          "shapedefaults": {
           "line": {
            "color": "#2a3f5f"
           }
          },
          "ternary": {
           "aaxis": {
            "gridcolor": "white",
            "linecolor": "white",
            "ticks": ""
           },
           "baxis": {
            "gridcolor": "white",
            "linecolor": "white",
            "ticks": ""
           },
           "bgcolor": "#E5ECF6",
           "caxis": {
            "gridcolor": "white",
            "linecolor": "white",
            "ticks": ""
           }
          },
          "title": {
           "x": 0.05
          },
          "xaxis": {
           "automargin": true,
           "gridcolor": "white",
           "linecolor": "white",
           "ticks": "",
           "title": {
            "standoff": 15
           },
           "zerolinecolor": "white",
           "zerolinewidth": 2
          },
          "yaxis": {
           "automargin": true,
           "gridcolor": "white",
           "linecolor": "white",
           "ticks": "",
           "title": {
            "standoff": 15
           },
           "zerolinecolor": "white",
           "zerolinewidth": 2
          }
         }
        },
        "title": {
         "text": "Valor Promedio por Edad"
        },
        "xaxis": {
         "title": {
          "text": "Edad"
         }
        },
        "yaxis": {
         "title": {
          "text": "Valor"
         }
        }
       }
      },
      "text/html": [
       "<div>\n",
       "        \n",
       "        \n",
       "            <div id=\"ed69f23d-8395-4dee-9adc-492391e8565c\" class=\"plotly-graph-div\" style=\"height:500px; width:100%;\"></div>\n",
       "            <script type=\"text/javascript\">\n",
       "                require([\"plotly\"], function(Plotly) {\n",
       "                    window.PLOTLYENV=window.PLOTLYENV || {};\n",
       "                    \n",
       "                if (document.getElementById(\"ed69f23d-8395-4dee-9adc-492391e8565c\")) {\n",
       "                    Plotly.newPlot(\n",
       "                        'ed69f23d-8395-4dee-9adc-492391e8565c',\n",
       "                        [{\"line\": {\"color\": \"palevioletred\", \"dash\": \"dot\"}, \"marker\": {\"color\": \"red\", \"colorscale\": [[0.0, \"rgb(3, 35, 51)\"], [0.09090909090909091, \"rgb(13, 48, 100)\"], [0.18181818181818182, \"rgb(53, 50, 155)\"], [0.2727272727272727, \"rgb(93, 62, 153)\"], [0.36363636363636365, \"rgb(126, 77, 143)\"], [0.45454545454545453, \"rgb(158, 89, 135)\"], [0.5454545454545454, \"rgb(193, 100, 121)\"], [0.6363636363636364, \"rgb(225, 113, 97)\"], [0.7272727272727273, \"rgb(246, 139, 69)\"], [0.8181818181818182, \"rgb(251, 173, 60)\"], [0.9090909090909091, \"rgb(246, 211, 70)\"], [1.0, \"rgb(231, 250, 90)\"]], \"opacity\": 0.8, \"size\": 12}, \"mode\": \"lines+markers\", \"textposition\": \"top right\", \"type\": \"scatter\", \"x\": [17, 18, 19, 20, 21, 22, 23, 24, 25, 26, 27, 28, 29, 30, 31, 32, 33, 35], \"y\": [36.0, 29.0, 48.375, 54.75, 87.0, 45.1875, 39.3125, 50.5, 54.07142857142857, 50.666666666666664, 46.90909090909091, 74.41666666666667, 54.285714285714285, 40.0, 54.0, 58.666666666666664, 28.0, 60.0]}],\n",
       "                        {\"height\": 500, \"template\": {\"data\": {\"bar\": [{\"error_x\": {\"color\": \"#2a3f5f\"}, \"error_y\": {\"color\": \"#2a3f5f\"}, \"marker\": {\"line\": {\"color\": \"#E5ECF6\", \"width\": 0.5}}, \"type\": \"bar\"}], \"barpolar\": [{\"marker\": {\"line\": {\"color\": \"#E5ECF6\", \"width\": 0.5}}, \"type\": \"barpolar\"}], \"carpet\": [{\"aaxis\": {\"endlinecolor\": \"#2a3f5f\", \"gridcolor\": \"white\", \"linecolor\": \"white\", \"minorgridcolor\": \"white\", \"startlinecolor\": \"#2a3f5f\"}, \"baxis\": {\"endlinecolor\": \"#2a3f5f\", \"gridcolor\": \"white\", \"linecolor\": \"white\", \"minorgridcolor\": \"white\", \"startlinecolor\": \"#2a3f5f\"}, \"type\": \"carpet\"}], \"choropleth\": [{\"colorbar\": {\"outlinewidth\": 0, \"ticks\": \"\"}, \"type\": \"choropleth\"}], \"contour\": [{\"colorbar\": {\"outlinewidth\": 0, \"ticks\": \"\"}, \"colorscale\": [[0.0, \"#0d0887\"], [0.1111111111111111, \"#46039f\"], [0.2222222222222222, \"#7201a8\"], [0.3333333333333333, \"#9c179e\"], [0.4444444444444444, \"#bd3786\"], [0.5555555555555556, \"#d8576b\"], [0.6666666666666666, \"#ed7953\"], [0.7777777777777778, \"#fb9f3a\"], [0.8888888888888888, \"#fdca26\"], [1.0, \"#f0f921\"]], \"type\": \"contour\"}], \"contourcarpet\": [{\"colorbar\": {\"outlinewidth\": 0, \"ticks\": \"\"}, \"type\": \"contourcarpet\"}], \"heatmap\": [{\"colorbar\": {\"outlinewidth\": 0, \"ticks\": \"\"}, \"colorscale\": [[0.0, \"#0d0887\"], [0.1111111111111111, \"#46039f\"], [0.2222222222222222, \"#7201a8\"], [0.3333333333333333, \"#9c179e\"], [0.4444444444444444, \"#bd3786\"], [0.5555555555555556, \"#d8576b\"], [0.6666666666666666, \"#ed7953\"], [0.7777777777777778, \"#fb9f3a\"], [0.8888888888888888, \"#fdca26\"], [1.0, \"#f0f921\"]], \"type\": \"heatmap\"}], \"heatmapgl\": [{\"colorbar\": {\"outlinewidth\": 0, \"ticks\": \"\"}, \"colorscale\": [[0.0, \"#0d0887\"], [0.1111111111111111, \"#46039f\"], [0.2222222222222222, \"#7201a8\"], [0.3333333333333333, \"#9c179e\"], [0.4444444444444444, \"#bd3786\"], [0.5555555555555556, \"#d8576b\"], [0.6666666666666666, \"#ed7953\"], [0.7777777777777778, \"#fb9f3a\"], [0.8888888888888888, \"#fdca26\"], [1.0, \"#f0f921\"]], \"type\": \"heatmapgl\"}], \"histogram\": [{\"marker\": {\"colorbar\": {\"outlinewidth\": 0, \"ticks\": \"\"}}, \"type\": \"histogram\"}], \"histogram2d\": [{\"colorbar\": {\"outlinewidth\": 0, \"ticks\": \"\"}, \"colorscale\": [[0.0, \"#0d0887\"], [0.1111111111111111, \"#46039f\"], [0.2222222222222222, \"#7201a8\"], [0.3333333333333333, \"#9c179e\"], [0.4444444444444444, \"#bd3786\"], [0.5555555555555556, \"#d8576b\"], [0.6666666666666666, \"#ed7953\"], [0.7777777777777778, \"#fb9f3a\"], [0.8888888888888888, \"#fdca26\"], [1.0, \"#f0f921\"]], \"type\": \"histogram2d\"}], \"histogram2dcontour\": [{\"colorbar\": {\"outlinewidth\": 0, \"ticks\": \"\"}, \"colorscale\": [[0.0, \"#0d0887\"], [0.1111111111111111, \"#46039f\"], [0.2222222222222222, \"#7201a8\"], [0.3333333333333333, \"#9c179e\"], [0.4444444444444444, \"#bd3786\"], [0.5555555555555556, \"#d8576b\"], [0.6666666666666666, \"#ed7953\"], [0.7777777777777778, \"#fb9f3a\"], [0.8888888888888888, \"#fdca26\"], [1.0, \"#f0f921\"]], \"type\": \"histogram2dcontour\"}], \"mesh3d\": [{\"colorbar\": {\"outlinewidth\": 0, \"ticks\": \"\"}, \"type\": \"mesh3d\"}], \"parcoords\": [{\"line\": {\"colorbar\": {\"outlinewidth\": 0, \"ticks\": \"\"}}, \"type\": \"parcoords\"}], \"pie\": [{\"automargin\": true, \"type\": \"pie\"}], \"scatter\": [{\"marker\": {\"colorbar\": {\"outlinewidth\": 0, \"ticks\": \"\"}}, \"type\": \"scatter\"}], \"scatter3d\": [{\"line\": {\"colorbar\": {\"outlinewidth\": 0, \"ticks\": \"\"}}, \"marker\": {\"colorbar\": {\"outlinewidth\": 0, \"ticks\": \"\"}}, \"type\": \"scatter3d\"}], \"scattercarpet\": [{\"marker\": {\"colorbar\": {\"outlinewidth\": 0, \"ticks\": \"\"}}, \"type\": \"scattercarpet\"}], \"scattergeo\": [{\"marker\": {\"colorbar\": {\"outlinewidth\": 0, \"ticks\": \"\"}}, \"type\": \"scattergeo\"}], \"scattergl\": [{\"marker\": {\"colorbar\": {\"outlinewidth\": 0, \"ticks\": \"\"}}, \"type\": \"scattergl\"}], \"scattermapbox\": [{\"marker\": {\"colorbar\": {\"outlinewidth\": 0, \"ticks\": \"\"}}, \"type\": \"scattermapbox\"}], \"scatterpolar\": [{\"marker\": {\"colorbar\": {\"outlinewidth\": 0, \"ticks\": \"\"}}, \"type\": \"scatterpolar\"}], \"scatterpolargl\": [{\"marker\": {\"colorbar\": {\"outlinewidth\": 0, \"ticks\": \"\"}}, \"type\": \"scatterpolargl\"}], \"scatterternary\": [{\"marker\": {\"colorbar\": {\"outlinewidth\": 0, \"ticks\": \"\"}}, \"type\": \"scatterternary\"}], \"surface\": [{\"colorbar\": {\"outlinewidth\": 0, \"ticks\": \"\"}, \"colorscale\": [[0.0, \"#0d0887\"], [0.1111111111111111, \"#46039f\"], [0.2222222222222222, \"#7201a8\"], [0.3333333333333333, \"#9c179e\"], [0.4444444444444444, \"#bd3786\"], [0.5555555555555556, \"#d8576b\"], [0.6666666666666666, \"#ed7953\"], [0.7777777777777778, \"#fb9f3a\"], [0.8888888888888888, \"#fdca26\"], [1.0, \"#f0f921\"]], \"type\": \"surface\"}], \"table\": [{\"cells\": {\"fill\": {\"color\": \"#EBF0F8\"}, \"line\": {\"color\": \"white\"}}, \"header\": {\"fill\": {\"color\": \"#C8D4E3\"}, \"line\": {\"color\": \"white\"}}, \"type\": \"table\"}]}, \"layout\": {\"annotationdefaults\": {\"arrowcolor\": \"#2a3f5f\", \"arrowhead\": 0, \"arrowwidth\": 1}, \"coloraxis\": {\"colorbar\": {\"outlinewidth\": 0, \"ticks\": \"\"}}, \"colorscale\": {\"diverging\": [[0, \"#8e0152\"], [0.1, \"#c51b7d\"], [0.2, \"#de77ae\"], [0.3, \"#f1b6da\"], [0.4, \"#fde0ef\"], [0.5, \"#f7f7f7\"], [0.6, \"#e6f5d0\"], [0.7, \"#b8e186\"], [0.8, \"#7fbc41\"], [0.9, \"#4d9221\"], [1, \"#276419\"]], \"sequential\": [[0.0, \"#0d0887\"], [0.1111111111111111, \"#46039f\"], [0.2222222222222222, \"#7201a8\"], [0.3333333333333333, \"#9c179e\"], [0.4444444444444444, \"#bd3786\"], [0.5555555555555556, \"#d8576b\"], [0.6666666666666666, \"#ed7953\"], [0.7777777777777778, \"#fb9f3a\"], [0.8888888888888888, \"#fdca26\"], [1.0, \"#f0f921\"]], \"sequentialminus\": [[0.0, \"#0d0887\"], [0.1111111111111111, \"#46039f\"], [0.2222222222222222, \"#7201a8\"], [0.3333333333333333, \"#9c179e\"], [0.4444444444444444, \"#bd3786\"], [0.5555555555555556, \"#d8576b\"], [0.6666666666666666, \"#ed7953\"], [0.7777777777777778, \"#fb9f3a\"], [0.8888888888888888, \"#fdca26\"], [1.0, \"#f0f921\"]]}, \"colorway\": [\"#636efa\", \"#EF553B\", \"#00cc96\", \"#ab63fa\", \"#FFA15A\", \"#19d3f3\", \"#FF6692\", \"#B6E880\", \"#FF97FF\", \"#FECB52\"], \"font\": {\"color\": \"#2a3f5f\"}, \"geo\": {\"bgcolor\": \"white\", \"lakecolor\": \"white\", \"landcolor\": \"#E5ECF6\", \"showlakes\": true, \"showland\": true, \"subunitcolor\": \"white\"}, \"hoverlabel\": {\"align\": \"left\"}, \"hovermode\": \"closest\", \"mapbox\": {\"style\": \"light\"}, \"paper_bgcolor\": \"white\", \"plot_bgcolor\": \"#E5ECF6\", \"polar\": {\"angularaxis\": {\"gridcolor\": \"white\", \"linecolor\": \"white\", \"ticks\": \"\"}, \"bgcolor\": \"#E5ECF6\", \"radialaxis\": {\"gridcolor\": \"white\", \"linecolor\": \"white\", \"ticks\": \"\"}}, \"scene\": {\"xaxis\": {\"backgroundcolor\": \"#E5ECF6\", \"gridcolor\": \"white\", \"gridwidth\": 2, \"linecolor\": \"white\", \"showbackground\": true, \"ticks\": \"\", \"zerolinecolor\": \"white\"}, \"yaxis\": {\"backgroundcolor\": \"#E5ECF6\", \"gridcolor\": \"white\", \"gridwidth\": 2, \"linecolor\": \"white\", \"showbackground\": true, \"ticks\": \"\", \"zerolinecolor\": \"white\"}, \"zaxis\": {\"backgroundcolor\": \"#E5ECF6\", \"gridcolor\": \"white\", \"gridwidth\": 2, \"linecolor\": \"white\", \"showbackground\": true, \"ticks\": \"\", \"zerolinecolor\": \"white\"}}, \"shapedefaults\": {\"line\": {\"color\": \"#2a3f5f\"}}, \"ternary\": {\"aaxis\": {\"gridcolor\": \"white\", \"linecolor\": \"white\", \"ticks\": \"\"}, \"baxis\": {\"gridcolor\": \"white\", \"linecolor\": \"white\", \"ticks\": \"\"}, \"bgcolor\": \"#E5ECF6\", \"caxis\": {\"gridcolor\": \"white\", \"linecolor\": \"white\", \"ticks\": \"\"}}, \"title\": {\"x\": 0.05}, \"xaxis\": {\"automargin\": true, \"gridcolor\": \"white\", \"linecolor\": \"white\", \"ticks\": \"\", \"title\": {\"standoff\": 15}, \"zerolinecolor\": \"white\", \"zerolinewidth\": 2}, \"yaxis\": {\"automargin\": true, \"gridcolor\": \"white\", \"linecolor\": \"white\", \"ticks\": \"\", \"title\": {\"standoff\": 15}, \"zerolinecolor\": \"white\", \"zerolinewidth\": 2}}}, \"title\": {\"text\": \"Valor Promedio por Edad\"}, \"xaxis\": {\"title\": {\"text\": \"Edad\"}}, \"yaxis\": {\"title\": {\"text\": \"Valor\"}}},\n",
       "                        {\"responsive\": true}\n",
       "                    ).then(function(){\n",
       "                            \n",
       "var gd = document.getElementById('ed69f23d-8395-4dee-9adc-492391e8565c');\n",
       "var x = new MutationObserver(function (mutations, observer) {{\n",
       "        var display = window.getComputedStyle(gd).display;\n",
       "        if (!display || display === 'none') {{\n",
       "            console.log([gd, 'removed!']);\n",
       "            Plotly.purge(gd);\n",
       "            observer.disconnect();\n",
       "        }}\n",
       "}});\n",
       "\n",
       "// Listen for the removal of the full notebook cells\n",
       "var notebookContainer = gd.closest('#notebook-container');\n",
       "if (notebookContainer) {{\n",
       "    x.observe(notebookContainer, {childList: true});\n",
       "}}\n",
       "\n",
       "// Listen for the clearing of the current output cell\n",
       "var outputEl = gd.closest('.output');\n",
       "if (outputEl) {{\n",
       "    x.observe(outputEl, {childList: true});\n",
       "}}\n",
       "\n",
       "                        })\n",
       "                };\n",
       "                });\n",
       "            </script>\n",
       "        </div>"
      ]
     },
     "metadata": {},
     "output_type": "display_data"
    }
   ],
   "source": [
    "fig = go.Figure()\n",
    "\n",
    "fig.add_trace(go.Scatter(\n",
    "    x=edad_unica,\n",
    "    y=media_valor,\n",
    "    mode=\"lines+markers\",\n",
    "    marker=dict(\n",
    "    size=12,\n",
    "    color = 'red',\n",
    "    colorscale='thermal',\n",
    "    opacity=.8),\n",
    "    line = dict(\n",
    "    color= \"palevioletred\",\n",
    "    dash = \"dot\")\n",
    "))\n",
    "fig.update_traces(textposition='top right')\n",
    "\n",
    "fig.update_layout(\n",
    "    height=500,\n",
    "    title_text='Valor Promedio por Edad',\n",
    "    xaxis_title=\"Edad\",\n",
    "    yaxis_title=\"Valor\")\n",
    "\n",
    "fig"
   ]
  },
  {
   "cell_type": "code",
   "execution_count": 56,
   "metadata": {},
   "outputs": [],
   "source": [
    "dasda = df.groupby(\"goles\").mean()\n",
    "media_valor_gol = dasda[\"valor\"]"
   ]
  },
  {
   "cell_type": "code",
   "execution_count": 57,
   "metadata": {},
   "outputs": [],
   "source": [
    "goles_unica = df.goles.unique()"
   ]
  },
  {
   "cell_type": "code",
   "execution_count": 58,
   "metadata": {},
   "outputs": [
    {
     "name": "stdout",
     "output_type": "stream",
     "text": [
      "None\n"
     ]
    }
   ],
   "source": [
    "print (goles_unica.sort())"
   ]
  },
  {
   "cell_type": "code",
   "execution_count": 59,
   "metadata": {},
   "outputs": [
    {
     "data": {
      "text/plain": [
       "array([ 0,  1,  2,  3,  4,  5,  6,  7,  8,  9, 10, 11, 12, 13, 14, 16, 17,\n",
       "       18, 19, 21, 25, 27], dtype=int64)"
      ]
     },
     "execution_count": 59,
     "metadata": {},
     "output_type": "execute_result"
    }
   ],
   "source": [
    "goles_unica"
   ]
  },
  {
   "cell_type": "code",
   "execution_count": 60,
   "metadata": {},
   "outputs": [
    {
     "data": {
      "application/vnd.plotly.v1+json": {
       "config": {
        "plotlyServerURL": "https://plot.ly"
       },
       "data": [
        {
         "line": {
          "color": "orange",
          "dash": "dot"
         },
         "marker": {
          "color": "blue",
          "colorscale": [
           [
            0,
            "rgb(3, 35, 51)"
           ],
           [
            0.09090909090909091,
            "rgb(13, 48, 100)"
           ],
           [
            0.18181818181818182,
            "rgb(53, 50, 155)"
           ],
           [
            0.2727272727272727,
            "rgb(93, 62, 153)"
           ],
           [
            0.36363636363636365,
            "rgb(126, 77, 143)"
           ],
           [
            0.45454545454545453,
            "rgb(158, 89, 135)"
           ],
           [
            0.5454545454545454,
            "rgb(193, 100, 121)"
           ],
           [
            0.6363636363636364,
            "rgb(225, 113, 97)"
           ],
           [
            0.7272727272727273,
            "rgb(246, 139, 69)"
           ],
           [
            0.8181818181818182,
            "rgb(251, 173, 60)"
           ],
           [
            0.9090909090909091,
            "rgb(246, 211, 70)"
           ],
           [
            1,
            "rgb(231, 250, 90)"
           ]
          ],
          "opacity": 0.8,
          "size": 12
         },
         "mode": "lines+markers",
         "textposition": "top center",
         "type": "scatter",
         "x": [
          0,
          1,
          2,
          3,
          4,
          5,
          6,
          7,
          8,
          9,
          10,
          11,
          12,
          13,
          14,
          16,
          17,
          18,
          19,
          21,
          25,
          27
         ],
         "y": [
          38.857142857142854,
          49.5,
          37.42857142857143,
          35.5,
          44.833333333333336,
          42,
          41.333333333333336,
          38.77777777777778,
          53.6,
          43.42857142857143,
          46.666666666666664,
          66,
          60,
          58.75,
          83.25,
          70.66666666666667,
          62,
          110,
          112,
          62,
          56,
          40
         ]
        }
       ],
       "layout": {
        "height": 500,
        "template": {
         "data": {
          "bar": [
           {
            "error_x": {
             "color": "#2a3f5f"
            },
            "error_y": {
             "color": "#2a3f5f"
            },
            "marker": {
             "line": {
              "color": "#E5ECF6",
              "width": 0.5
             }
            },
            "type": "bar"
           }
          ],
          "barpolar": [
           {
            "marker": {
             "line": {
              "color": "#E5ECF6",
              "width": 0.5
             }
            },
            "type": "barpolar"
           }
          ],
          "carpet": [
           {
            "aaxis": {
             "endlinecolor": "#2a3f5f",
             "gridcolor": "white",
             "linecolor": "white",
             "minorgridcolor": "white",
             "startlinecolor": "#2a3f5f"
            },
            "baxis": {
             "endlinecolor": "#2a3f5f",
             "gridcolor": "white",
             "linecolor": "white",
             "minorgridcolor": "white",
             "startlinecolor": "#2a3f5f"
            },
            "type": "carpet"
           }
          ],
          "choropleth": [
           {
            "colorbar": {
             "outlinewidth": 0,
             "ticks": ""
            },
            "type": "choropleth"
           }
          ],
          "contour": [
           {
            "colorbar": {
             "outlinewidth": 0,
             "ticks": ""
            },
            "colorscale": [
             [
              0,
              "#0d0887"
             ],
             [
              0.1111111111111111,
              "#46039f"
             ],
             [
              0.2222222222222222,
              "#7201a8"
             ],
             [
              0.3333333333333333,
              "#9c179e"
             ],
             [
              0.4444444444444444,
              "#bd3786"
             ],
             [
              0.5555555555555556,
              "#d8576b"
             ],
             [
              0.6666666666666666,
              "#ed7953"
             ],
             [
              0.7777777777777778,
              "#fb9f3a"
             ],
             [
              0.8888888888888888,
              "#fdca26"
             ],
             [
              1,
              "#f0f921"
             ]
            ],
            "type": "contour"
           }
          ],
          "contourcarpet": [
           {
            "colorbar": {
             "outlinewidth": 0,
             "ticks": ""
            },
            "type": "contourcarpet"
           }
          ],
          "heatmap": [
           {
            "colorbar": {
             "outlinewidth": 0,
             "ticks": ""
            },
            "colorscale": [
             [
              0,
              "#0d0887"
             ],
             [
              0.1111111111111111,
              "#46039f"
             ],
             [
              0.2222222222222222,
              "#7201a8"
             ],
             [
              0.3333333333333333,
              "#9c179e"
             ],
             [
              0.4444444444444444,
              "#bd3786"
             ],
             [
              0.5555555555555556,
              "#d8576b"
             ],
             [
              0.6666666666666666,
              "#ed7953"
             ],
             [
              0.7777777777777778,
              "#fb9f3a"
             ],
             [
              0.8888888888888888,
              "#fdca26"
             ],
             [
              1,
              "#f0f921"
             ]
            ],
            "type": "heatmap"
           }
          ],
          "heatmapgl": [
           {
            "colorbar": {
             "outlinewidth": 0,
             "ticks": ""
            },
            "colorscale": [
             [
              0,
              "#0d0887"
             ],
             [
              0.1111111111111111,
              "#46039f"
             ],
             [
              0.2222222222222222,
              "#7201a8"
             ],
             [
              0.3333333333333333,
              "#9c179e"
             ],
             [
              0.4444444444444444,
              "#bd3786"
             ],
             [
              0.5555555555555556,
              "#d8576b"
             ],
             [
              0.6666666666666666,
              "#ed7953"
             ],
             [
              0.7777777777777778,
              "#fb9f3a"
             ],
             [
              0.8888888888888888,
              "#fdca26"
             ],
             [
              1,
              "#f0f921"
             ]
            ],
            "type": "heatmapgl"
           }
          ],
          "histogram": [
           {
            "marker": {
             "colorbar": {
              "outlinewidth": 0,
              "ticks": ""
             }
            },
            "type": "histogram"
           }
          ],
          "histogram2d": [
           {
            "colorbar": {
             "outlinewidth": 0,
             "ticks": ""
            },
            "colorscale": [
             [
              0,
              "#0d0887"
             ],
             [
              0.1111111111111111,
              "#46039f"
             ],
             [
              0.2222222222222222,
              "#7201a8"
             ],
             [
              0.3333333333333333,
              "#9c179e"
             ],
             [
              0.4444444444444444,
              "#bd3786"
             ],
             [
              0.5555555555555556,
              "#d8576b"
             ],
             [
              0.6666666666666666,
              "#ed7953"
             ],
             [
              0.7777777777777778,
              "#fb9f3a"
             ],
             [
              0.8888888888888888,
              "#fdca26"
             ],
             [
              1,
              "#f0f921"
             ]
            ],
            "type": "histogram2d"
           }
          ],
          "histogram2dcontour": [
           {
            "colorbar": {
             "outlinewidth": 0,
             "ticks": ""
            },
            "colorscale": [
             [
              0,
              "#0d0887"
             ],
             [
              0.1111111111111111,
              "#46039f"
             ],
             [
              0.2222222222222222,
              "#7201a8"
             ],
             [
              0.3333333333333333,
              "#9c179e"
             ],
             [
              0.4444444444444444,
              "#bd3786"
             ],
             [
              0.5555555555555556,
              "#d8576b"
             ],
             [
              0.6666666666666666,
              "#ed7953"
             ],
             [
              0.7777777777777778,
              "#fb9f3a"
             ],
             [
              0.8888888888888888,
              "#fdca26"
             ],
             [
              1,
              "#f0f921"
             ]
            ],
            "type": "histogram2dcontour"
           }
          ],
          "mesh3d": [
           {
            "colorbar": {
             "outlinewidth": 0,
             "ticks": ""
            },
            "type": "mesh3d"
           }
          ],
          "parcoords": [
           {
            "line": {
             "colorbar": {
              "outlinewidth": 0,
              "ticks": ""
             }
            },
            "type": "parcoords"
           }
          ],
          "pie": [
           {
            "automargin": true,
            "type": "pie"
           }
          ],
          "scatter": [
           {
            "marker": {
             "colorbar": {
              "outlinewidth": 0,
              "ticks": ""
             }
            },
            "type": "scatter"
           }
          ],
          "scatter3d": [
           {
            "line": {
             "colorbar": {
              "outlinewidth": 0,
              "ticks": ""
             }
            },
            "marker": {
             "colorbar": {
              "outlinewidth": 0,
              "ticks": ""
             }
            },
            "type": "scatter3d"
           }
          ],
          "scattercarpet": [
           {
            "marker": {
             "colorbar": {
              "outlinewidth": 0,
              "ticks": ""
             }
            },
            "type": "scattercarpet"
           }
          ],
          "scattergeo": [
           {
            "marker": {
             "colorbar": {
              "outlinewidth": 0,
              "ticks": ""
             }
            },
            "type": "scattergeo"
           }
          ],
          "scattergl": [
           {
            "marker": {
             "colorbar": {
              "outlinewidth": 0,
              "ticks": ""
             }
            },
            "type": "scattergl"
           }
          ],
          "scattermapbox": [
           {
            "marker": {
             "colorbar": {
              "outlinewidth": 0,
              "ticks": ""
             }
            },
            "type": "scattermapbox"
           }
          ],
          "scatterpolar": [
           {
            "marker": {
             "colorbar": {
              "outlinewidth": 0,
              "ticks": ""
             }
            },
            "type": "scatterpolar"
           }
          ],
          "scatterpolargl": [
           {
            "marker": {
             "colorbar": {
              "outlinewidth": 0,
              "ticks": ""
             }
            },
            "type": "scatterpolargl"
           }
          ],
          "scatterternary": [
           {
            "marker": {
             "colorbar": {
              "outlinewidth": 0,
              "ticks": ""
             }
            },
            "type": "scatterternary"
           }
          ],
          "surface": [
           {
            "colorbar": {
             "outlinewidth": 0,
             "ticks": ""
            },
            "colorscale": [
             [
              0,
              "#0d0887"
             ],
             [
              0.1111111111111111,
              "#46039f"
             ],
             [
              0.2222222222222222,
              "#7201a8"
             ],
             [
              0.3333333333333333,
              "#9c179e"
             ],
             [
              0.4444444444444444,
              "#bd3786"
             ],
             [
              0.5555555555555556,
              "#d8576b"
             ],
             [
              0.6666666666666666,
              "#ed7953"
             ],
             [
              0.7777777777777778,
              "#fb9f3a"
             ],
             [
              0.8888888888888888,
              "#fdca26"
             ],
             [
              1,
              "#f0f921"
             ]
            ],
            "type": "surface"
           }
          ],
          "table": [
           {
            "cells": {
             "fill": {
              "color": "#EBF0F8"
             },
             "line": {
              "color": "white"
             }
            },
            "header": {
             "fill": {
              "color": "#C8D4E3"
             },
             "line": {
              "color": "white"
             }
            },
            "type": "table"
           }
          ]
         },
         "layout": {
          "annotationdefaults": {
           "arrowcolor": "#2a3f5f",
           "arrowhead": 0,
           "arrowwidth": 1
          },
          "coloraxis": {
           "colorbar": {
            "outlinewidth": 0,
            "ticks": ""
           }
          },
          "colorscale": {
           "diverging": [
            [
             0,
             "#8e0152"
            ],
            [
             0.1,
             "#c51b7d"
            ],
            [
             0.2,
             "#de77ae"
            ],
            [
             0.3,
             "#f1b6da"
            ],
            [
             0.4,
             "#fde0ef"
            ],
            [
             0.5,
             "#f7f7f7"
            ],
            [
             0.6,
             "#e6f5d0"
            ],
            [
             0.7,
             "#b8e186"
            ],
            [
             0.8,
             "#7fbc41"
            ],
            [
             0.9,
             "#4d9221"
            ],
            [
             1,
             "#276419"
            ]
           ],
           "sequential": [
            [
             0,
             "#0d0887"
            ],
            [
             0.1111111111111111,
             "#46039f"
            ],
            [
             0.2222222222222222,
             "#7201a8"
            ],
            [
             0.3333333333333333,
             "#9c179e"
            ],
            [
             0.4444444444444444,
             "#bd3786"
            ],
            [
             0.5555555555555556,
             "#d8576b"
            ],
            [
             0.6666666666666666,
             "#ed7953"
            ],
            [
             0.7777777777777778,
             "#fb9f3a"
            ],
            [
             0.8888888888888888,
             "#fdca26"
            ],
            [
             1,
             "#f0f921"
            ]
           ],
           "sequentialminus": [
            [
             0,
             "#0d0887"
            ],
            [
             0.1111111111111111,
             "#46039f"
            ],
            [
             0.2222222222222222,
             "#7201a8"
            ],
            [
             0.3333333333333333,
             "#9c179e"
            ],
            [
             0.4444444444444444,
             "#bd3786"
            ],
            [
             0.5555555555555556,
             "#d8576b"
            ],
            [
             0.6666666666666666,
             "#ed7953"
            ],
            [
             0.7777777777777778,
             "#fb9f3a"
            ],
            [
             0.8888888888888888,
             "#fdca26"
            ],
            [
             1,
             "#f0f921"
            ]
           ]
          },
          "colorway": [
           "#636efa",
           "#EF553B",
           "#00cc96",
           "#ab63fa",
           "#FFA15A",
           "#19d3f3",
           "#FF6692",
           "#B6E880",
           "#FF97FF",
           "#FECB52"
          ],
          "font": {
           "color": "#2a3f5f"
          },
          "geo": {
           "bgcolor": "white",
           "lakecolor": "white",
           "landcolor": "#E5ECF6",
           "showlakes": true,
           "showland": true,
           "subunitcolor": "white"
          },
          "hoverlabel": {
           "align": "left"
          },
          "hovermode": "closest",
          "mapbox": {
           "style": "light"
          },
          "paper_bgcolor": "white",
          "plot_bgcolor": "#E5ECF6",
          "polar": {
           "angularaxis": {
            "gridcolor": "white",
            "linecolor": "white",
            "ticks": ""
           },
           "bgcolor": "#E5ECF6",
           "radialaxis": {
            "gridcolor": "white",
            "linecolor": "white",
            "ticks": ""
           }
          },
          "scene": {
           "xaxis": {
            "backgroundcolor": "#E5ECF6",
            "gridcolor": "white",
            "gridwidth": 2,
            "linecolor": "white",
            "showbackground": true,
            "ticks": "",
            "zerolinecolor": "white"
           },
           "yaxis": {
            "backgroundcolor": "#E5ECF6",
            "gridcolor": "white",
            "gridwidth": 2,
            "linecolor": "white",
            "showbackground": true,
            "ticks": "",
            "zerolinecolor": "white"
           },
           "zaxis": {
            "backgroundcolor": "#E5ECF6",
            "gridcolor": "white",
            "gridwidth": 2,
            "linecolor": "white",
            "showbackground": true,
            "ticks": "",
            "zerolinecolor": "white"
           }
          },
          "shapedefaults": {
           "line": {
            "color": "#2a3f5f"
           }
          },
          "ternary": {
           "aaxis": {
            "gridcolor": "white",
            "linecolor": "white",
            "ticks": ""
           },
           "baxis": {
            "gridcolor": "white",
            "linecolor": "white",
            "ticks": ""
           },
           "bgcolor": "#E5ECF6",
           "caxis": {
            "gridcolor": "white",
            "linecolor": "white",
            "ticks": ""
           }
          },
          "title": {
           "x": 0.05
          },
          "xaxis": {
           "automargin": true,
           "gridcolor": "white",
           "linecolor": "white",
           "ticks": "",
           "title": {
            "standoff": 15
           },
           "zerolinecolor": "white",
           "zerolinewidth": 2
          },
          "yaxis": {
           "automargin": true,
           "gridcolor": "white",
           "linecolor": "white",
           "ticks": "",
           "title": {
            "standoff": 15
           },
           "zerolinecolor": "white",
           "zerolinewidth": 2
          }
         }
        },
        "title": {
         "text": "Valor Promedio por Gol"
        },
        "xaxis": {
         "title": {
          "text": "Goles"
         }
        },
        "yaxis": {
         "title": {
          "text": "Valor"
         }
        }
       }
      },
      "text/html": [
       "<div>\n",
       "        \n",
       "        \n",
       "            <div id=\"8b08ab0a-4b71-4d10-8282-4dbf381da492\" class=\"plotly-graph-div\" style=\"height:500px; width:100%;\"></div>\n",
       "            <script type=\"text/javascript\">\n",
       "                require([\"plotly\"], function(Plotly) {\n",
       "                    window.PLOTLYENV=window.PLOTLYENV || {};\n",
       "                    \n",
       "                if (document.getElementById(\"8b08ab0a-4b71-4d10-8282-4dbf381da492\")) {\n",
       "                    Plotly.newPlot(\n",
       "                        '8b08ab0a-4b71-4d10-8282-4dbf381da492',\n",
       "                        [{\"line\": {\"color\": \"orange\", \"dash\": \"dot\"}, \"marker\": {\"color\": \"blue\", \"colorscale\": [[0.0, \"rgb(3, 35, 51)\"], [0.09090909090909091, \"rgb(13, 48, 100)\"], [0.18181818181818182, \"rgb(53, 50, 155)\"], [0.2727272727272727, \"rgb(93, 62, 153)\"], [0.36363636363636365, \"rgb(126, 77, 143)\"], [0.45454545454545453, \"rgb(158, 89, 135)\"], [0.5454545454545454, \"rgb(193, 100, 121)\"], [0.6363636363636364, \"rgb(225, 113, 97)\"], [0.7272727272727273, \"rgb(246, 139, 69)\"], [0.8181818181818182, \"rgb(251, 173, 60)\"], [0.9090909090909091, \"rgb(246, 211, 70)\"], [1.0, \"rgb(231, 250, 90)\"]], \"opacity\": 0.8, \"size\": 12}, \"mode\": \"lines+markers\", \"textposition\": \"top center\", \"type\": \"scatter\", \"x\": [0, 1, 2, 3, 4, 5, 6, 7, 8, 9, 10, 11, 12, 13, 14, 16, 17, 18, 19, 21, 25, 27], \"y\": [38.857142857142854, 49.5, 37.42857142857143, 35.5, 44.833333333333336, 42.0, 41.333333333333336, 38.77777777777778, 53.6, 43.42857142857143, 46.666666666666664, 66.0, 60.0, 58.75, 83.25, 70.66666666666667, 62.0, 110.0, 112.0, 62.0, 56.0, 40.0]}],\n",
       "                        {\"height\": 500, \"template\": {\"data\": {\"bar\": [{\"error_x\": {\"color\": \"#2a3f5f\"}, \"error_y\": {\"color\": \"#2a3f5f\"}, \"marker\": {\"line\": {\"color\": \"#E5ECF6\", \"width\": 0.5}}, \"type\": \"bar\"}], \"barpolar\": [{\"marker\": {\"line\": {\"color\": \"#E5ECF6\", \"width\": 0.5}}, \"type\": \"barpolar\"}], \"carpet\": [{\"aaxis\": {\"endlinecolor\": \"#2a3f5f\", \"gridcolor\": \"white\", \"linecolor\": \"white\", \"minorgridcolor\": \"white\", \"startlinecolor\": \"#2a3f5f\"}, \"baxis\": {\"endlinecolor\": \"#2a3f5f\", \"gridcolor\": \"white\", \"linecolor\": \"white\", \"minorgridcolor\": \"white\", \"startlinecolor\": \"#2a3f5f\"}, \"type\": \"carpet\"}], \"choropleth\": [{\"colorbar\": {\"outlinewidth\": 0, \"ticks\": \"\"}, \"type\": \"choropleth\"}], \"contour\": [{\"colorbar\": {\"outlinewidth\": 0, \"ticks\": \"\"}, \"colorscale\": [[0.0, \"#0d0887\"], [0.1111111111111111, \"#46039f\"], [0.2222222222222222, \"#7201a8\"], [0.3333333333333333, \"#9c179e\"], [0.4444444444444444, \"#bd3786\"], [0.5555555555555556, \"#d8576b\"], [0.6666666666666666, \"#ed7953\"], [0.7777777777777778, \"#fb9f3a\"], [0.8888888888888888, \"#fdca26\"], [1.0, \"#f0f921\"]], \"type\": \"contour\"}], \"contourcarpet\": [{\"colorbar\": {\"outlinewidth\": 0, \"ticks\": \"\"}, \"type\": \"contourcarpet\"}], \"heatmap\": [{\"colorbar\": {\"outlinewidth\": 0, \"ticks\": \"\"}, \"colorscale\": [[0.0, \"#0d0887\"], [0.1111111111111111, \"#46039f\"], [0.2222222222222222, \"#7201a8\"], [0.3333333333333333, \"#9c179e\"], [0.4444444444444444, \"#bd3786\"], [0.5555555555555556, \"#d8576b\"], [0.6666666666666666, \"#ed7953\"], [0.7777777777777778, \"#fb9f3a\"], [0.8888888888888888, \"#fdca26\"], [1.0, \"#f0f921\"]], \"type\": \"heatmap\"}], \"heatmapgl\": [{\"colorbar\": {\"outlinewidth\": 0, \"ticks\": \"\"}, \"colorscale\": [[0.0, \"#0d0887\"], [0.1111111111111111, \"#46039f\"], [0.2222222222222222, \"#7201a8\"], [0.3333333333333333, \"#9c179e\"], [0.4444444444444444, \"#bd3786\"], [0.5555555555555556, \"#d8576b\"], [0.6666666666666666, \"#ed7953\"], [0.7777777777777778, \"#fb9f3a\"], [0.8888888888888888, \"#fdca26\"], [1.0, \"#f0f921\"]], \"type\": \"heatmapgl\"}], \"histogram\": [{\"marker\": {\"colorbar\": {\"outlinewidth\": 0, \"ticks\": \"\"}}, \"type\": \"histogram\"}], \"histogram2d\": [{\"colorbar\": {\"outlinewidth\": 0, \"ticks\": \"\"}, \"colorscale\": [[0.0, \"#0d0887\"], [0.1111111111111111, \"#46039f\"], [0.2222222222222222, \"#7201a8\"], [0.3333333333333333, \"#9c179e\"], [0.4444444444444444, \"#bd3786\"], [0.5555555555555556, \"#d8576b\"], [0.6666666666666666, \"#ed7953\"], [0.7777777777777778, \"#fb9f3a\"], [0.8888888888888888, \"#fdca26\"], [1.0, \"#f0f921\"]], \"type\": \"histogram2d\"}], \"histogram2dcontour\": [{\"colorbar\": {\"outlinewidth\": 0, \"ticks\": \"\"}, \"colorscale\": [[0.0, \"#0d0887\"], [0.1111111111111111, \"#46039f\"], [0.2222222222222222, \"#7201a8\"], [0.3333333333333333, \"#9c179e\"], [0.4444444444444444, \"#bd3786\"], [0.5555555555555556, \"#d8576b\"], [0.6666666666666666, \"#ed7953\"], [0.7777777777777778, \"#fb9f3a\"], [0.8888888888888888, \"#fdca26\"], [1.0, \"#f0f921\"]], \"type\": \"histogram2dcontour\"}], \"mesh3d\": [{\"colorbar\": {\"outlinewidth\": 0, \"ticks\": \"\"}, \"type\": \"mesh3d\"}], \"parcoords\": [{\"line\": {\"colorbar\": {\"outlinewidth\": 0, \"ticks\": \"\"}}, \"type\": \"parcoords\"}], \"pie\": [{\"automargin\": true, \"type\": \"pie\"}], \"scatter\": [{\"marker\": {\"colorbar\": {\"outlinewidth\": 0, \"ticks\": \"\"}}, \"type\": \"scatter\"}], \"scatter3d\": [{\"line\": {\"colorbar\": {\"outlinewidth\": 0, \"ticks\": \"\"}}, \"marker\": {\"colorbar\": {\"outlinewidth\": 0, \"ticks\": \"\"}}, \"type\": \"scatter3d\"}], \"scattercarpet\": [{\"marker\": {\"colorbar\": {\"outlinewidth\": 0, \"ticks\": \"\"}}, \"type\": \"scattercarpet\"}], \"scattergeo\": [{\"marker\": {\"colorbar\": {\"outlinewidth\": 0, \"ticks\": \"\"}}, \"type\": \"scattergeo\"}], \"scattergl\": [{\"marker\": {\"colorbar\": {\"outlinewidth\": 0, \"ticks\": \"\"}}, \"type\": \"scattergl\"}], \"scattermapbox\": [{\"marker\": {\"colorbar\": {\"outlinewidth\": 0, \"ticks\": \"\"}}, \"type\": \"scattermapbox\"}], \"scatterpolar\": [{\"marker\": {\"colorbar\": {\"outlinewidth\": 0, \"ticks\": \"\"}}, \"type\": \"scatterpolar\"}], \"scatterpolargl\": [{\"marker\": {\"colorbar\": {\"outlinewidth\": 0, \"ticks\": \"\"}}, \"type\": \"scatterpolargl\"}], \"scatterternary\": [{\"marker\": {\"colorbar\": {\"outlinewidth\": 0, \"ticks\": \"\"}}, \"type\": \"scatterternary\"}], \"surface\": [{\"colorbar\": {\"outlinewidth\": 0, \"ticks\": \"\"}, \"colorscale\": [[0.0, \"#0d0887\"], [0.1111111111111111, \"#46039f\"], [0.2222222222222222, \"#7201a8\"], [0.3333333333333333, \"#9c179e\"], [0.4444444444444444, \"#bd3786\"], [0.5555555555555556, \"#d8576b\"], [0.6666666666666666, \"#ed7953\"], [0.7777777777777778, \"#fb9f3a\"], [0.8888888888888888, \"#fdca26\"], [1.0, \"#f0f921\"]], \"type\": \"surface\"}], \"table\": [{\"cells\": {\"fill\": {\"color\": \"#EBF0F8\"}, \"line\": {\"color\": \"white\"}}, \"header\": {\"fill\": {\"color\": \"#C8D4E3\"}, \"line\": {\"color\": \"white\"}}, \"type\": \"table\"}]}, \"layout\": {\"annotationdefaults\": {\"arrowcolor\": \"#2a3f5f\", \"arrowhead\": 0, \"arrowwidth\": 1}, \"coloraxis\": {\"colorbar\": {\"outlinewidth\": 0, \"ticks\": \"\"}}, \"colorscale\": {\"diverging\": [[0, \"#8e0152\"], [0.1, \"#c51b7d\"], [0.2, \"#de77ae\"], [0.3, \"#f1b6da\"], [0.4, \"#fde0ef\"], [0.5, \"#f7f7f7\"], [0.6, \"#e6f5d0\"], [0.7, \"#b8e186\"], [0.8, \"#7fbc41\"], [0.9, \"#4d9221\"], [1, \"#276419\"]], \"sequential\": [[0.0, \"#0d0887\"], [0.1111111111111111, \"#46039f\"], [0.2222222222222222, \"#7201a8\"], [0.3333333333333333, \"#9c179e\"], [0.4444444444444444, \"#bd3786\"], [0.5555555555555556, \"#d8576b\"], [0.6666666666666666, \"#ed7953\"], [0.7777777777777778, \"#fb9f3a\"], [0.8888888888888888, \"#fdca26\"], [1.0, \"#f0f921\"]], \"sequentialminus\": [[0.0, \"#0d0887\"], [0.1111111111111111, \"#46039f\"], [0.2222222222222222, \"#7201a8\"], [0.3333333333333333, \"#9c179e\"], [0.4444444444444444, \"#bd3786\"], [0.5555555555555556, \"#d8576b\"], [0.6666666666666666, \"#ed7953\"], [0.7777777777777778, \"#fb9f3a\"], [0.8888888888888888, \"#fdca26\"], [1.0, \"#f0f921\"]]}, \"colorway\": [\"#636efa\", \"#EF553B\", \"#00cc96\", \"#ab63fa\", \"#FFA15A\", \"#19d3f3\", \"#FF6692\", \"#B6E880\", \"#FF97FF\", \"#FECB52\"], \"font\": {\"color\": \"#2a3f5f\"}, \"geo\": {\"bgcolor\": \"white\", \"lakecolor\": \"white\", \"landcolor\": \"#E5ECF6\", \"showlakes\": true, \"showland\": true, \"subunitcolor\": \"white\"}, \"hoverlabel\": {\"align\": \"left\"}, \"hovermode\": \"closest\", \"mapbox\": {\"style\": \"light\"}, \"paper_bgcolor\": \"white\", \"plot_bgcolor\": \"#E5ECF6\", \"polar\": {\"angularaxis\": {\"gridcolor\": \"white\", \"linecolor\": \"white\", \"ticks\": \"\"}, \"bgcolor\": \"#E5ECF6\", \"radialaxis\": {\"gridcolor\": \"white\", \"linecolor\": \"white\", \"ticks\": \"\"}}, \"scene\": {\"xaxis\": {\"backgroundcolor\": \"#E5ECF6\", \"gridcolor\": \"white\", \"gridwidth\": 2, \"linecolor\": \"white\", \"showbackground\": true, \"ticks\": \"\", \"zerolinecolor\": \"white\"}, \"yaxis\": {\"backgroundcolor\": \"#E5ECF6\", \"gridcolor\": \"white\", \"gridwidth\": 2, \"linecolor\": \"white\", \"showbackground\": true, \"ticks\": \"\", \"zerolinecolor\": \"white\"}, \"zaxis\": {\"backgroundcolor\": \"#E5ECF6\", \"gridcolor\": \"white\", \"gridwidth\": 2, \"linecolor\": \"white\", \"showbackground\": true, \"ticks\": \"\", \"zerolinecolor\": \"white\"}}, \"shapedefaults\": {\"line\": {\"color\": \"#2a3f5f\"}}, \"ternary\": {\"aaxis\": {\"gridcolor\": \"white\", \"linecolor\": \"white\", \"ticks\": \"\"}, \"baxis\": {\"gridcolor\": \"white\", \"linecolor\": \"white\", \"ticks\": \"\"}, \"bgcolor\": \"#E5ECF6\", \"caxis\": {\"gridcolor\": \"white\", \"linecolor\": \"white\", \"ticks\": \"\"}}, \"title\": {\"x\": 0.05}, \"xaxis\": {\"automargin\": true, \"gridcolor\": \"white\", \"linecolor\": \"white\", \"ticks\": \"\", \"title\": {\"standoff\": 15}, \"zerolinecolor\": \"white\", \"zerolinewidth\": 2}, \"yaxis\": {\"automargin\": true, \"gridcolor\": \"white\", \"linecolor\": \"white\", \"ticks\": \"\", \"title\": {\"standoff\": 15}, \"zerolinecolor\": \"white\", \"zerolinewidth\": 2}}}, \"title\": {\"text\": \"Valor Promedio por Gol\"}, \"xaxis\": {\"title\": {\"text\": \"Goles\"}}, \"yaxis\": {\"title\": {\"text\": \"Valor\"}}},\n",
       "                        {\"responsive\": true}\n",
       "                    ).then(function(){\n",
       "                            \n",
       "var gd = document.getElementById('8b08ab0a-4b71-4d10-8282-4dbf381da492');\n",
       "var x = new MutationObserver(function (mutations, observer) {{\n",
       "        var display = window.getComputedStyle(gd).display;\n",
       "        if (!display || display === 'none') {{\n",
       "            console.log([gd, 'removed!']);\n",
       "            Plotly.purge(gd);\n",
       "            observer.disconnect();\n",
       "        }}\n",
       "}});\n",
       "\n",
       "// Listen for the removal of the full notebook cells\n",
       "var notebookContainer = gd.closest('#notebook-container');\n",
       "if (notebookContainer) {{\n",
       "    x.observe(notebookContainer, {childList: true});\n",
       "}}\n",
       "\n",
       "// Listen for the clearing of the current output cell\n",
       "var outputEl = gd.closest('.output');\n",
       "if (outputEl) {{\n",
       "    x.observe(outputEl, {childList: true});\n",
       "}}\n",
       "\n",
       "                        })\n",
       "                };\n",
       "                });\n",
       "            </script>\n",
       "        </div>"
      ]
     },
     "metadata": {},
     "output_type": "display_data"
    }
   ],
   "source": [
    "fig = go.Figure()\n",
    "\n",
    "fig.add_trace(go.Scatter(\n",
    "    x=goles_unica,\n",
    "    y=media_valor_gol,\n",
    "    mode=\"lines+markers\",\n",
    "    marker=dict(\n",
    "    size=12,\n",
    "    color = 'blue',\n",
    "    colorscale='thermal',\n",
    "    opacity=.8),\n",
    "    line = dict(\n",
    "    color= \"orange\",\n",
    "    dash = \"dot\")\n",
    "))\n",
    "fig.update_traces(textposition='top center')\n",
    "\n",
    "fig.update_layout(\n",
    "    height=500,\n",
    "    title_text='Valor Promedio por Gol',\n",
    "    xaxis_title=\"Goles\",\n",
    "    yaxis_title=\"Valor\")\n",
    "\n",
    "fig"
   ]
  },
  {
   "cell_type": "code",
   "execution_count": null,
   "metadata": {},
   "outputs": [],
   "source": []
  }
 ],
 "metadata": {
  "kernelspec": {
   "display_name": "Python 3",
   "language": "python",
   "name": "python3"
  },
  "language_info": {
   "codemirror_mode": {
    "name": "ipython",
    "version": 3
   },
   "file_extension": ".py",
   "mimetype": "text/x-python",
   "name": "python",
   "nbconvert_exporter": "python",
   "pygments_lexer": "ipython3",
   "version": "3.7.4"
  }
 },
 "nbformat": 4,
 "nbformat_minor": 2
}
