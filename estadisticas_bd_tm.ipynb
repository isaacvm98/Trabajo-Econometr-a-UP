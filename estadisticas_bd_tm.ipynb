{
 "cells": [
  {
   "cell_type": "code",
   "execution_count": 1,
   "metadata": {},
   "outputs": [],
   "source": [
    "import pandas as pd\n",
    "import matplotlib.pyplot as plt \n",
    "import numpy as np"
   ]
  },
  {
   "cell_type": "code",
   "execution_count": 73,
   "metadata": {},
   "outputs": [],
   "source": [
    "df=pd.read_excel(r\"C:\\Users\\isaac\\Documentos\\Eco\\6to\\Econometría II\\delanteros.xls\")"
   ]
  },
  {
   "cell_type": "code",
   "execution_count": 87,
   "metadata": {},
   "outputs": [
    {
     "data": {
      "text/html": [
       "<div>\n",
       "<style scoped>\n",
       "    .dataframe tbody tr th:only-of-type {\n",
       "        vertical-align: middle;\n",
       "    }\n",
       "\n",
       "    .dataframe tbody tr th {\n",
       "        vertical-align: top;\n",
       "    }\n",
       "\n",
       "    .dataframe thead th {\n",
       "        text-align: right;\n",
       "    }\n",
       "</style>\n",
       "<table border=\"1\" class=\"dataframe\">\n",
       "  <thead>\n",
       "    <tr style=\"text-align: right;\">\n",
       "      <th></th>\n",
       "      <th>edad</th>\n",
       "      <th>valor</th>\n",
       "      <th>valor_06/18</th>\n",
       "      <th>jugo_UCL</th>\n",
       "      <th>aumento_valor</th>\n",
       "      <th>comunitario</th>\n",
       "      <th>goles</th>\n",
       "    </tr>\n",
       "  </thead>\n",
       "  <tbody>\n",
       "    <tr>\n",
       "      <td>count</td>\n",
       "      <td>90.000000</td>\n",
       "      <td>90.000000</td>\n",
       "      <td>90.000000</td>\n",
       "      <td>90.000000</td>\n",
       "      <td>90.000000</td>\n",
       "      <td>90.000000</td>\n",
       "      <td>90.000000</td>\n",
       "    </tr>\n",
       "    <tr>\n",
       "      <td>mean</td>\n",
       "      <td>25.211111</td>\n",
       "      <td>51.522222</td>\n",
       "      <td>49.455556</td>\n",
       "      <td>0.700000</td>\n",
       "      <td>0.566667</td>\n",
       "      <td>0.566667</td>\n",
       "      <td>8.233333</td>\n",
       "    </tr>\n",
       "    <tr>\n",
       "      <td>std</td>\n",
       "      <td>3.770061</td>\n",
       "      <td>29.341453</td>\n",
       "      <td>40.420309</td>\n",
       "      <td>0.460825</td>\n",
       "      <td>0.498312</td>\n",
       "      <td>0.498312</td>\n",
       "      <td>5.943649</td>\n",
       "    </tr>\n",
       "    <tr>\n",
       "      <td>min</td>\n",
       "      <td>17.000000</td>\n",
       "      <td>27.000000</td>\n",
       "      <td>1.000000</td>\n",
       "      <td>0.000000</td>\n",
       "      <td>0.000000</td>\n",
       "      <td>0.000000</td>\n",
       "      <td>0.000000</td>\n",
       "    </tr>\n",
       "    <tr>\n",
       "      <td>25%</td>\n",
       "      <td>22.250000</td>\n",
       "      <td>32.000000</td>\n",
       "      <td>20.000000</td>\n",
       "      <td>0.000000</td>\n",
       "      <td>0.000000</td>\n",
       "      <td>0.000000</td>\n",
       "      <td>4.000000</td>\n",
       "    </tr>\n",
       "    <tr>\n",
       "      <td>50%</td>\n",
       "      <td>25.000000</td>\n",
       "      <td>40.000000</td>\n",
       "      <td>40.000000</td>\n",
       "      <td>1.000000</td>\n",
       "      <td>1.000000</td>\n",
       "      <td>1.000000</td>\n",
       "      <td>7.000000</td>\n",
       "    </tr>\n",
       "    <tr>\n",
       "      <td>75%</td>\n",
       "      <td>28.000000</td>\n",
       "      <td>60.000000</td>\n",
       "      <td>73.750000</td>\n",
       "      <td>1.000000</td>\n",
       "      <td>1.000000</td>\n",
       "      <td>1.000000</td>\n",
       "      <td>11.000000</td>\n",
       "    </tr>\n",
       "    <tr>\n",
       "      <td>max</td>\n",
       "      <td>35.000000</td>\n",
       "      <td>180.000000</td>\n",
       "      <td>180.000000</td>\n",
       "      <td>1.000000</td>\n",
       "      <td>1.000000</td>\n",
       "      <td>1.000000</td>\n",
       "      <td>27.000000</td>\n",
       "    </tr>\n",
       "  </tbody>\n",
       "</table>\n",
       "</div>"
      ],
      "text/plain": [
       "            edad       valor  valor_06/18   jugo_UCL  aumento_valor  \\\n",
       "count  90.000000   90.000000    90.000000  90.000000      90.000000   \n",
       "mean   25.211111   51.522222    49.455556   0.700000       0.566667   \n",
       "std     3.770061   29.341453    40.420309   0.460825       0.498312   \n",
       "min    17.000000   27.000000     1.000000   0.000000       0.000000   \n",
       "25%    22.250000   32.000000    20.000000   0.000000       0.000000   \n",
       "50%    25.000000   40.000000    40.000000   1.000000       1.000000   \n",
       "75%    28.000000   60.000000    73.750000   1.000000       1.000000   \n",
       "max    35.000000  180.000000   180.000000   1.000000       1.000000   \n",
       "\n",
       "       comunitario      goles  \n",
       "count    90.000000  90.000000  \n",
       "mean      0.566667   8.233333  \n",
       "std       0.498312   5.943649  \n",
       "min       0.000000   0.000000  \n",
       "25%       0.000000   4.000000  \n",
       "50%       1.000000   7.000000  \n",
       "75%       1.000000  11.000000  \n",
       "max       1.000000  27.000000  "
      ]
     },
     "execution_count": 87,
     "metadata": {},
     "output_type": "execute_result"
    }
   ],
   "source": [
    "df.describe()"
   ]
  },
  {
   "cell_type": "code",
   "execution_count": 4,
   "metadata": {},
   "outputs": [
    {
     "data": {
      "text/html": [
       "<div>\n",
       "<style scoped>\n",
       "    .dataframe tbody tr th:only-of-type {\n",
       "        vertical-align: middle;\n",
       "    }\n",
       "\n",
       "    .dataframe tbody tr th {\n",
       "        vertical-align: top;\n",
       "    }\n",
       "\n",
       "    .dataframe thead th {\n",
       "        text-align: right;\n",
       "    }\n",
       "</style>\n",
       "<table border=\"1\" class=\"dataframe\">\n",
       "  <thead>\n",
       "    <tr style=\"text-align: right;\">\n",
       "      <th></th>\n",
       "      <th>nombre</th>\n",
       "      <th>edad</th>\n",
       "      <th>posicion</th>\n",
       "      <th>jugo_UCL</th>\n",
       "      <th>pais</th>\n",
       "      <th>comunitario</th>\n",
       "      <th>goles</th>\n",
       "    </tr>\n",
       "    <tr>\n",
       "      <th>aumento_valor</th>\n",
       "      <th></th>\n",
       "      <th></th>\n",
       "      <th></th>\n",
       "      <th></th>\n",
       "      <th></th>\n",
       "      <th></th>\n",
       "      <th></th>\n",
       "    </tr>\n",
       "  </thead>\n",
       "  <tbody>\n",
       "    <tr>\n",
       "      <td>0</td>\n",
       "      <td>39</td>\n",
       "      <td>39</td>\n",
       "      <td>39</td>\n",
       "      <td>39</td>\n",
       "      <td>39</td>\n",
       "      <td>39</td>\n",
       "      <td>39</td>\n",
       "    </tr>\n",
       "    <tr>\n",
       "      <td>1</td>\n",
       "      <td>51</td>\n",
       "      <td>51</td>\n",
       "      <td>51</td>\n",
       "      <td>51</td>\n",
       "      <td>51</td>\n",
       "      <td>51</td>\n",
       "      <td>51</td>\n",
       "    </tr>\n",
       "  </tbody>\n",
       "</table>\n",
       "</div>"
      ],
      "text/plain": [
       "               nombre  edad  posicion  jugo_UCL  pais  comunitario  goles\n",
       "aumento_valor                                                            \n",
       "0                  39    39        39        39    39           39     39\n",
       "1                  51    51        51        51    51           51     51"
      ]
     },
     "execution_count": 4,
     "metadata": {},
     "output_type": "execute_result"
    }
   ],
   "source": [
    "df.groupby(\"aumento_valor\").count()"
   ]
  },
  {
   "cell_type": "code",
   "execution_count": 5,
   "metadata": {},
   "outputs": [
    {
     "data": {
      "text/html": [
       "<div>\n",
       "<style scoped>\n",
       "    .dataframe tbody tr th:only-of-type {\n",
       "        vertical-align: middle;\n",
       "    }\n",
       "\n",
       "    .dataframe tbody tr th {\n",
       "        vertical-align: top;\n",
       "    }\n",
       "\n",
       "    .dataframe thead th {\n",
       "        text-align: right;\n",
       "    }\n",
       "</style>\n",
       "<table border=\"1\" class=\"dataframe\">\n",
       "  <thead>\n",
       "    <tr style=\"text-align: right;\">\n",
       "      <th></th>\n",
       "      <th>edad</th>\n",
       "      <th>jugo_UCL</th>\n",
       "      <th>comunitario</th>\n",
       "      <th>goles</th>\n",
       "    </tr>\n",
       "    <tr>\n",
       "      <th>aumento_valor</th>\n",
       "      <th></th>\n",
       "      <th></th>\n",
       "      <th></th>\n",
       "      <th></th>\n",
       "    </tr>\n",
       "  </thead>\n",
       "  <tbody>\n",
       "    <tr>\n",
       "      <td>0</td>\n",
       "      <td>27.435897</td>\n",
       "      <td>0.794872</td>\n",
       "      <td>0.615385</td>\n",
       "      <td>9.230769</td>\n",
       "    </tr>\n",
       "    <tr>\n",
       "      <td>1</td>\n",
       "      <td>23.509804</td>\n",
       "      <td>0.627451</td>\n",
       "      <td>0.529412</td>\n",
       "      <td>7.470588</td>\n",
       "    </tr>\n",
       "  </tbody>\n",
       "</table>\n",
       "</div>"
      ],
      "text/plain": [
       "                    edad  jugo_UCL  comunitario     goles\n",
       "aumento_valor                                            \n",
       "0              27.435897  0.794872     0.615385  9.230769\n",
       "1              23.509804  0.627451     0.529412  7.470588"
      ]
     },
     "execution_count": 5,
     "metadata": {},
     "output_type": "execute_result"
    }
   ],
   "source": [
    "df.groupby(\"aumento_valor\").mean()"
   ]
  },
  {
   "cell_type": "code",
   "execution_count": 58,
   "metadata": {},
   "outputs": [
    {
     "data": {
      "text/html": [
       "<div>\n",
       "<style scoped>\n",
       "    .dataframe tbody tr th:only-of-type {\n",
       "        vertical-align: middle;\n",
       "    }\n",
       "\n",
       "    .dataframe tbody tr th {\n",
       "        vertical-align: top;\n",
       "    }\n",
       "\n",
       "    .dataframe thead th {\n",
       "        text-align: right;\n",
       "    }\n",
       "</style>\n",
       "<table border=\"1\" class=\"dataframe\">\n",
       "  <thead>\n",
       "    <tr style=\"text-align: right;\">\n",
       "      <th></th>\n",
       "      <th>edad</th>\n",
       "      <th>jugo_UCL</th>\n",
       "      <th>aumento_valor</th>\n",
       "      <th>comunitario</th>\n",
       "      <th>goles</th>\n",
       "      <th>valor</th>\n",
       "    </tr>\n",
       "  </thead>\n",
       "  <tbody>\n",
       "    <tr>\n",
       "      <td>edad</td>\n",
       "      <td>1.000000</td>\n",
       "      <td>0.075668</td>\n",
       "      <td>-0.518936</td>\n",
       "      <td>-0.094298</td>\n",
       "      <td>0.385882</td>\n",
       "      <td>0.042313</td>\n",
       "    </tr>\n",
       "    <tr>\n",
       "      <td>jugo_UCL</td>\n",
       "      <td>0.075668</td>\n",
       "      <td>1.000000</td>\n",
       "      <td>-0.181040</td>\n",
       "      <td>-0.034251</td>\n",
       "      <td>-0.006974</td>\n",
       "      <td>0.224864</td>\n",
       "    </tr>\n",
       "    <tr>\n",
       "      <td>aumento_valor</td>\n",
       "      <td>-0.518936</td>\n",
       "      <td>-0.181040</td>\n",
       "      <td>1.000000</td>\n",
       "      <td>-0.085973</td>\n",
       "      <td>-0.147572</td>\n",
       "      <td>-0.161866</td>\n",
       "    </tr>\n",
       "    <tr>\n",
       "      <td>comunitario</td>\n",
       "      <td>-0.094298</td>\n",
       "      <td>-0.034251</td>\n",
       "      <td>-0.085973</td>\n",
       "      <td>1.000000</td>\n",
       "      <td>0.011760</td>\n",
       "      <td>-0.005482</td>\n",
       "    </tr>\n",
       "    <tr>\n",
       "      <td>goles</td>\n",
       "      <td>0.385882</td>\n",
       "      <td>-0.006974</td>\n",
       "      <td>-0.147572</td>\n",
       "      <td>0.011760</td>\n",
       "      <td>1.000000</td>\n",
       "      <td>0.379935</td>\n",
       "    </tr>\n",
       "    <tr>\n",
       "      <td>valor</td>\n",
       "      <td>0.042313</td>\n",
       "      <td>0.224864</td>\n",
       "      <td>-0.161866</td>\n",
       "      <td>-0.005482</td>\n",
       "      <td>0.379935</td>\n",
       "      <td>1.000000</td>\n",
       "    </tr>\n",
       "  </tbody>\n",
       "</table>\n",
       "</div>"
      ],
      "text/plain": [
       "                   edad  jugo_UCL  aumento_valor  comunitario     goles  \\\n",
       "edad           1.000000  0.075668      -0.518936    -0.094298  0.385882   \n",
       "jugo_UCL       0.075668  1.000000      -0.181040    -0.034251 -0.006974   \n",
       "aumento_valor -0.518936 -0.181040       1.000000    -0.085973 -0.147572   \n",
       "comunitario   -0.094298 -0.034251      -0.085973     1.000000  0.011760   \n",
       "goles          0.385882 -0.006974      -0.147572     0.011760  1.000000   \n",
       "valor          0.042313  0.224864      -0.161866    -0.005482  0.379935   \n",
       "\n",
       "                  valor  \n",
       "edad           0.042313  \n",
       "jugo_UCL       0.224864  \n",
       "aumento_valor -0.161866  \n",
       "comunitario   -0.005482  \n",
       "goles          0.379935  \n",
       "valor          1.000000  "
      ]
     },
     "execution_count": 58,
     "metadata": {},
     "output_type": "execute_result"
    }
   ],
   "source": [
    "df.corr()"
   ]
  },
  {
   "cell_type": "code",
   "execution_count": 54,
   "metadata": {},
   "outputs": [
    {
     "data": {
      "text/html": [
       "<div>\n",
       "<style scoped>\n",
       "    .dataframe tbody tr th:only-of-type {\n",
       "        vertical-align: middle;\n",
       "    }\n",
       "\n",
       "    .dataframe tbody tr th {\n",
       "        vertical-align: top;\n",
       "    }\n",
       "\n",
       "    .dataframe thead th {\n",
       "        text-align: right;\n",
       "    }\n",
       "</style>\n",
       "<table border=\"1\" class=\"dataframe\">\n",
       "  <thead>\n",
       "    <tr style=\"text-align: right;\">\n",
       "      <th></th>\n",
       "      <th>aumento_valor</th>\n",
       "      <th>edad</th>\n",
       "    </tr>\n",
       "  </thead>\n",
       "  <tbody>\n",
       "    <tr>\n",
       "      <td>aumento_valor</td>\n",
       "      <td>1.000000</td>\n",
       "      <td>-0.518936</td>\n",
       "    </tr>\n",
       "    <tr>\n",
       "      <td>edad</td>\n",
       "      <td>-0.518936</td>\n",
       "      <td>1.000000</td>\n",
       "    </tr>\n",
       "  </tbody>\n",
       "</table>\n",
       "</div>"
      ],
      "text/plain": [
       "               aumento_valor      edad\n",
       "aumento_valor       1.000000 -0.518936\n",
       "edad               -0.518936  1.000000"
      ]
     },
     "execution_count": 54,
     "metadata": {},
     "output_type": "execute_result"
    }
   ],
   "source": [
    "df[[\"aumento_valor\",\"edad\"]].corr()"
   ]
  },
  {
   "cell_type": "code",
   "execution_count": 56,
   "metadata": {},
   "outputs": [
    {
     "data": {
      "text/html": [
       "<div>\n",
       "<style scoped>\n",
       "    .dataframe tbody tr th:only-of-type {\n",
       "        vertical-align: middle;\n",
       "    }\n",
       "\n",
       "    .dataframe tbody tr th {\n",
       "        vertical-align: top;\n",
       "    }\n",
       "\n",
       "    .dataframe thead th {\n",
       "        text-align: right;\n",
       "    }\n",
       "</style>\n",
       "<table border=\"1\" class=\"dataframe\">\n",
       "  <thead>\n",
       "    <tr style=\"text-align: right;\">\n",
       "      <th></th>\n",
       "      <th>aumento_valor</th>\n",
       "      <th>goles</th>\n",
       "    </tr>\n",
       "  </thead>\n",
       "  <tbody>\n",
       "    <tr>\n",
       "      <td>aumento_valor</td>\n",
       "      <td>1.000000</td>\n",
       "      <td>-0.147572</td>\n",
       "    </tr>\n",
       "    <tr>\n",
       "      <td>goles</td>\n",
       "      <td>-0.147572</td>\n",
       "      <td>1.000000</td>\n",
       "    </tr>\n",
       "  </tbody>\n",
       "</table>\n",
       "</div>"
      ],
      "text/plain": [
       "               aumento_valor     goles\n",
       "aumento_valor       1.000000 -0.147572\n",
       "goles              -0.147572  1.000000"
      ]
     },
     "execution_count": 56,
     "metadata": {},
     "output_type": "execute_result"
    }
   ],
   "source": [
    "df[[\"aumento_valor\",\"goles\"]].corr()"
   ]
  },
  {
   "cell_type": "code",
   "execution_count": 57,
   "metadata": {},
   "outputs": [
    {
     "data": {
      "text/html": [
       "<div>\n",
       "<style scoped>\n",
       "    .dataframe tbody tr th:only-of-type {\n",
       "        vertical-align: middle;\n",
       "    }\n",
       "\n",
       "    .dataframe tbody tr th {\n",
       "        vertical-align: top;\n",
       "    }\n",
       "\n",
       "    .dataframe thead th {\n",
       "        text-align: right;\n",
       "    }\n",
       "</style>\n",
       "<table border=\"1\" class=\"dataframe\">\n",
       "  <thead>\n",
       "    <tr style=\"text-align: right;\">\n",
       "      <th></th>\n",
       "      <th>aumento_valor</th>\n",
       "      <th>jugo_UCL</th>\n",
       "    </tr>\n",
       "  </thead>\n",
       "  <tbody>\n",
       "    <tr>\n",
       "      <td>aumento_valor</td>\n",
       "      <td>1.00000</td>\n",
       "      <td>-0.18104</td>\n",
       "    </tr>\n",
       "    <tr>\n",
       "      <td>jugo_UCL</td>\n",
       "      <td>-0.18104</td>\n",
       "      <td>1.00000</td>\n",
       "    </tr>\n",
       "  </tbody>\n",
       "</table>\n",
       "</div>"
      ],
      "text/plain": [
       "               aumento_valor  jugo_UCL\n",
       "aumento_valor        1.00000  -0.18104\n",
       "jugo_UCL            -0.18104   1.00000"
      ]
     },
     "execution_count": 57,
     "metadata": {},
     "output_type": "execute_result"
    }
   ],
   "source": [
    "df[[\"aumento_valor\",\"jugo_UCL\"]].corr()"
   ]
  },
  {
   "cell_type": "code",
   "execution_count": 60,
   "metadata": {},
   "outputs": [
    {
     "data": {
      "text/html": [
       "<div>\n",
       "<style scoped>\n",
       "    .dataframe tbody tr th:only-of-type {\n",
       "        vertical-align: middle;\n",
       "    }\n",
       "\n",
       "    .dataframe tbody tr th {\n",
       "        vertical-align: top;\n",
       "    }\n",
       "\n",
       "    .dataframe thead th {\n",
       "        text-align: right;\n",
       "    }\n",
       "</style>\n",
       "<table border=\"1\" class=\"dataframe\">\n",
       "  <thead>\n",
       "    <tr style=\"text-align: right;\">\n",
       "      <th></th>\n",
       "      <th>aumento_valor</th>\n",
       "      <th>comunitario</th>\n",
       "    </tr>\n",
       "  </thead>\n",
       "  <tbody>\n",
       "    <tr>\n",
       "      <td>aumento_valor</td>\n",
       "      <td>1.000000</td>\n",
       "      <td>-0.085973</td>\n",
       "    </tr>\n",
       "    <tr>\n",
       "      <td>comunitario</td>\n",
       "      <td>-0.085973</td>\n",
       "      <td>1.000000</td>\n",
       "    </tr>\n",
       "  </tbody>\n",
       "</table>\n",
       "</div>"
      ],
      "text/plain": [
       "               aumento_valor  comunitario\n",
       "aumento_valor       1.000000    -0.085973\n",
       "comunitario        -0.085973     1.000000"
      ]
     },
     "execution_count": 60,
     "metadata": {},
     "output_type": "execute_result"
    }
   ],
   "source": [
    "df[[\"aumento_valor\",\"comunitario\"]].corr()"
   ]
  },
  {
   "cell_type": "code",
   "execution_count": 7,
   "metadata": {},
   "outputs": [
    {
     "data": {
      "image/png": "[encoded data removed]",
      "text/plain": [
       "<Figure size 432x288 with 1 Axes>"
      ]
     },
     "metadata": {
      "needs_background": "light"
     },
     "output_type": "display_data"
    },
    {
     "data": {
      "image/png": "[encoded data removed]",
      "text/plain": [
       "<Figure size 432x288 with 1 Axes>"
      ]
     },
     "metadata": {
      "needs_background": "light"
     },
     "output_type": "display_data"
    },
    {
     "data": {
      "image/png": "[encoded data removed]",
      "text/plain": [
       "<Figure size 432x288 with 1 Axes>"
      ]
     },
     "metadata": {
      "needs_background": "light"
     },
     "output_type": "display_data"
    }
   ],
   "source": [
    "table = pd.crosstab(df.edad,df.aumento_valor).plot(kind=\"bar\")\n",
    "table2= pd.crosstab(df.goles,df.aumento_valor).plot(kind=\"bar\")\n",
    "table3= pd.crosstab(df.comunitario,df.aumento_valor).plot(kind=\"bar\")"
   ]
  },
  {
   "cell_type": "code",
   "execution_count": 79,
   "metadata": {},
   "outputs": [],
   "source": [
    "mas_27=df.loc[df[\"edad\"]>=27]\n",
    "menos_27=df.loc[df[\"edad\"]<27]"
   ]
  },
  {
   "cell_type": "code",
   "execution_count": 49,
   "metadata": {},
   "outputs": [
    {
     "data": {
      "text/plain": [
       "25.211111111111112"
      ]
     },
     "execution_count": 49,
     "metadata": {},
     "output_type": "execute_result"
    }
   ],
   "source": [
    "df.edad.mean()"
   ]
  },
  {
   "cell_type": "code",
   "execution_count": 32,
   "metadata": {},
   "outputs": [],
   "source": [
    "promedio_goles = [np.mean(df.goles)]*len(df)"
   ]
  },
  {
   "cell_type": "code",
   "execution_count": 80,
   "metadata": {},
   "outputs": [
    {
     "data": {
      "text/plain": [
       "<matplotlib.legend.Legend at 0x21ca3672908>"
      ]
     },
     "execution_count": 80,
     "metadata": {},
     "output_type": "execute_result"
    },
    {
     "data": {
      "image/png": "[encoded data removed]",
      "text/plain": [
       "<Figure size 1080x648 with 1 Axes>"
      ]
     },
     "metadata": {
      "needs_background": "light"
     },
     "output_type": "display_data"
    }
   ],
   "source": [
    "plt.figure(figsize=(15,9))\n",
    "veteranos=plt.scatter(mas_27[\"goles\"],mas_27[\"edad\"],color=\"red\",label=\"mayores de 27\")\n",
    "novatos=plt.scatter(menos_27[\"goles\"],menos_27[\"edad\"],color=\"blue\",label=\"menores de 27\")\n",
    "mean=plt.plot(promedio_goles,df.edad,label='Mean', linestyle='-',color=\"black\",linewidth=\"3\")\n",
    "plt.title(\"Goles Vs Edad\")\n",
    "plt.xlabel(\"Goles\")\n",
    "plt.ylabel(\"Edad\")\n",
    "plt.legend(loc=\"upper left\")"
   ]
  },
  {
   "cell_type": "code",
   "execution_count": 50,
   "metadata": {},
   "outputs": [
    {
     "data": {
      "text/plain": [
       "<matplotlib.collections.PathCollection at 0x21ca176e308>"
      ]
     },
     "execution_count": 50,
     "metadata": {},
     "output_type": "execute_result"
    },
    {
     "data": {
      "image/png": "[encoded data removed]",
      "text/plain": [
       "<Figure size 1152x648 with 1 Axes>"
      ]
     },
     "metadata": {
      "needs_background": "light"
     },
     "output_type": "display_data"
    }
   ],
   "source": [
    "plt.figure(figsize=(16,9))\n",
    "plt.scatter(df.pais,df.valor)"
   ]
  },
  {
   "cell_type": "code",
   "execution_count": null,
   "metadata": {},
   "outputs": [],
   "source": [
    "# y = valor\n",
    "# x = goles\n",
    "# z = edad\n"
   ]
  },
  {
   "cell_type": "code",
   "execution_count": 95,
   "metadata": {},
   "outputs": [
    {
     "data": {
      "text/plain": [
       "nombre           83\n",
       "edad             83\n",
       "posicion         83\n",
       "valor            83\n",
       "valor_06/18      83\n",
       "jugo_UCL         83\n",
       "pais             83\n",
       "aumento_valor    83\n",
       "comunitario      83\n",
       "goles            83\n",
       "dtype: int64"
      ]
     },
     "execution_count": 95,
     "metadata": {},
     "output_type": "execute_result"
    }
   ],
   "source": [
    "df.loc[df[\"edad\"]<31].count()"
   ]
  },
  {
   "cell_type": "code",
   "execution_count": 92,
   "metadata": {},
   "outputs": [
    {
     "data": {
      "text/plain": [
       "nombre           55\n",
       "edad             55\n",
       "posicion         55\n",
       "valor            55\n",
       "valor_06/18      55\n",
       "jugo_UCL         55\n",
       "pais             55\n",
       "aumento_valor    55\n",
       "comunitario      55\n",
       "goles            55\n",
       "dtype: int64"
      ]
     },
     "execution_count": 92,
     "metadata": {},
     "output_type": "execute_result"
    }
   ],
   "source": [
    "menos_27.count()"
   ]
  },
  {
   "cell_type": "code",
   "execution_count": null,
   "metadata": {},
   "outputs": [],
   "source": []
  }
 ],
 "metadata": {
  "kernelspec": {
   "display_name": "Python 3",
   "language": "python",
   "name": "python3"
  },
  "language_info": {
   "codemirror_mode": {
    "name": "ipython",
    "version": 3
   },
   "file_extension": ".py",
   "mimetype": "text/x-python",
   "name": "python",
   "nbconvert_exporter": "python",
   "pygments_lexer": "ipython3",
   "version": "3.7.4"
  }
 },
 "nbformat": 4,
 "nbformat_minor": 2
}
