{
 "cells": [
  {
   "cell_type": "code",
   "execution_count": 1,
   "metadata": {},
   "outputs": [],
   "source": [
    "from bs4 import BeautifulSoup as soup\n",
    "import pandas as pd\n",
    "from urllib.request import urlopen as uReq"
   ]
  },
  {
   "cell_type": "code",
   "execution_count": 11,
   "metadata": {},
   "outputs": [],
   "source": [
    "url_la_liga = 'https://www.worldfootball.net/goalgetter/esp-primera-division-2019-2020/'"
   ]
  },
  {
   "cell_type": "code",
   "execution_count": 12,
   "metadata": {},
   "outputs": [],
   "source": [
    "uClient = uReq(url_la_liga)\n",
    "page_html = uClient.read()\n",
    "uClient.close()"
   ]
  },
  {
   "cell_type": "code",
   "execution_count": 4,
   "metadata": {},
   "outputs": [],
   "source": [
    "page_soup = soup(page_html, \"html.parser\")"
   ]
  },
  {
   "cell_type": "code",
   "execution_count": 5,
   "metadata": {},
   "outputs": [],
   "source": [
    "tabla = page_soup.findAll(\"table\",{\"class\":\"standard_tabelle\"})"
   ]
  },
  {
   "cell_type": "code",
   "execution_count": 6,
   "metadata": {},
   "outputs": [
    {
     "data": {
      "text/plain": [
       "2"
      ]
     },
     "execution_count": 6,
     "metadata": {},
     "output_type": "execute_result"
    }
   ],
   "source": [
    "len(tabla)"
   ]
  },
  {
   "cell_type": "code",
   "execution_count": 7,
   "metadata": {},
   "outputs": [],
   "source": [
    "we = tabla[0].text # si funciona"
   ]
  },
  {
   "cell_type": "code",
   "execution_count": 8,
   "metadata": {},
   "outputs": [],
   "source": [
    "datos_pro_la_liga = we.replace(\"\\n\", \" \")  # si funciona"
   ]
  },
  {
   "cell_type": "code",
   "execution_count": 10,
   "metadata": {
    "collapsed": true
   },
   "outputs": [
    {
     "data": {
      "text/plain": [
       "'  # Player  Country Team Goals (Penalty)   1. Lionel Messi    Argentina   FC Barcelona  19 (3)   2. Karim Benzema    France   Real Madrid  14 (3)   3.  Gerard    Spain   Villarreal CF  11 (0)     Lucas Pérez    Spain   CD Alavés  11 (5)     Roger    Spain   Levante UD  11 (4)    Luis Suárez    Uruguay   FC Barcelona  11 (1)   7.  Ángel    Spain   Getafe CF  10 (1)    Lucas Ocampos    Argentina   Sevilla FC  10 (2)   9. Ezequiel Ávila    Argentina   CA Osasuna  9 (0)    Ante Budimir    Croatia   RCD Mallorca  9 (0)    Maximiliano Gómez    Uruguay   Valencia CF  9 (0)     Iago Aspas    Spain   Celta Vigo  9 (2)     Joselu    Spain   CD Alavés  9 (0)     Loren    Spain   Real Betis  9 (0)     Raúl García    Spain   Athletic Bilbao  9 (5)     Willian José    Brazil   Real Sociedad  9 (0)   17. Antoine Griezmann    France   FC Barcelona  8 (0)     Joaquín    Spain   Real Betis  8 (2)     Mata    Spain   Getafe CF  8 (2)     Mikel Oyarzabal    Spain   Real Sociedad  8 (4)    Álvaro Morata    Spain   Atlético Madrid  8 (1)     Parejo    Spain   Valencia CF  8 (5)     Santi Cazorla    Spain   Villarreal CF  8 (6)   24. Youssef En-Nesyri    Morocco   CD Leganés  Sevilla FC  7 (0)    Nabil Fekir    France   Real Betis  7 (1)    Alexander Isak    Sweden   Real Sociedad  7 (0)    Fabián Orellana    Chile   SD Eibar  7 (3)     Óscar    Spain   CD Leganés  7 (1)     Portu    Spain   Real Sociedad  7 (0)   30. Martin Braithwaite    Denmark   CD Leganés  FC Barcelona  6 (0)    Darwin Machís    Venezuela   Granada CF  6 (1)     Roberto Torres    Spain   CA Osasuna  6 (5)     Rubén García    Spain   CA Osasuna  6 (1)     Sergi Guardiola    Spain   Real Valladolid  6 (0)    Karl Toko Ekambi    Cameroon   Villarreal CF  6 (0)    Arturo Vidal    Chile   FC Barcelona  6 (0)     Williams    Spain   Athletic Bilbao  6 (1)   38.  Borja Mayoral    Spain   Levante UD  5 (0)     Carlos Fernández    Spain   Granada CF  5 (0)     Charles    Brazil   SD Eibar  5 (1)    Ángel Correa    Argentina   Atlético Madrid  5 (0)     Dani Rodríguez    Spain   RCD Mallorca  5 (1)    Luuk de Jong    Netherlands   Sevilla FC  5 (0)    Kevin Gameiro    France   Valencia CF  5 (0)     Molina    Spain   Getafe CF  5 (2)     Puertas    Spain   Granada CF  5 (0)     Sergio Ramos    Spain   Real Madrid  5 (3)   48.  Canales    Spain   Real Betis  4 (2)    Ansu Fati    Spain   FC Barcelona  4 (0)     Ferrán Torres    Spain   Valencia CF  4 (0)     João Félix    Portugal   Atlético Madrid  4 (0)    Lago Junior    Ivory Coast   RCD Mallorca  4 (3)     Moi Gómez    Spain   Villarreal CF  4 (0)     Muniain    Spain   Athletic Bilbao  4 (0)    Martin Ødegaard    Norway   Real Sociedad  4 (0)     Raúl de Tomás    Spain   Espanyol Barcelona  4 (1)     Rubén Rochina    Spain   Levante UD  4 (0)    Enes Ünal    Turkey   Real Valladolid  4 (1)   59.  Álvaro Vadillo    Spain   Granada CF  3 (1)     Aridane    Spain   CA Osasuna  3 (0)     Arthur    Brazil   FC Barcelona  3 (0)     Borja Iglesias    Spain   Real Betis  3 (0)     Casemiro    Brazil   Real Madrid  3 (0)    Samuel Chukwueze    Nigeria   Villarreal CF  3 (0)     Emerson    Brazil   Real Betis  3 (0)     Kike García    Spain   SD Eibar  3 (0)    Toni Kroos    Germany   Real Madrid  3 (0)    Takefusa Kubo    Japan   RCD Mallorca  3 (0)     Mikel Merino    Spain   Real Sociedad  3 (0)    Luka Modrić    Croatia   Real Madrid  3 (0)     Nolito    Spain   Sevilla FC  3 (0)     Óscar Plano    Spain   Real Valladolid  3 (0)     Salva Sevilla    Spain   RCD Mallorca  3 (2)     Sandro    Spain   Real Valladolid  3 (0)     Santi Mina    Spain   Celta Vigo  3 (0)     Saúl    Spain   Atlético Madrid  3 (0)    Franco Vázquez    Italy   Sevilla FC  3 (0)    Lei Wu    China   Espanyol Barcelona  3 (0)   79.  Aleix Vidal    Spain   CD Alavés  2 (0)    Ramon Azeez    Nigeria   Granada CF  2 (0)    Gareth Bale    Wales   Real Madrid  2 (0)    Éver Banega    Argentina   Sevilla FC  2 (2)    Enis Bardhi    North Macedonia   Levante UD  2 (0)     Bartra    Spain   Real Betis  2 (0)     Busquets    Spain   FC Barcelona  2 (0)    Leandro Cabrera    Uruguay   Espanyol Barcelona  Getafe CF  2 (0)     Campaña    Spain   Levante UD  2 (0)     Capa    Spain   Athletic Bilbao  2 (0)     Carlos Soler    Spain   Valencia CF  2 (0)     David López    Spain   Espanyol Barcelona  2 (0)     David Timor    Spain   Getafe CF  2 (0)    Frenkie de Jong    Netherlands   FC Barcelona  2 (0)     Diego Carlos    Brazil   Sevilla FC  2 (0)     Diego Costa    Spain   Atlético Madrid  2 (1)     Domingos Duarte    Portugal   Granada CF  2 (0)     Edu Expósito    Spain   SD Eibar  2 (0)     Embarba    Spain   Espanyol Barcelona  2 (1)    Bernardo Espinosa    Colombia   Espanyol Barcelona  2 (0)     Germán    Spain   Granada CF  2 (0)    Cucho Hernández    Colombia   RCD Mallorca  2 (0)     Hernâni    Portugal   Levante UD  2 (0)    Yangel Herrera    Venezuela   Granada CF  2 (0)    Adnan Januzaj    Belgium   Real Sociedad  2 (0)     Javi Ontiveros    Spain   Villarreal CF  2 (0)     Joan Jordán    Spain   Sevilla FC  2 (0)    Luka Jović    Serbia   Real Madrid  2 (0)     Koke    Spain   Atlético Madrid  2 (0)    Clément Lenglet    France   FC Barcelona  2 (0)     Lucas Vázquez    Spain   Real Madrid  2 (0)    Nemanja Maksimović    Serbia   Getafe CF  2 (0)     Marc Roca    Spain   Espanyol Barcelona  2 (2)     Morales    Spain   Levante UD  2 (0)     Munir    Spain   Sevilla FC  2 (0)     Nacho Monreal    Spain   Real Sociedad  2 (0)    Allan Nyom    Cameroon   Getafe CF  2 (0)     Oier    Spain   CA Osasuna  2 (0)     Paco Alcácer    Spain   Villarreal CF  2 (0)    Thomas Partey    Ghana   Atlético Madrid  2 (0)     Rafinha    Brazil   Celta Vigo  FC Barcelona  2 (0)     Rodrigo    Spain   Valencia CF  2 (0)     Rodrygo    Brazil   Real Madrid  2 (0)     Sergi Darder    Spain   Espanyol Barcelona  2 (0)    Pione Sisto    Denmark   Celta Vigo  2 (0)     Soldado    Spain   Granada CF  2 (1)    Federico Valverde    Uruguay   Real Madrid  2 (0)    Raphaël Varane    France   Real Madrid  2 (0)     Vinicius Júnior    Brazil   Real Madrid  2 (0)     Vitolo    Spain   Atlético Madrid  2 (0)     Yuri    Spain   Athletic Bilbao  2 (0)   130.  Adrià Pedrosa    Spain   Espanyol Barcelona  1 (0)     Aduriz    Spain   Athletic Bilbao  1 (0)     Alcaraz    Spain   Real Valladolid  1 (0)    André Anguissa    Cameroon   Villarreal CF  1 (0)    Mauro Arambarri    Uruguay   Getafe CF  1 (0)    Néstor Araujo    Mexico   Celta Vigo  1 (0)     Arbilla    Spain   SD Eibar  1 (0)    Carlos Bacca    Colombia   Villarreal CF  1 (0)    Ander Barrenetxea    Spain   Real Sociedad  1 (0)     Bigas    Spain   SD Eibar  1 (0)    Esteban Burgos    Argentina   SD Eibar  1 (0)    Oliver Burke    Scotland   CD Alavés  1 (0)    Jonathan Calleri    Argentina   Espanyol Barcelona  1 (0)     Carles Pérez    Spain   FC Barcelona  1 (0)    Guido Carrillo    Argentina   CD Leganés  1 (0)    Denis Cheryshev    Russia   Valencia CF  1 (0)     Córdoba    Spain   Athletic Bilbao  1 (0)     Cote    Spain   SD Eibar  1 (0)     Cristian Tello    Spain   Real Betis  1 (0)     Cucurella    Spain   Getafe CF  1 (0)     Dani Carvajal    Spain   Real Madrid  1 (0)    Ousmane Dembélé    France   FC Barcelona  1 (0)     Denis Suárez    Spain   Celta Vigo  1 (0)    Pape Diop    Senegal   SD Eibar  1 (0)     Édgar Méndez    Spain   CD Alavés  1 (0)    Rodrigo Ely    Italy   CD Alavés  1 (0)    Pervis Estupiñán    Ecuador   CA Osasuna  1 (0)     Fede Vico    Spain   Granada CF  1 (1)     Felipe Monteiro    Brazil   Atlético Madrid  1 (0)     Fer Niño    Spain   Villarreal CF  1 (0)    Gabriel Fernández    Uruguay   Celta Vigo  1 (0)     Fernando    Brazil   Sevilla FC  1 (0)    Facundo Ferreyra    Argentina   Espanyol Barcelona  1 (0)    Junior Firpo    Spain   FC Barcelona  1 (0)    Dimitri Foulquier    Guadeloupe   Granada CF  1 (0)     Gabriel Paulista    Brazil   Valencia CF  1 (0)     Granero    Spain   Espanyol Barcelona  1 (0)    Eden Hazard    Belgium   Real Madrid  1 (0)    Javier Hernández    Mexico   Sevilla FC  1 (0)    Robert Ibáñez    Spain   CA Osasuna  1 (0)     Iker Losada    Spain   Celta Vigo  1 (0)     Iñigo Pérez    Spain   CA Osasuna  1 (0)    Takashi Inui    Japan   SD Eibar  1 (0)     Isco    Spain   Real Madrid  1 (0)     Iván Ramis    Spain   SD Eibar  1 (0)     Jason    Spain   Getafe CF  1 (0)     Joaquín    Spain   Real Valladolid  1 (0)     Jordi Alba    Spain   FC Barcelona  1 (0)     Juan Villar    Spain   CA Osasuna  1 (1)     Kenedy    Brazil   Getafe CF  1 (0)     Kiko Olivas    Spain   Real Valladolid  1 (0)    Kenan Kodro    Bosnia-Herzegovina   Athletic Bilbao  1 (0)    Geoffrey Kondogbia    Central Afr. Republic   Valencia CF  1 (0)    Jules Koundé    France   Sevilla FC  1 (0)     Laguardia    Spain   CD Alavés  1 (0)    Robin Le Normand    France   Real Sociedad  1 (0)    Kang-in Lee    South Korea   Valencia CF  1 (0)    Lisandro Magallán    Argentina   CD Alavés  1 (0)     Manu Vallejo    Spain   Valencia CF  1 (0)     Marc Cardona    Spain   CA Osasuna  1 (0)     Marcos Llorente    Spain   Atlético Madrid  1 (0)     Mariano    Dom. Republic   Real Madrid  1 (0)     Melero    Spain   Levante UD  1 (0)     Míchel    Spain   Real Valladolid  1 (1)     Moncayola    Spain   CA Osasuna  1 (0)     Montoro    Spain   Granada CF  1 (0)     Nacho    Spain   Real Madrid  1 (0)    Lucas Olaza    Uruguay   Celta Vigo  1 (0)     Óliver Torres    Spain   Sevilla FC  1 (0)    Kenneth Omeruo    Nigeria   CD Leganés  1 (0)     Pablo Hervías    Spain   Real Valladolid  1 (0)     Pau Torres    Spain   Villarreal CF  1 (0)     Paulo Oliveira    Portugal   SD Eibar  1 (0)     Pedro León    Spain   SD Eibar  1 (0)     Pere Pons    Spain   CD Alavés  1 (0)     Pina    Spain   CD Alavés  1 (0)     Piqué    Spain   FC Barcelona  1 (0)    Nemanja Radoja    Serbia   Levante UD  1 (0)     Raíllo    Spain   RCD Mallorca  1 (0)     Raúl Albiol    Spain   Villarreal CF  1 (0)     Reguilón    Spain   Sevilla FC  1 (0)     Renan Lodi    Brazil   Atlético Madrid  1 (0)    Kévin Rodrigues    Portugal   CD Leganés  Real Sociedad  1 (0)    James Rodríguez    Colombia   Real Madrid  1 (0)    Facundo Roncaglia    Argentina   CA Osasuna  1 (0)     Roque Mesa    Spain   CD Leganés  1 (0)     Rubén Peña    Spain   Villarreal CF  1 (0)     Rubén Sobrino    Spain   Valencia CF  1 (0)    Karim Salisú    Ghana   Real Valladolid  1 (0)     Sergi Enrich    Spain   SD Eibar  1 (0)     Sergi Roberto    Spain   FC Barcelona  1 (0)     Sergio León    Spain   Levante UD  1 (0)     Sergio Postigo    Spain   Levante UD  1 (0)     Sidnei    Brazil   Real Betis  1 (0)    Fedor Smolov    Russia   Celta Vigo  1 (0)    Damián Suárez    Uruguay   Getafe CF  1 (0)     Suso    Spain   Sevilla FC  1 (0)     Trigueros    Spain   Villarreal CF  1 (1)     Unai García    Spain   CA Osasuna  1 (0)     Unai López    Spain   Athletic Bilbao  1 (0)     Villalibre    Spain   Athletic Bilbao  1 (0)    Daniel Wass    Denmark   Valencia CF  1 (0)  '"
      ]
     },
     "execution_count": 10,
     "metadata": {},
     "output_type": "execute_result"
    }
   ],
   "source": [
    "datos_pro_la_liga"
   ]
  },
  {
   "cell_type": "code",
   "execution_count": 27,
   "metadata": {},
   "outputs": [],
   "source": [
    "url_premier = 'https://www.worldfootball.net/goalgetter/eng-premier-league-2019-2020/'"
   ]
  },
  {
   "cell_type": "code",
   "execution_count": 28,
   "metadata": {},
   "outputs": [],
   "source": [
    "uClient_prem = uReq(url_premier)\n",
    "page_html_prem = uClient_prem.read()\n",
    "uClient_prem.close()"
   ]
  },
  {
   "cell_type": "code",
   "execution_count": 29,
   "metadata": {},
   "outputs": [],
   "source": [
    "page_soup_prem = soup(page_html_prem, \"html.parser\")"
   ]
  },
  {
   "cell_type": "code",
   "execution_count": 30,
   "metadata": {},
   "outputs": [],
   "source": [
    "tabla_prem = page_soup_prem.findAll(\"table\",{\"class\":\"standard_tabelle\"})"
   ]
  },
  {
   "cell_type": "code",
   "execution_count": 31,
   "metadata": {},
   "outputs": [
    {
     "data": {
      "text/plain": [
       "2"
      ]
     },
     "execution_count": 31,
     "metadata": {},
     "output_type": "execute_result"
    }
   ],
   "source": [
    "len(tabla_prem)"
   ]
  },
  {
   "cell_type": "code",
   "execution_count": 32,
   "metadata": {},
   "outputs": [],
   "source": [
    "we_prem = tabla_prem[0].text # si funciona"
   ]
  },
  {
   "cell_type": "code",
   "execution_count": 33,
   "metadata": {},
   "outputs": [],
   "source": [
    "datos_pro_prem = we_prem.replace(\"\\n\", \" \")  # si funciona"
   ]
  },
  {
   "cell_type": "code",
   "execution_count": 34,
   "metadata": {
    "collapsed": true
   },
   "outputs": [
    {
     "data": {
      "text/plain": [
       "\"  # Player  Country Team Goals (Penalty)   1. Jamie Vardy    England   Leicester City  19 (4)   2. Pierre-Emerick Aubameyang    Gabon   Arsenal FC  17 (1)   3. Kun Agüero    Argentina   Manchester City  16 (2)    Mohamed Salah    Egypt   Liverpool FC  16 (3)   5. Danny Ings    England   Southampton FC  15 (0)   6. Sadio Mané    Senegal   Liverpool FC  14 (0)    Marcus Rashford    England   Manchester United  14 (5)   8. Tammy Abraham    England   Chelsea FC  13 (0)    Dominic Calvert-Lewin    England   Everton FC  13 (0)    Raúl Jiménez    Mexico   Wolverhampton Wanderers  13 (3)   11. Harry Kane    England   Tottenham Hotspur  11 (2)    Anthony Martial    France   Manchester United  11 (0)    Teemu Pukki    Finland   Norwich City  11 (2)    Raheem Sterling    England   Manchester City  11 (0)    Chris Wood    New Zealand   Burnley FC  11 (0)   16.  Gabriel Jesus    Brazil   Manchester City  10 (0)     Richarlison    Brazil   Everton FC  10 (0)   18. Kevin De Bruyne    Belgium   Manchester City  9 (0)    Heung-min Son    South Korea   Tottenham Hotspur  9 (0)   20. Dele Alli    England   Tottenham Hotspur  8 (1)    Jordan Ayew    Ghana   Crystal Palace  8 (0)    Neal Maupay    Argentina   Brighton & Hove Albion  8 (1)     Roberto Firmino    Brazil   Liverpool FC  8 (0)    Callum Wilson    England   AFC Bournemouth  8 (0)   25.  Ayoze Pérez    Spain   Leicester City  7 (1)    Jack Grealish    England   Aston Villa  7 (0)    Sébastien Haller    France   West Ham United  7 (0)    Alexandre Lacazette    France   Arsenal FC  7 (0)    Riyad Mahrez    Algeria   Manchester City  7 (0)    Harry Wilson    Wales   AFC Bournemouth  7 (0)   31. Ashley Barnes    England   Burnley FC  6 (1)    Harvey Barnes    England   Leicester City  6 (0)    Todd Cantwell    England   Norwich City  6 (0)    Troy Deeney    England   Watford FC  6 (2)     Diogo Jota    Portugal   Wolverhampton Wanderers  6 (0)    James Maddison    England   Leicester City  6 (0)    Mason Mount    England   Chelsea FC  6 (0)   38.  Bernardo Silva    Portugal   Manchester City  5 (0)    John Fleck    Scotland   Sheffield United  5 (0)    Mason Greenwood    England   Manchester United  5 (0)    Lys Mousset    France   Sheffield United  5 (0)    Christian Pulisic    USA   Chelsea FC  5 (0)    Jay Rodriguez    England   Burnley FC  5 (1)    Ismaïla Sarr    Senegal   Watford FC  5 (0)    Jonjo Shelvey    England   Newcastle United  5 (0)    Robert Snodgrass    Scotland   West Ham United  5 (0)     Wesley    Brazil   Aston Villa  5 (0)     Willian    Brazil   Chelsea FC  5 (1)   49. Matt Doherty    Ireland   Wolverhampton Wanderers  4 (0)    Abdoulaye Doucouré    France   Watford FC  4 (0)    Anwar el Ghazi    Netherlands   Aston Villa  4 (1)     Gerard Deulofeu    Spain   Watford FC  4 (1)     Jorginho    Italy   Chelsea FC  4 (3)    Joshua King    Norway   AFC Bournemouth  4 (1)     Lucas    Brazil   Tottenham Hotspur  4 (0)    John Lundstram    England   Sheffield United  4 (0)     Marcos Alonso    Spain   Chelsea FC  4 (0)    Oliver McBurnie    Scotland   Sheffield United  4 (0)    Mark Noble    England   West Ham United  4 (3)    Nicolas Pépé    Ivory Coast   Arsenal FC  4 (1)    Adama Traoré    Spain   Wolverhampton Wanderers  4 (0)    Virgil van Dijk    Netherlands   Liverpool FC  4 (0)    James Ward-Prowse    England   Southampton FC  4 (1)   64. Stuart Armstrong    Scotland   Southampton FC  3 (0)     Bernard    Brazil   Everton FC  3 (0)    Aaron Cresswell    England   West Ham United  3 (0)    Issa Diop    France   West Ham United  3 (0)     Douglas Luiz    Brazil   Aston Villa  3 (0)     Gabriel Martinelli    Brazil   Arsenal FC  3 (0)    Jordan Henderson    England   Liverpool FC  3 (0)    Conor Hourihane    Ireland   Aston Villa  3 (0)    Kelechi Iheanacho    Nigeria   Leicester City  3 (0)    Daniel James    Wales   Manchester United  3 (0)    N'Golo Kanté    France   Chelsea FC  3 (0)    John McGinn    Scotland   Aston Villa  3 (0)    Scott McTominay    Scotland   Manchester United  3 (0)    Divock Origi    Belgium   Liverpool FC  3 (0)    Alex Oxlade-Chamberlain    England   Liverpool FC  3 (0)    Roberto Pereyra    Argentina   Watford FC  3 (1)    Nathan Redmond    England   Southampton FC  3 (0)     Ricardo Pereira    Portugal   Leicester City  3 (0)     Rodri    Spain   Manchester City  3 (0)    Billy Sharp    England   Sheffield United  3 (0)    Youri Tielemans    Belgium   Leicester City  3 (0)     Trezeguet    Egypt   Aston Villa  3 (0)    Leandro Trossard    Belgium   Brighton & Hove Albion  3 (0)    Patrick van Aanholt    Netherlands   Crystal Palace  3 (1)    Adam Webster    England   Brighton & Hove Albion  3 (0)    Georginio Wijnaldum    Netherlands   Liverpool FC  3 (0)    Andrey Yarmolenko    Ukraine   West Ham United  3 (0)    Wilfried Zaha    Ivory Coast   Crystal Palace  3 (0)   92. Nathan Aké    Netherlands   AFC Bournemouth  2 (0)    Trent Alexander-Arnold    England   Liverpool FC  2 (0)    Miguel Almirón    Paraguay   Newcastle United  2 (0)    Michail Antonio    England   West Ham United  2 (0)     Azpilicueta    Spain   Chelsea FC  2 (0)    George Baldock    England   Sheffield United  2 (0)    Steven Bergwijn    Netherlands   Tottenham Hotspur  2 (0)     Bruno Fernandes    Portugal   Manchester United  2 (1)    Ben Chilwell    England   Leicester City  2 (0)    Ciaran Clark    Ireland   Newcastle United  2 (0)    Aaron Connolly    Ireland   Brighton & Hove Albion  2 (0)    Patrick Cutrone    Italy   Wolverhampton Wanderers  2 (0)     David Luiz    Brazil   Arsenal FC  2 (0)     David Silva    Spain   Manchester City  2 (0)    Leander Dendoncker    Belgium   Wolverhampton Wanderers  2 (0)    Moussa Djénépo    Mali   Southampton FC  2 (0)    Lewis Dunk    England   Brighton & Hove Albion  2 (0)    Christian Eriksen    Denmark   Tottenham Hotspur  2 (0)    Federico Fernández    Argentina   Newcastle United  2 (0)    Olivier Giroud    France   Chelsea FC  2 (0)    Dan Gosling    England   AFC Bournemouth  2 (0)    Andre Gray    England   Watford FC  2 (0)    Pascal Groß    Germany   Brighton & Hove Albion  2 (0)    İlkay Gündoğan    Germany   Manchester City  2 (1)    Jeff Hendrick    Ireland   Burnley FC  2 (0)    Alireza Jahanbakhsh    Iran   Brighton & Hove Albion  2 (0)    Érik Lamela    Argentina   Tottenham Hotspur  2 (0)    Florian Lejeune    France   Newcastle United  2 (0)    Shane Long    Ireland   Southampton FC  2 (0)    Matthew Longstaff    England   Newcastle United  2 (0)    Dwight McNeil    England   Burnley FC  2 (0)    Luka Milivojević    Serbia   Crystal Palace  2 (2)    James Milner    England   Liverpool FC  2 (2)    Yerry Mina    Colombia   Everton FC  2 (0)    Tyrone Mings    England   Aston Villa  2 (0)    Aaron Mooy    Australia   Brighton & Hove Albion  2 (0)    Wilfred Ndidi    Nigeria   Leicester City  2 (0)    Tanguy NDombèlé    France   Tottenham Hotspur  2 (0)    Michael Obafemi    Ireland   Southampton FC  2 (0)    Angelo Ogbonna    Italy   West Ham United  2 (0)    Nicolás Otamendi    Argentina   Manchester City  2 (0)     Pablo Fornals    Spain   West Ham United  2 (0)    Sokratis Papastathopoulos    Greece   Arsenal FC  2 (0)     Pedro Neto    Portugal   Wolverhampton Wanderers  2 (0)     Rúben Neves    Portugal   Wolverhampton Wanderers  2 (0)    Antonio Rüdiger    Germany   Chelsea FC  2 (0)    Allan Saint-Maximin    France   Newcastle United  2 (0)    Romain Saïss    Morocco   Wolverhampton Wanderers  2 (0)    Fabian Schär    Switzerland   Newcastle United  2 (0)    Jeffrey Schlupp    Ghana   Crystal Palace  2 (0)    Moussa Sissoko    France   Tottenham Hotspur  2 (0)    Enda Stevens    Ireland   Sheffield United  2 (0)    Cenk Tosun    Turkey   Crystal Palace  Everton FC  2 (0)    Matěj Vydra    Czech Republic   Burnley FC  2 (0)    Ashley Westwood    England   Burnley FC  2 (0)    Jetro Willems    Netherlands   Newcastle United  2 (0)   148. Toby Alderweireld    Belgium   Tottenham Hotspur  1 (0)    Florin Andone    Romania   Brighton & Hove Albion  1 (0)     Andreas Pereira    Brazil   Manchester United  1 (0)    Serge Aurier    Ivory Coast   Tottenham Hotspur  1 (0)    Fabián Balbuena    Paraguay   West Ham United  1 (0)    Michy Batshuayi    Belgium   Chelsea FC  1 (0)    Jan Bednarek    Poland   Southampton FC  1 (0)    Christian Benteke    Belgium   Crystal Palace  1 (0)    Ryan Bertrand    England   Southampton FC  1 (0)    Philip Billing    Denmark   AFC Bournemouth  1 (0)    Jarrod Bowen    England   West Ham United  1 (0)    Robbie Brady    Ireland   Burnley FC  1 (0)    Calum Chambers    England   Arsenal FC  1 (0)    Hamza Choudhury    England   Leicester City  1 (0)    Tom Cleverley    England   Watford FC  1 (0)    Steve Cook    England   AFC Bournemouth  1 (0)    Tom Davies    England   Everton FC  1 (0)    Josip Drmić    Switzerland   Norwich City  1 (0)    Shane Duffy    Ireland   Brighton & Hove Albion  1 (0)    Björn Engels    Belgium   Aston Villa  1 (0)    Jonny Evans    Northern Ireland   Leicester City  1 (0)     Fabinho    Brazil   Liverpool FC  1 (0)     Felipe Anderson    Brazil   West Ham United  1 (0)    Ryan Fraser    Scotland   AFC Bournemouth  1 (0)    Demarai Gray    England   Leicester City  1 (0)    Jóhann Guðmundsson    Iceland   Burnley FC  1 (0)    Isaac Hayden    England   Newcastle United  1 (0)     Héctor Bellerín    Spain   Arsenal FC  1 (0)    Javier Hernández    Mexico   West Ham United  1 (0)    Onel Hernandez    Germany   Norwich City  1 (0)    Callum Hudson-Odoi    England   Chelsea FC  1 (0)    Will Hughes    England   Watford FC  1 (0)    Alex Iwobi    Nigeria   Everton FC  1 (0)     João Moutinho    Portugal   Wolverhampton Wanderers  1 (0)     Joelinton    Brazil   Newcastle United  1 (0)     Jonny    Spain   Wolverhampton Wanderers  1 (0)    Moise Kean    Italy   Everton FC  1 (0)    Michael Keane    England   Everton FC  1 (0)    Naby Keïta    Guinea   Liverpool FC  1 (0)    Cheikhou Kouyaté    Senegal   Crystal Palace  1 (0)    Mateo Kovačić    Croatia   Chelsea FC  1 (0)    Adam Lallana    England   Liverpool FC  1 (0)    Jamaal Lascelles    England   Newcastle United  1 (0)    Jefferson Lerma    Colombia   AFC Bournemouth  1 (0)    Jamal Lewis    Northern Ireland   Norwich City  1 (0)    Victor Lindelöf    Sweden   Manchester United  1 (0)    Harry Maguire    England   Manchester United  1 (0)    Adam Masina    Italy   Watford FC  1 (0)    Joel Matip    Cameroon   Liverpool FC  1 (0)    Kenny McLean    Scotland   Norwich City  1 (0)    Chris Mepham    Wales   AFC Bournemouth  1 (0)    Glenn Murray    England   Brighton & Hove Albion  1 (0)    Eddie Nketiah    England   Arsenal FC  1 (0)    Oliver Norwood    Northern Ireland   Sheffield United  1 (1)    Mesut Özil    Germany   Arsenal FC  1 (0)     Pedro    Spain   Chelsea FC  1 (0)    Dennis Praet    Belgium   Leicester City  1 (0)    Davy Pröpper    Netherlands   Brighton & Hove Albion  1 (0)    Andrew Robertson    Scotland   Liverpool FC  1 (0)    Callum Robinson    Ireland   Sheffield United  1 (0)    Mbwana Samatta    Tanzania   Aston Villa  1 (0)    Xherdan Shaqiri    Switzerland   Liverpool FC  1 (0)    Gylfi Sigurðsson    Iceland   Everton FC  1 (0)    Çağlar Söyüncü    Turkey   Leicester City  1 (0)    Dennis Srbeny    Germany   Norwich City  1 (0)    Jack Stephens    England   Southampton FC  1 (0)    Matt Targett    England   Aston Villa  1 (0)    James Tarkowski    England   Burnley FC  1 (0)    Alexander Tettey    Norway   Norwich City  1 (0)    James Tomkins    England   Crystal Palace  1 (0)    Fikayo Tomori    England   Chelsea FC  1 (0)    Lucas Torreira    Uruguay   Arsenal FC  1 (0)    Andros Townsend    England   Crystal Palace  1 (0)    Jan Vertonghen    Belgium   Tottenham Hotspur  1 (0)    Jannik Vestergaard    Denmark   Southampton FC  1 (0)    Mario Vrančić    Bosnia-Herzegovina   Norwich City  1 (0)    Theo Walcott    England   Everton FC  1 (0)    Kyle Walker    England   Manchester City  1 (0)    Connor Wickham    England   Crystal Palace  1 (0)    Brandon Williams    England   Manchester United  1 (0)    DeAndre Yedlin    USA   Newcastle United  1 (0)  \""
      ]
     },
     "execution_count": 34,
     "metadata": {},
     "output_type": "execute_result"
    }
   ],
   "source": [
    "datos_pro_prem"
   ]
  },
  {
   "cell_type": "code",
   "execution_count": 35,
   "metadata": {},
   "outputs": [],
   "source": [
    "url_calcio = 'https://www.worldfootball.net/goalgetter/ita-serie-a-2019-2020/'"
   ]
  },
  {
   "cell_type": "code",
   "execution_count": 36,
   "metadata": {},
   "outputs": [],
   "source": [
    "uClient_cal = uReq(url_calcio)\n",
    "page_html_cal = uClient_cal.read()\n",
    "uClient_cal.close()"
   ]
  },
  {
   "cell_type": "code",
   "execution_count": 37,
   "metadata": {},
   "outputs": [],
   "source": [
    "page_soup_cal = soup(page_html_cal, \"html.parser\")\n",
    "tabla_cal = page_soup_cal.findAll(\"table\",{\"class\":\"standard_tabelle\"})"
   ]
  },
  {
   "cell_type": "code",
   "execution_count": 40,
   "metadata": {},
   "outputs": [],
   "source": [
    "we_cal = tabla_cal[0].text # si funciona\n",
    "datos_pro_cal = we_cal.replace(\"\\n\", \" \")  # si funciona"
   ]
  },
  {
   "cell_type": "code",
   "execution_count": 41,
   "metadata": {
    "collapsed": true
   },
   "outputs": [
    {
     "data": {
      "text/plain": [
       "\"  # Player  Country Team Goals (Penalty)   1. Ciro Immobile    Italy   Lazio Roma  27 (10)   2.  Cristiano Ronaldo    Portugal   Juventus  21 (7)   3. Romelu Lukaku    Belgium   Inter  17 (4)   4.  João Pedro    Brazil   Cagliari Calcio  16 (3)   5. Josip Iličič    Slovenia   Atalanta  15 (0)   6. Francesco Caputo    Italy   Sassuolo Calcio  13 (1)    Luis Muriel    Colombia   Atalanta  13 (5)   8. Edin Džeko    Bosnia-Herzegovina   AS Roma  12 (0)   9. Lautaro Martínez    Argentina   Inter  11 (2)    Andrea Petagna    Italy   SPAL 2013 Ferrara  11 (5)    Duván Zapata    Colombia   Atalanta  11 (1)   12. Andrea Belotti    Italy   Torino FC  9 (5)    Domenico Berardi    Italy   Sassuolo Calcio  9 (0)    Arkadiusz Milik    Poland   SSC Napoli  9 (0)    Fabio Quagliarella    Italy   Sampdoria  9 (5)   16. Jérémie Boga    Ivory Coast   Sassuolo Calcio  8 (0)    Felipe Caicedo    Ecuador   Lazio Roma  8 (0)    Andreas Cornelius    Denmark   Parma Calcio 1913  8 (0)    Marco Mancosu    Italy   US Lecce  8 (5)   20. Joaquín Correa    Argentina   Lazio Roma  7 (0)    Domenico Criscito    Italy   Genoa CFC  7 (7)    Paulo Dybala    Argentina   Juventus  7 (1)    Robin Gosens    Germany   Atalanta  7 (0)    Gianluca Lapadula    Italy   US Lecce  7 (2)    Riccardo Orsolini    Italy   Bologna FC  7 (0)    Goran Pandev    North Macedonia   Genoa CFC  7 (0)   27. Federico Chiesa    Italy   ACF Fiorentina  6 (1)    Manolo Gabbiadini    Italy   Sampdoria  6 (1)    Papu Gómez    Argentina   Atalanta  6 (0)    Aleksandar Kolarov    Serbia   AS Roma  6 (2)    Dries Mertens    Belgium   SSC Napoli  6 (0)    Henrikh Mkhitaryan    Armenia   AS Roma  6 (0)    Rodrigo Palacio    Argentina   Bologna FC  6 (0)    Ante Rebić    Croatia   AC Milan  6 (0)    Giovanni Simeone    Argentina   ACF Fiorentina  Cagliari Calcio  6 (0)    Dušan Vlahović    Serbia   ACF Fiorentina  6 (1)   37.  Álex Berenguer    Spain   Torino FC  5 (0)    Mario Balotelli    Italy   Brescia Calcio  5 (0)    Rodrigo de Paul    Argentina   Udinese Calcio  5 (0)     Gervinho    Ivory Coast   Parma Calcio 1913  5 (0)    Theo Hernández    France   AC Milan  5 (0)    Gonzalo Higuaín    Argentina   Juventus  5 (0)    Lorenzo Insigne    Italy   SSC Napoli  5 (3)    Christian Kouamé    Ivory Coast   Genoa CFC  5 (0)    Dejan Kulusevski    Sweden   Parma Calcio 1913  5 (0)    Radja Nainggolan    Belgium   Cagliari Calcio  5 (0)    Stefano Okaka    Italy   Udinese Calcio  5 (0)    Mario Pašalić    Croatia   Atalanta  5 (0)    Gastón Ramírez    Uruguay   Sampdoria  5 (1)   50. Cristian Ansaldi    Argentina   Torino FC  4 (0)    Mattia Bani    Italy   Bologna FC  4 (0)    Alfredo Donnarumma    Italy   Brescia Calcio  4 (1)    Filip Đuričić    Serbia   Sassuolo Calcio  4 (0)    Justin Kluivert    Netherlands   AS Roma  4 (0)    Kevin Lasagna    Italy   Udinese Calcio  4 (0)     Luis Alberto    Spain   Lazio Roma  4 (1)    Ruslan Malinovskiy    Ukraine   Atalanta  4 (0)    Sergej Milinković-Savić    Serbia   Lazio Roma  4 (0)    Giampaolo Pazzini    Italy   Hellas Verona  4 (3)    Krzysztof Piątek    Poland   AC Milan  4 (3)    Erick Pulgar    Chile   ACF Fiorentina  4 (4)    Nicola Sansone    Italy   Bologna FC  4 (3)    Ernesto Torregrossa    Italy   Brescia Calcio  4 (1)    Nicolò Zaniolo    Italy   AS Roma  4 (0)   65. Musa Barrow    Gambia   Atalanta  Bologna FC  3 (0)    Leonardo Bonucci    Italy   Juventus  3 (0)    Marcelo Brozović    Croatia   Inter  3 (0)    Marco Calderoni    Italy   US Lecce  3 (0)    Hakan Çalhanoğlu    Turkey   AC Milan  3 (0)    Gianluca Caprari    Italy   Parma Calcio 1913  Sampdoria  3 (0)    Gaetano Castrovilli    Italy   ACF Fiorentina  3 (0)    Jhon Chancellor    Venezuela   Brescia Calcio  3 (0)    Samuel Di Carmine    Italy   Hellas Verona  3 (0)    Filippo Falco    Italy   US Lecce  3 (0)    Davide Faraoni    Italy   Hellas Verona  3 (0)    Zlatan Ibrahimović    Sweden   AC Milan  3 (0)    Juraj Kucka    Slovakia   Parma Calcio 1913  3 (0)     Llorente    Spain   SSC Napoli  3 (0)    Kostas Manolas    Greece   SSC Napoli  3 (0)    Nikola Milenković    Serbia   ACF Fiorentina  3 (0)    Diego Perotti    Argentina   AS Roma  3 (3)    Matteo Pessina    Italy   Hellas Verona  3 (0)    Miralem Pjanić    Bosnia-Herzegovina   Juventus  3 (0)    Aaron Ramsey    Wales   Juventus  3 (0)    Antonio Sanabria    Paraguay   Genoa CFC  3 (0)    Stefano Sensi    Italy   Inter  3 (0)    Roberto Soriano    Italy   Bologna FC  3 (0)    Hamed Traorè    Ivory Coast   Sassuolo Calcio  3 (0)    Cengiz Ünder    Turkey   AS Roma  3 (0)    Valerio Verre    Italy   Hellas Verona  3 (2)    Simone Zaza    Italy   Torino FC  3 (0)   92. Francesco Acerbi    Italy   Lazio Roma  2 (0)    Khouma Babacar    Senegal   US Lecce  2 (0)    Giacomo Bonaventura    Italy   AC Milan  2 (0)    Kevin Bonifazi    Italy   SPAL 2013 Ferrara  Torino FC  2 (0)    Fabio Borini    Italy   AC Milan  Hellas Verona  2 (0)    Antonio Candreva    Italy   Inter  2 (0)    Francesco Cassata    Italy   Genoa CFC  2 (0)    Lucas Castro    Argentina   Cagliari Calcio  SPAL 2013 Ferrara  2 (0)    Luca Ceppitelli    Italy   Cagliari Calcio  2 (0)    Matthijs de Ligt    Netherlands   Juventus  2 (0)    Stefan de Vrij    Netherlands   Inter  2 (0)    Federico Di Francesco    Italy   SPAL 2013 Ferrara  2 (0)    Giovanni Di Lorenzo    Italy   SSC Napoli  2 (0)     Diego Farias    Brazil   US Lecce  2 (0)     Fabián Ruiz    Spain   SSC Napoli  2 (0)    Remo Freuler    Switzerland   Atalanta  2 (0)    Roberto Gagliardini    Italy   Inter  2 (0)    Riccardo Gagliolo    Sweden   Parma Calcio 1913  2 (0)    Simone Iacoponi    Italy   Parma Calcio 1913  2 (0)    Roberto Inglese    Italy   Parma Calcio 1913  2 (0)    Jakub Jankto    Czech Republic   Sampdoria  2 (0)     José Callejón    Spain   SSC Napoli  2 (0)    Nikola Kalinić    Croatia   AS Roma  2 (0)    Jasmin Kurtić    Slovenia   Parma Calcio 1913  SPAL 2013 Ferrara  2 (0)    Andrea La Mantia    Italy   US Lecce  2 (0)    Karol Linetty    Poland   Sampdoria  2 (0)    Hirving Lozano    Mexico   SSC Napoli  2 (0)    Adam Marušić    Montenegro   Lazio Roma  2 (0)     Miguel Veloso    Portugal   Hellas Verona  2 (0)    Germán Pezzella    Argentina   ACF Fiorentina  2 (0)    Andrea Pinamonti    Italy   Genoa CFC  2 (0)    Andrea Poli    Italy   Bologna FC  2 (0)     Rafael Leão    Portugal   AC Milan  2 (0)    Franck Ribéry    France   ACF Fiorentina  2 (0)    Ken Sema    Sweden   Udinese Calcio  2 (0)    Chris Smalling    England   AS Roma  2 (0)    Mariusz Stępiński    Poland   Hellas Verona  2 (0)    Mattia Valoti    Italy   SPAL 2013 Ferrara  2 (0)    Matías Vecino    Uruguay   Inter  2 (0)    Jordan Veretout    France   AS Roma  2 (2)    Piotr Zieliński    Poland   SSC Napoli  2 (0)   133. Bobby Adekanye    Netherlands   Lazio Roma  1 (0)    Kevin Agudelo    Colombia   ACF Fiorentina  Genoa CFC  1 (0)     Allan    Brazil   SSC Napoli  1 (0)    Milan Badelj    Croatia   ACF Fiorentina  1 (0)    Antonín Barák    Czech Republic   Udinese Calcio  US Lecce  1 (0)    Nicolò Barella    Italy   Inter  1 (0)    Antonino Barillà    Italy   Parma Calcio 1913  1 (0)    Alessandro Bastoni    Italy   Inter  1 (0)     Bastos    Angola   Lazio Roma  1 (0)    Marco Benassi    Italy   ACF Fiorentina  1 (0)    Dimitri Bisoli    Italy   Brescia Calcio  1 (0)    Kevin-Prince Boateng    Ghana   ACF Fiorentina  1 (0)    Federico Bonazzoli    Italy   Sampdoria  1 (0)     Borja Valero    Spain   Inter  1 (0)     Bremer    Brazil   Torino FC  1 (0)    Martín Cáceres    Uruguay   ACF Fiorentina  1 (0)    Timothy Castagne    Belgium   Atalanta  1 (0)    Danilo Cataldi    Italy   Lazio Roma  1 (0)    Alberto Cerri    Italy   Cagliari Calcio  SPAL 2013 Ferrara  1 (0)    Giorgio Chiellini    Italy   Juventus  1 (0)    Andrea Cistana    Italy   Brescia Calcio  1 (0)    Bryan Cristante    Italy   AS Roma  1 (0)    Juan Cuadrado    Colombia   Juventus  1 (0)    Danilo D'Ambrosio    Italy   Inter  1 (0)     Danilo    Brazil   Bologna FC  1 (0)     Danilo    Brazil   Juventus  1 (0)    Paweł Dawidowicz    Poland   Hellas Verona  1 (0)    Marten de Roon    Netherlands   Atalanta  1 (0)    Gregoire Defrel    France   Sassuolo Calcio  1 (0)    Alessandro Deiola    Italy   Cagliari Calcio  US Lecce  1 (0)    Merih Demiral    Turkey   Juventus  1 (0)    Diego Demme    Germany   SSC Napoli  1 (0)    Berat Djimsiti    Albania   Atalanta  1 (0)    Giulio Donati    Italy   US Lecce  1 (0)    Alfred Duncan    Ghana   ACF Fiorentina  Sassuolo Calcio  1 (0)    Blerim Džemaili    Switzerland   Bologna FC  1 (0)    Simone Edera    Italy   Torino FC  1 (0)    Eljif Elmas    North Macedonia   SSC Napoli  1 (0)    Sebastiano Esposito    Italy   Inter  1 (1)    Paolo Faragò    Italy   Cagliari Calcio  1 (0)    Seko Fofana    France   Udinese Calcio  1 (0)     Gabriel Strefezza    Brazil   SPAL 2013 Ferrara  1 (0)    Alberto Grassi    Italy   Parma Calcio 1913  1 (0)    Armando Izzo    Italy   Torino FC  1 (0)    Yann Karamoh    France   Parma Calcio 1913  1 (0)    Franck Kessié    Ivory Coast   AC Milan  1 (1)    Ladislav Krejčí    Czech Republic   Bologna FC  1 (0)    Marash Kumbulla    Albania   Hellas Verona  1 (0)    Darko Lazović    Serbia   Hellas Verona  1 (0)    Fabio Lucioni    Italy   US Lecce  1 (0)     Luiz Felipe    Brazil   Lazio Roma  1 (0)    Žan Majer    Slovenia   US Lecce  1 (0)    Nikola Maksimović    Serbia   SSC Napoli  1 (0)    Gianluca Mancini    Italy   AS Roma  1 (0)    Simone Missiroli    Italy   SPAL 2013 Ferrara  1 (0)    Nahitan Nández    Uruguay   Cagliari Calcio  1 (0)    Ilija Nestorovski    North Macedonia   Udinese Calcio  1 (0)    Christian Oliva    Uruguay   Cagliari Calcio  1 (0)    José Palomino    Argentina   Atalanta  1 (0)     Pedro Obiang    Spain   Sassuolo Calcio  1 (0)    Lorenzo Pellegrini    Italy   AS Roma  1 (0)    Gastón Pereiro    Uruguay   Cagliari Calcio  1 (0)    Fabio Pisacane    Italy   Cagliari Calcio  1 (0)    Ignacio Pussetto    Argentina   Udinese Calcio  1 (0)    Stefan Radu    Romania   Lazio Roma  1 (0)    Daniele Ragatzu    Italy   Cagliari Calcio  1 (0)    Tomás Rincón    Venezuela   Torino FC  1 (0)     Rodrigo Becão    Brazil   Udinese Calcio  1 (0)    Marko Rog    Croatia   Cagliari Calcio  1 (0)     Rômulo    Italy   Brescia Calcio  Genoa CFC  1 (0)    Eddie Salcedo    Italy   Hellas Verona  1 (0)    Alexis Sánchez    Chile   Inter  1 (0)    Federico Santander    Paraguay   Bologna FC  1 (1)    Riccardo Saponara    Italy   Genoa CFC  US Lecce  1 (0)    Lasse Schöne    Denmark   Genoa CFC  1 (0)    Andreas Skov Olsen    Denmark   Bologna FC  1 (0)    Adama Soumaoro    France   Genoa CFC  1 (0)    Nikolas Špalek    Slovakia   Brescia Calcio  1 (0)    Mattia Sprocati    Italy   Parma Calcio 1913  1 (0)    Jens Stryger Larsen    Denmark   Udinese Calcio  1 (0)    Stefano Sturaro    Italy   Genoa CFC  1 (0)     Suso    Spain   AC Milan  1 (0)    Andrea Tabanelli    Italy   US Lecce  1 (0)    Jeremy Toljan    Germany   Sassuolo Calcio  1 (0)    Rafael Tolói    Brazil   Atalanta  1 (0)    Sandro Tonali    Italy   Brescia Calcio  1 (0)    Amad Traoré    Ivory Coast   Atalanta  1 (0)    Simone Verdi    Italy   SSC Napoli  Torino FC  1 (0)    Ashley Young    England   Inter  1 (0)    Mattia Zaccagni    Italy   Hellas Verona  1 (0)    Cristián Zapata    Colombia   Genoa CFC  1 (0)  \""
      ]
     },
     "execution_count": 41,
     "metadata": {},
     "output_type": "execute_result"
    }
   ],
   "source": [
    "datos_pro_cal"
   ]
  },
  {
   "cell_type": "code",
   "execution_count": 42,
   "metadata": {},
   "outputs": [],
   "source": [
    "url_ligue = 'https://www.worldfootball.net/goalgetter/fra-ligue-1-2019-2020/'"
   ]
  },
  {
   "cell_type": "code",
   "execution_count": 43,
   "metadata": {},
   "outputs": [],
   "source": [
    "uClient_lig = uReq(url_ligue)\n",
    "page_html_lig = uClient_lig.read()\n",
    "uClient_lig.close()"
   ]
  },
  {
   "cell_type": "code",
   "execution_count": 44,
   "metadata": {},
   "outputs": [],
   "source": [
    "page_soup_lig = soup(page_html_lig, \"html.parser\")\n",
    "tabla_lig = page_soup_lig.findAll(\"table\",{\"class\":\"standard_tabelle\"})"
   ]
  },
  {
   "cell_type": "code",
   "execution_count": 45,
   "metadata": {},
   "outputs": [],
   "source": [
    "we_lig = tabla_lig[0].text # si funciona\n",
    "datos_pro_lig = we_lig.replace(\"\\n\", \" \")  # si funciona"
   ]
  },
  {
   "cell_type": "code",
   "execution_count": 46,
   "metadata": {
    "collapsed": true
   },
   "outputs": [
    {
     "data": {
      "text/plain": [
       "\"  # Player  Country Team Goals (Penalty)   1. Wissam Ben Yedder    France   AS Monaco  18 (3)    Kylian Mbappé    France   Paris Saint-Germain  18 (0)   3. Moussa Dembélé    France   Olympique Lyon  16 (4)   4.  Neymar    Brazil   Paris Saint-Germain  13 (4)    Victor Osimhen    Nigeria   Lille OSC  13 (2)   6. Habib Diallo    Senegal   FC Metz  12 (1)    Mauro Icardi    Argentina   Paris Saint-Germain  12 (0)   8. Darío Benedetto    Argentina   Olympique Marseille  11 (0)    Kasper Dolberg    Denmark   OGC Nice  11 (0)   10. Denis Bouanga    Gabon   AS Saint-Étienne  10 (3)    M'Baye Niang    Senegal   Stade Rennes  10 (0)   12. Andy Delort    Algeria   Montpellier HSC  9 (0)    Memphis Depay    Netherlands   Olympique Lyon  9 (1)    Serhou Guirassy    France   Amiens SC  9 (3)    Dimitri Payet    France   Olympique Marseille  9 (3)    Islam Slimani    Algeria   AS Monaco  9 (1)   17. Ludovic Ajorque    France   RC Strasbourg  8 (1)    Ángel Di María    Argentina   Paris Saint-Germain  8 (1)    Adrien Hunou    France   Stade Rennes  8 (1)    Adrien Thomasson    France   RC Strasbourg  8 (0)   21. Jimmy Briand    France   Girondins Bordeaux  7 (1)    Wylan Cyprien    France   OGC Nice  7 (5)    Boulaye Dia    France   Stade Reims  7 (1)    Loïc Rémy    France   Lille OSC  7 (0)   25. Rachid Alioui    Morocco   Angers SCO  6 (0)    Mama Baldé    Guinea-Bissau   Dijon FCO  6 (0)    Irvin Cardona    France   Stade Brest  6 (0)    Nicolas de Préville    France   Girondins Bordeaux  6 (1)    Romain Hamouma    France   AS Saint-Étienne  6 (0)    Ui-jo Hwang    South Korea   Girondins Bordeaux  6 (0)    Gaëtan Laborde    France   Montpellier HSC  6 (0)    Josh Maja    Nigeria   Girondins Bordeaux  6 (0)    Florent Mollet    France   Montpellier HSC  6 (0)    Téji Savanier    France   Montpellier HSC  6 (2)   35. Ludovic Blas    France   FC Nantes  5 (0)     Júlio Tavares    Cape Verde   Dijon FCO  5 (1)    Pierre Lees-Melou    France   OGC Nice  5 (0)    Stephy Mavididi    England   Dijon FCO  5 (0)    John Mendoza    Colombia   Amiens SC  5 (0)    Opa Nguette    France   FC Metz  5 (0)    Romain Philippoteaux    France   Nîmes Olympique  5 (0)     Raphinha    Brazil   Stade Rennes  5 (1)    Morgan Sanson    France   Olympique Marseille  5 (0)    Moses Simon    Nigeria   FC Nantes  5 (0)   45. Stéphane Bahoken    France   Angers SCO  4 (1)    Keita Baldé    Senegal   AS Monaco  4 (0)    Edinson Cavani    Uruguay   Paris Saint-Germain  4 (1)    Gaëtan Charbonnier    France   Stade Brest  4 (0)    Mounir Chouiar    France   Dijon FCO  4 (0)    Maxwel Cornet    Ivory Coast   Olympique Lyon  4 (0)    Kalifa Coulibaly    Mali   FC Nantes  4 (0)     Gelson Martins    Portugal   AS Monaco  4 (0)    Efthimios Koulouris    Greece   Toulouse FC  4 (0)    Rémi Oudin    France   Girondins Bordeaux  Stade Reims  4 (0)     Pablo Castro    Brazil   Girondins Bordeaux  4 (0)     Pablo Sarabia    Spain   Paris Saint-Germain  4 (0)    Nemanja Radonjić    Serbia   Olympique Marseille  4 (0)    Renaud Ripart    France   Nîmes Olympique  4 (2)   59. Yunis Abdelhamid    Morocco   Stade Reims  3 (0)    Yacine Adli    France   Girondins Bordeaux  3 (0)    Houssem Aouar    France   Olympique Lyon  3 (0)    Cristian Battocchio    Italy   Stade Brest  3 (0)    Eric Maxim Choupo-Moting    Cameroon   Paris Saint-Germain  3 (0)    Yoann Court    France   Stade Brest  3 (0)    Kevin Denkey    Togo   Nîmes Olympique  3 (0)    Farid El Melali    Algeria   Angers SCO  3 (0)    Zinedine Ferhat    Algeria   Nîmes Olympique  3 (0)    Ignatius Ganago    Cameroon   OGC Nice  3 (0)    Aleksandr Golovin    Russia   AS Monaco  3 (0)    Max Gradel    Ivory Coast   Toulouse FC  3 (2)    Samuel Grandsir    France   Stade Brest  3 (0)    Christophe Hérelle    France   OGC Nice  3 (0)    Jonathan Ikoné    France   Lille OSC  3 (1)    Wahbi Khazri    Tunisia   AS Saint-Étienne  3 (1)    Faitout Maouassa    France   Stade Rennes  3 (0)     Marquinhos    Brazil   Paris Saint-Germain  3 (0)    Alexandre Mendy    France   Stade Brest  3 (0)    Lebo Mothiba    South Africa   RC Strasbourg  3 (0)    Ibrahima Niane    Senegal   FC Metz  3 (1)    Casimir Ninga    Chad   Angers SCO  3 (0)    Jeff Reine-Adélaïde    France   Angers SCO  Olympique Lyon  3 (0)     Renato Sanches    Portugal   Lille OSC  3 (0)    Yaya Sanogo    France   Toulouse FC  3 (1)    Abdoulaye Touré    France   FC Nantes  3 (2)    El Bilal Touré    Mali   Stade Reims  3 (2)   86. Chadrac Akolo    Congo DR   Amiens SC  2 (0)    Benjamin André    France   Lille OSC  2 (0)    Mathias Autret    France   Stade Brest  2 (0)    Yassine Benrahou    France   Girondins Bordeaux  Nîmes Olympique  2 (0)    Antonin Bobichon    France   Angers SCO  Nîmes Olympique  2 (0)    Farid Boulaya    Algeria   FC Metz  2 (0)    Benjamin Bourigeaud    France   Stade Rennes  2 (0)    John Boye    Ghana   FC Metz  2 (0)    Jhonder Cádíz    Venezuela   Dijon FCO  2 (0)    Lucas Deaux    France   Nîmes Olympique  2 (0)    Romain Del Castillo    France   Stade Rennes  2 (1)    Bafodé Diakité    France   Toulouse FC  2 (0)    Bakaye Dibassy    Mali   Amiens SC  2 (0)    Loïs Diony    France   AS Saint-Étienne  2 (0)    Moussa Doumbia    Mali   Stade Reims  2 (1)    Julien Faussurier    France   Stade Brest  2 (0)    Valère Germain    France   Olympique Marseille  2 (0)    Stevan Jovetić    Montenegro   AS Monaco  2 (0)    Gaël Kakuta    Congo DR   Amiens SC  2 (0)    Hassane Kamara    Gambia   Stade Reims  2 (0)    Moussa Konaté    Senegal   Amiens SC  2 (0)    Moussa Koné    Senegal   Nîmes Olympique  2 (0)    Nianzou Kouassi    France   Paris Saint-Germain  2 (0)    Kenny Lala    France   RC Strasbourg  2 (2)    Paul Lasne    France   Stade Brest  2 (0)    Damien Le Tallec    France   Montpellier HSC  2 (0)    Aaron Leya Iseka    Belgium   Toulouse FC  2 (1)    Dimitri Liénard    France   RC Strasbourg  2 (0)    Imran Louza    France   FC Nantes  2 (0)     Luiz Araujo    Brazil   Lille OSC  2 (0)    Jean-Victor Makengo    France   Toulouse FC  2 (0)    Thomas Mangani    France   Angers SCO  2 (0)    Guillermo Maripán    Chile   AS Monaco  2 (0)    Pablo Martinez    France   Nîmes Olympique  2 (0)     Otavio    Brazil   Girondins Bordeaux  2 (0)    Adam Ounas    Algeria   OGC Nice  2 (0)    Nolan Roux    France   Nîmes Olympique  2 (0)    Wesley Saïd    France   Toulouse FC  2 (0)    Arnaud Souquet    France   Montpellier HSC  2 (0)    Kevin Strootman    Netherlands   Olympique Marseille  2 (1)    Flavien Tait    France   Stade Rennes  2 (0)    Karl Toko Ekambi    Cameroon   Olympique Lyon  2 (0)    Lucas Tousart    France   Olympique Lyon  2 (0)    Majeed Waris    Ghana   RC Strasbourg  2 (0)   130. Mehdi Abeid    France   FC Nantes  1 (0)    Nayef Aguerd    Morocco   Dijon FCO  1 (0)    Jean-Eudes Aholou    Ivory Coast   AS Saint-Étienne  1 (0)    Haitam Aleesami    Norway   Amiens SC  1 (0)    Romain Amalfitano    France   Dijon FCO  1 (0)    Jordan Amavi    France   Olympique Marseille  1 (0)     Ander Herrera    Spain   Paris Saint-Germain  1 (0)    Joachim Andersen    Denmark   Olympique Lyon  1 (0)     Andrei    Brazil   FC Nantes  1 (0)    Youcef Atal    Algeria   OGC Nice  1 (0)    Denys Bain    France   Stade Brest  1 (0)    Tiemoué Bakayoko    France   AS Monaco  1 (0)    Abdoul Bamba    France   FC Nantes  1 (0)    Jonathan Bamba    France   Lille OSC  1 (1)    Toma Bašić    Croatia   Girondins Bordeaux  1 (0)    Loris Benito    Switzerland   Girondins Bordeaux  1 (0)    Robert Berić    Slovenia   AS Saint-Étienne  1 (0)    Mathieu Bodmer    France   Amiens SC  1 (0)    Quentin Boisgard    France   Toulouse FC  1 (0)    Hichem Boudaoui    Algeria   OGC Nice  1 (0)    Ryad Boudebouz    Algeria   AS Saint-Étienne  1 (1)    Anthony Briançon    France   Nîmes Olympique  1 (0)    Patrick Burner    France   OGC Nice  1 (0)    Anthony Caci    France   RC Strasbourg  1 (0)    Mathieu Cafaro    France   Stade Reims  1 (1)    Arturo Calabresi    Italy   Amiens SC  1 (0)    Duje Ćaleta-Car    Croatia   Olympique Marseille  1 (0)    Eduardo Camavinga    France   Stade Rennes  1 (0)    Pierrick Capelle    France   Angers SCO  1 (0)    Jean-Charles Castelletto    Cameroon   Stade Brest  1 (0)    Xavier Chavalerin    France   Stade Reims  1 (0)    Alexis Claude-Maurice    France   OGC Nice  1 (0)    Renaud Cohade    France   FC Metz  1 (0)    Racine Coly    Senegal   OGC Nice  1 (0)    Damien Da Silva    France   Stade Rennes  1 (0)     Dante    Brazil   OGC Nice  1 (0)    Mathieu Debuchy    France   AS Saint-Étienne  1 (0)    Fousséni Diabaté    Mali   Amiens SC  1 (0)    Axel Disasi    France   Stade Reims  1 (0)    Alexander Djiku    France   RC Strasbourg  1 (0)    Mathieu Dossevi    Togo   Toulouse FC  1 (0)    Wesley Fofana    France   AS Saint-Étienne  1 (0)    Youssouf Fofana    France   AS Monaco  RC Strasbourg  1 (0)    Angelo Fulgini    France   Angers SCO  1 (0)     Gabriel    Brazil   Lille OSC  1 (0)    Yann Gboho    France   Stade Rennes  1 (0)    Saman Ghoddos    Iran   Amiens SC  1 (0)    Kamil Glik    Poland   AS Monaco  1 (0)    Clément Grenier    France   Stade Rennes  1 (0)    Idrissa Gueye    Senegal   Paris Saint-Germain  1 (0)    Nicolas Isimat-Mirin    France   Toulouse FC  1 (0)    Christophe Jallet    France   Amiens SC  1 (0)     Jean Lucas    Brazil   Olympique Lyon  1 (0)     José Fonte    Portugal   Lille OSC  1 (0)    Samuel Kalu    Nigeria   Girondins Bordeaux  1 (0)    François Kamano    Guinea   Girondins Bordeaux  1 (0)    Boubacar Kamara    France   Olympique Marseille  1 (0)    Thilo Kehrer    Germany   Paris Saint-Germain  1 (0)    Lamine Koné    Ivory Coast   RC Strasbourg  1 (0)    Layvin Kurzawa    France   Paris Saint-Germain  1 (0)    Dereck Kutesa    Switzerland   Stade Reims  1 (0)    Jack Lahne    Sweden   Amiens SC  1 (0)    Loïck Landré    France   Nîmes Olympique  1 (0)    Anthony Limbombe    Belgium   FC Nantes  1 (0)    Arnaud Lusamba    France   OGC Nice  1 (0)    Habib Maïga    Ivory Coast   FC Metz  1 (0)    Myziane Maolida    France   OGC Nice  1 (0)    Hiang'a Mbock    France   Stade Brest  1 (0)    Hamza Mendyl    Morocco   Dijon FCO  1 (0)    Florian Miguel    France   Nîmes Olympique  1 (0)    Stefan Mitrovič    Serbia   RC Strasbourg  1 (0)    Jérémy Morel    Madagascar   Stade Rennes  1 (0)    Ferris N'Goma    France   Stade Brest  1 (1)    Arnaud Nordin    France   AS Saint-Étienne  1 (0)     Nuno Da Costa    Cape Verde   RC Strasbourg  1 (0)    Juan Otero    Colombia   Amiens SC  1 (0)     Pedro Mendes    Portugal   Montpellier HSC  1 (0)    Mathias Pereira Lage    Portugal   Angers SCO  1 (0)     Rubén Pardo    Spain   Girondins Bordeaux  1 (0)    Junior Sambia    France   Montpellier HSC  1 (0)    Frédéric Sammaritano    France   Dijon FCO  1 (0)    Baptiste Santamaría    France   Angers SCO  1 (0)    Bouna Sarr    Guinea   Olympique Marseille  1 (0)    Malang Sarr    France   OGC Nice  1 (0)    Adama Soumaoro    France   Lille OSC  1 (0)    Hyun-jun Suk    South Korea   Stade Reims  1 (0)    Adrien Tameze    France   OGC Nice  1 (0)    Martin Terrier    France   Olympique Lyon  1 (0)    Sada Thioub    France   Angers SCO  1 (0)    Romain Thomas    France   Angers SCO  1 (0)    Bertrand Traoré    Burkina Faso   Olympique Lyon  1 (0)    Adama Traoré II    Mali   AS Monaco  FC Metz  1 (0)    Miguel Trauco    Peru   AS Saint-Étienne  1 (0)    Theo Valls    France   Nîmes Olympique  1 (0)    Yusuf Yazıcı    Turkey   Lille OSC  1 (1)    Kévin Zohi    Ivory Coast   RC Strasbourg  1 (0)    Bongani Zungu    South Africa   Amiens SC  1 (0)  \""
      ]
     },
     "execution_count": 46,
     "metadata": {},
     "output_type": "execute_result"
    }
   ],
   "source": [
    "datos_pro_lig"
   ]
  },
  {
   "cell_type": "code",
   "execution_count": 47,
   "metadata": {},
   "outputs": [],
   "source": [
    "url_bundesliga = 'https://www.worldfootball.net/goalgetter/bundesliga-2019-2020/'"
   ]
  },
  {
   "cell_type": "code",
   "execution_count": 48,
   "metadata": {},
   "outputs": [],
   "source": [
    "uClient_bun = uReq(url_bundesliga)\n",
    "page_html_bun = uClient_bun.read()\n",
    "uClient_bun.close()"
   ]
  },
  {
   "cell_type": "code",
   "execution_count": 49,
   "metadata": {},
   "outputs": [],
   "source": [
    "page_soup_bun = soup(page_html_bun, \"html.parser\")\n",
    "tabla_bun = page_soup_bun.findAll(\"table\",{\"class\":\"standard_tabelle\"})"
   ]
  },
  {
   "cell_type": "code",
   "execution_count": 50,
   "metadata": {},
   "outputs": [],
   "source": [
    "we_bun = tabla_bun[0].text # si funciona\n",
    "datos_pro_bun = we_bun.replace(\"\\n\", \" \")  # si funciona"
   ]
  },
  {
   "cell_type": "code",
   "execution_count": 51,
   "metadata": {
    "collapsed": true
   },
   "outputs": [
    {
     "data": {
      "text/plain": [
       "'  # Player  Country Team Goals (Penalty)   1. Robert Lewandowski    Poland   Bayern München  25 (3)   2. Timo Werner    Germany   RB Leipzig  21 (3)   3. Jadon Sancho    England   Borussia Dortmund  14 (0)   4. Robin Quaison    Sweden   1. FSV Mainz 05  12 (1)   5. Sebastian Andersson    Sweden   1. FC Union Berlin  11 (1)    Serge Gnabry    Germany   Bayern München  11 (0)    Rouwen Hennings    Germany   Fortuna Düsseldorf  11 (3)    Florian Niederlechner    Germany   FC Augsburg  11 (1)    Marco Reus    Germany   Borussia Dortmund  11 (1)    Wout Weghorst    Netherlands   VfL Wolfsburg  11 (3)   11. Jhon Córdoba    Colombia   1. FC Köln  10 (0)   12. Erling Håland    Norway   Borussia Dortmund  9 (0)    Kevin Volland    Germany   Bayer Leverkusen  9 (0)   14.  Coutinho    Brazil   Bayern München  8 (1)    Nils Petersen    Germany   SC Freiburg  8 (1)    Alassane Pléa    France   Bor. Mönchengladbach  8 (0)    Marcel Sabitzer    Austria   RB Leipzig  8 (0)   18. Marius Bülter    Germany   1. FC Union Berlin  7 (0)    Breel Embolo    Switzerland   Bor. Mönchengladbach  7 (0)     Gonçalo Paciência    Portugal   Eintracht Frankfurt  7 (1)    Andrej Kramarić    Croatia   1899 Hoffenheim  7 (1)    Philipp Max    Germany   FC Augsburg  7 (1)    Milot Rashica    Kosovo   Werder Bremen  7 (2)    Patrik Schick    Czech Republic   RB Leipzig  7 (0)    Suat Serdar    Germany   FC Schalke 04  7 (0)   26. Lucas Alario    Argentina   Bayer Leverkusen  6 (1)    Amine Harit    Morocco   FC Schalke 04  6 (1)    Kai Havertz    Germany   Bayer Leverkusen  6 (0)    Martin Hinteregger    Austria   Eintracht Frankfurt  6 (0)    Thomas Müller    Germany   Bayern München  6 (0)    Lars Stindl    Germany   Bor. Mönchengladbach  6 (1)    Marcus Thuram    France   Bor. Mönchengladbach  6 (0)   33. Sargis Adamyan    Armenia   1899 Hoffenheim  5 (0)    Leon Bailey    Jamaica   Bayer Leverkusen  5 (0)    Sebastiaan Bornauw    Belgium   1. FC Köln  5 (0)    Bas Dost    Netherlands   Eintracht Frankfurt  5 (0)    Emil Forsberg    Sweden   RB Leipzig  5 (2)    Thorgan Hazard    Belgium   Borussia Dortmund  5 (0)    Patrick Herrmann    Germany   Bor. Mönchengladbach  5 (0)    Dodi Lukebakio    Belgium   Hertha BSC  5 (0)    Streli Mamba    Germany   SC Paderborn 07  5 (0)     Paco Alcácer    Spain   Borussia Dortmund  5 (0)     Raphaël Guerreiro    Portugal   Borussia Dortmund  5 (0)    Erik Thommy    Germany   Fortuna Düsseldorf  5 (0)    Luca Waldschmidt    Germany   SC Freiburg  5 (3)   46.  André Silva    Portugal   Eintracht Frankfurt  4 (0)    Christoph Baumgartner    Austria   1899 Hoffenheim  4 (0)    Karim Bellarabi    Germany   Bayer Leverkusen  4 (0)    Ramy Bensebaini    Algeria   Bor. Mönchengladbach  4 (1)    Timothy Chandler    USA   Eintracht Frankfurt  4 (0)    Moussa Diaby    France   Bayer Leverkusen  4 (0)    Jonas Hector    Germany   1. FC Köln  4 (0)    Lucas Höler    Germany   SC Freiburg  4 (0)    Marcus Ingvartsen    Denmark   1. FC Union Berlin  4 (1)    Kenan Karaman    Turkey   Fortuna Düsseldorf  4 (0)    Davy Klaassen    Netherlands   Werder Bremen  4 (1)    Filip Kostić    Serbia   Eintracht Frankfurt  4 (0)    Jürgen Locadia    Netherlands   1899 Hoffenheim  4 (1)    Christopher Nkunku    France   RB Leipzig  4 (0)    Karim Onisiwo    Austria   1. FSV Mainz 05  4 (0)    Yuya Osako    Japan   Werder Bremen  4 (0)    Levin Öztunali    Germany   1. FSV Mainz 05  4 (0)    Ivan Perišić    Croatia   Bayern München  4 (0)    Benito Raman    Belgium   FC Schalke 04  4 (0)    Marco Richter    Germany   FC Augsburg  4 (0)    Jonathan Schmid    France   SC Freiburg  4 (0)    Dennis Srbeny    Germany   SC Paderborn 07  4 (0)    Renato Steffen    Switzerland   VfL Wolfsburg  4 (0)    Mark Uth    Germany   1. FC Köln  FC Schalke 04  4 (0)    Ruben Vargas    Switzerland   FC Augsburg  4 (0)    Axel Witsel    Belgium   Borussia Dortmund  4 (0)   72. Maximilian Arnold    Germany   VfL Wolfsburg  3 (0)    Ihlas Bebou    Togo   1899 Hoffenheim  3 (0)    Jean-Paul Boëtius    Netherlands   1. FSV Mainz 05  3 (0)    Dedryck Boyata    Belgium   Hertha BSC  3 (0)    Julian Brandt    Germany   Borussia Dortmund  3 (0)    Josip Brekalo    Croatia   VfL Wolfsburg  3 (0)    Vladimír Darida    Czech Republic   Hertha BSC  3 (0)    Javairô Dilrosun    Netherlands   Hertha BSC  3 (0)    Alfreð Finnbogason    Iceland   FC Augsburg  3 (1)    Leon Goretzka    Germany   Bayern München  3 (0)    Mario Götze    Germany   Borussia Dortmund  3 (1)    Marko Grujić    Serbia   Hertha BSC  3 (0)    Achraf Hakimi    Morocco   Borussia Dortmund  3 (0)    Marcel Halstenberg    Germany   RB Leipzig  3 (0)    Vedad Ibišević    Bosnia-Herzegovina   Hertha BSC  3 (0)    Ozan Kabak    Turkey   FC Schalke 04  3 (0)    Ahmed Kutucu    Turkey   FC Schalke 04  3 (0)    Sven Michel    Germany   SC Paderborn 07  3 (0)    Nordi Mukiele    France   RB Leipzig  3 (0)    Florian Neuhaus    Germany   Bor. Mönchengladbach  3 (0)     Paulinho    Brazil   Bayer Leverkusen  3 (0)    Benjamin Pavard    France   Bayern München  3 (0)    Yussuf Poulsen    Denmark   RB Leipzig  3 (0)    Abdelhamid Sabiri    Germany   SC Paderborn 07  3 (1)    Josh Sargent    USA   Werder Bremen  3 (0)    Robert Skov    Denmark   1899 Hoffenheim  3 (0)    Simon Terodde    Germany   1. FC Köln  3 (0)     Thiago    Spain   Bayern München  3 (0)    Joshua Zirkzee    Netherlands   Bayern München  3 (0)    Ben Zolinski    Germany   SC Paderborn 07  3 (0)   102. Kaan Ayhan    Turkey   Fortuna Düsseldorf  2 (0)    Lars Bender    Germany   Bayer Leverkusen  2 (0)    Ermin Bičakčić    Bosnia-Herzegovina   1899 Hoffenheim  2 (0)    Leonardo Bittencourt    Germany   1899 Hoffenheim  Werder Bremen  2 (0)    Daniel Brosinski    Germany   1. FSV Mainz 05  2 (1)     Cauly    Brazil   SC Paderborn 07  2 (0)    Kingsley Coman    France   Bayern München  2 (0)    Dominick Drexler    Germany   1. FC Köln  2 (0)    Niclas Füllkrug    Germany   Werder Bremen  2 (0)    Yannick Gerhardt    Germany   VfL Wolfsburg  2 (0)    Daniel Ginczek    Germany   VfL Wolfsburg  2 (0)    Klaus Gjasula    Germany   SC Paderborn 07  2 (0)    Vincenzo Grifo    Italy   1899 Hoffenheim  SC Freiburg  2 (1)    Christian Günter    Germany   SC Freiburg  2 (0)    Janik Haberer    Germany   SC Freiburg  2 (0)    Jonas Hofmann    Germany   Bor. Mönchengladbach  2 (0)    Ismail Jakobs    Germany   1. FC Köln  2 (0)    Pavel Kadeřábek    Czech Republic   1899 Hoffenheim  2 (0)    Florian Kainz    Austria   1. FC Köln  2 (0)    Lukas Klostermann    Germany   RB Leipzig  2 (0)    Chang-hoon Kwon    South Korea   SC Freiburg  2 (0)    Konrad Laimer    Austria   RB Leipzig  2 (0)    Pierre Malong    Cameroon   1. FSV Mainz 05  2 (0)    Jean-Philippe Mateta    France   1. FSV Mainz 05  2 (0)     Matheus Cunha    Brazil   Hertha BSC  RB Leipzig  2 (0)    Admir Mehmedi    Switzerland   VfL Wolfsburg  2 (0)    Sebastian Polter    Germany   1. FC Union Berlin  2 (2)    Kai Pröger    Germany   SC Paderborn 07  2 (0)    Sebastian Rode    Germany   Eintracht Frankfurt  2 (0)    Salif Sané    Senegal   FC Schalke 04  2 (0)    Sebastian Schonlau    Germany   SC Paderborn 07  2 (0)    Jerry St. Juste    Netherlands   1. FSV Mainz 05  2 (0)    Anthony Ujah    Nigeria   1. FC Union Berlin  2 (0)    Oscar Wendt    Sweden   Bor. Mönchengladbach  2 (0)    Denis Zakaria    Switzerland   Bor. Mönchengladbach  2 (0)   137. David Abraham    Argentina   Eintracht Frankfurt  1 (0)    Kasim Adams    Ghana   Fortuna Düsseldorf  1 (0)    David Alaba    Austria   Bayern München  1 (0)    Nadiem Amiri    Germany   Bayer Leverkusen  1 (0)    Christopher Antwi-Adjei    Ghana   SC Paderborn 07  1 (0)    Charles Aránguiz    Chile   Bayer Leverkusen  1 (0)    Daniel Baier    Germany   FC Augsburg  1 (0)    Julian Baumgartlinger    Austria   Bayer Leverkusen  1 (0)    Daniel Caligiuri    Germany   FC Schalke 04  1 (0)    Emre Can    Germany   Borussia Dortmund  1 (0)    Jamilu Collins    Nigeria   SC Paderborn 07  1 (0)    Sergio Córdova    Venezuela   FC Augsburg  1 (0)    Rafael Czichos    Germany   1. FC Köln  1 (0)    Danny da Costa    Germany   Eintracht Frankfurt  1 (0)    Alphonso Davies    Canada   Bayern München  1 (0)    Johannes Eggestein    Germany   Werder Bremen  1 (0)    Kingsley Ehizibue    Nigeria   1. FC Köln  1 (0)    Nico Elvedi    Switzerland   Bor. Mönchengladbach  1 (0)    Marco Friedl    Austria   Werder Bremen  1 (0)    Marvin Friedrich    Germany   1. FC Union Berlin  1 (0)    Theodor Gebre Selassie    Czech Republic   Werder Bremen  1 (0)    Christian Gentner    Germany   1. FC Union Berlin  1 (0)    Niko Gießelmann    Germany   Fortuna Düsseldorf  1 (0)    Matthias Ginter    Germany   Bor. Mönchengladbach  1 (0)    Michael Gregoritsch    Austria   FC Augsburg  FC Schalke 04  1 (0)    André Hahn    Germany   FC Augsburg  1 (0)    André Hoffmann    Germany   Fortuna Düsseldorf  1 (0)    Nicolas Höfler    Germany   SC Freiburg  1 (0)    Gerrit Holtmann    Germany   SC Paderborn 07  1 (0)    Benjamin Hübner    Germany   1899 Hoffenheim  1 (0)    Mats Hummels    Germany   Borussia Dortmund  1 (0)     Iago    Brazil   FC Augsburg  1 (0)    Tin Jedvaj    Croatia   Bayer Leverkusen  FC Augsburg  1 (0)    Fredrik Jensen    Finland   FC Augsburg  1 (0)     João Victor    Brazil   VfL Wolfsburg  1 (0)     Jorge Meré    Spain   1. FC Köln  1 (0)     José Angeliño    Spain   RB Leipzig  1 (0)    Salomon Kalou    Ivory Coast   Hertha BSC  1 (0)    Kevin Kampl    Slovenia   RB Leipzig  1 (0)    Jonjoe Kenny    England   FC Schalke 04  1 (0)    Joshua Kimmich    Germany   Bayern München  1 (0)    Robin Knoche    Germany   VfL Wolfsburg  1 (0)    Robin Koch    Germany   SC Freiburg  1 (0)    Stefan Lainer    Austria   Bor. Mönchengladbach  1 (0)    Eduard Löwen    Germany   FC Augsburg  Hertha BSC  1 (0)     Lucas Ribeiro    Brazil   1899 Hoffenheim  1 (0)    Rabbi Matondo    Wales   FC Schalke 04  1 (0)    Kevin Mbabu    Switzerland   VfL Wolfsburg  1 (0)    Weston McKennie    USA   FC Schalke 04  1 (0)    Maximilian Mittelstädt    Germany   Hertha BSC  1 (0)    Anthony Modeste    France   1. FC Köln  1 (0)    Alfredo Morales    USA   Fortuna Düsseldorf  1 (0)    Willi Orban    Hungary   RB Leipzig  1 (0)    Michael Parensen    Germany   1. FC Union Berlin  1 (0)    Krzysztof Piątek    Poland   Hertha BSC  1 (1)    Łukasz Piszczek    Poland   Borussia Dortmund  1 (0)    Karim Rekik    Netherlands   Hertha BSC  1 (0)    Jérôme Roussillon    France   VfL Wolfsburg  1 (0)    Sebastian Rudy    Germany   1899 Hoffenheim  1 (0)    Roland Sallai    Hungary   SC Freiburg  1 (0)    Marcelo Saracchi    Uruguay   RB Leipzig  1 (0)    Louis Schaub    Austria   1. FC Köln  1 (0)    Xaver Schlager    Austria   VfL Wolfsburg  1 (0)    Nico Schulz    Germany   Borussia Dortmund  1 (0)    Davie Selke    Germany   Hertha BSC  Werder Bremen  1 (0)    Ellyes Skhiri    Tunisia   1. FC Köln  1 (0)    Djibril Sow    Switzerland   Eintracht Frankfurt  1 (0)    Kostas Stafylidis    Greece   1899 Hoffenheim  1 (0)    Niklas Stark    Germany   Hertha BSC  1 (0)    Neven Subotić    Serbia   1. FC Union Berlin  1 (0)    Ádám Szalai    Hungary   1. FSV Mainz 05  1899 Hoffenheim  1 (0)    Marcel Tisserand    Congo DR   VfL Wolfsburg  1 (0)    Corentin Tolisso    France   Bayern München  1 (0)    Jordan Torunarigha    Germany   Hertha BSC  1 (0)    Almamy Touré    France   Eintracht Frankfurt  1 (0)    Sebastian Vasiliadis    Greece   SC Paderborn 07  1 (0)    Julian Weigl    Germany   Borussia Dortmund  1 (0)     William    Brazil   VfL Wolfsburg  1 (0)    Marius Wolf    Germany   Borussia Dortmund  Hertha BSC  1 (0)    Dan-Axel Zagadou    France   Borussia Dortmund  1 (0)    Matthias Zimmermann    Germany   Fortuna Düsseldorf  1 (0)  '"
      ]
     },
     "execution_count": 51,
     "metadata": {},
     "output_type": "execute_result"
    }
   ],
   "source": [
    "datos_pro_bun"
   ]
  },
  {
   "cell_type": "code",
   "execution_count": null,
   "metadata": {},
   "outputs": [],
   "source": []
  }
 ],
 "metadata": {
  "kernelspec": {
   "display_name": "Python 3",
   "language": "python",
   "name": "python3"
  },
  "language_info": {
   "codemirror_mode": {
    "name": "ipython",
    "version": 3
   },
   "file_extension": ".py",
   "mimetype": "text/x-python",
   "name": "python",
   "nbconvert_exporter": "python",
   "pygments_lexer": "ipython3",
   "version": "3.7.4"
  }
 },
 "nbformat": 4,
 "nbformat_minor": 2
}
