{
 "cells": [
  {
   "cell_type": "markdown",
   "metadata": {},
   "source": [
    "# Statement del Proyecto\n",
    "## Objetivo del Proyecto.\n",
    "El objetivo del proyecto es conocer y determinar cuáles son las variables que afectan de manera directa el valor de mercado de un jugador de futbol, dejando a un lado todos los rumores (los rumores hacen referencia a que, normalmente un jugador que tenga una buena racha en la temporada, inmediatamente es ligado con algún equipo grande de Europa, por ejemplo: Real Madrid, Barcelona FC, Tottenham, Juventus, Bayern Múnich, etc.)  que se pueden generar alrededor del mismo jugador y que pueden afectar su precio. Buscamos encontrar un modelo que elimine este tipo de cosas, y que se aproxime al verdadero valor de un jugador.\n",
    "## Motivación del Proyecto.\n",
    "La principal motivación del proyecto, es que el Data Science cada vez está más presente en todo lo que hacemos en nuestra vida diaria, desde prender Waze, hasta que recomendación nos ofrece Amazon o Spotify. Lo que nosotros buscamos con este modelo es hacer un acercamiento hacia el Data Science aplicado a los deportes,que es algo que a los miembros del equipo nos encanta.En este caso vamos a aplicar un modelo probit para determinar las variables que realmente influyen en el aumento del valor de un jugador, con datos verdaderos y actuales, y con ello conocer la verdadera aplicación de la teoría econométrica.\n"
   ]
  },
  {
   "cell_type": "markdown",
   "metadata": {},
   "source": [
    "## Especificación y Justificación del modelo."
   ]
  },
  {
   "cell_type": "code",
   "execution_count": 1,
   "metadata": {},
   "outputs": [],
   "source": [
    "from IPython.display import display,Math,Latex"
   ]
  },
  {
   "cell_type": "code",
   "execution_count": 2,
   "metadata": {},
   "outputs": [
    {
     "data": {
      "text/latex": [
       "$\\displaystyle Y_i=G(\\alpha+ \\ B_1*Goles \\ Anotados + \\ B_2*Europeo+ \\ B_3*Edad+\\ B_4 *Participacion \\ UCL \\ o \\ UEL + u_i)$"
      ],
      "text/plain": [
       "<IPython.core.display.Math object>"
      ]
     },
     "metadata": {},
     "output_type": "display_data"
    }
   ],
   "source": [
    "display(Math(r'Y_i=G(\\alpha+ \\ B_1*Goles \\ Anotados + \\ B_2*Europeo+ \\ B_3*Edad+\\ B_4 *Participacion \\ UCL \\ o \\ UEL + u_i)'))"
   ]
  },
  {
   "cell_type": "markdown",
   "metadata": {},
   "source": [
    "* **Y** -> Aumento de valor de la temporada 19-20, respecto al valor en la 18-19, 1 si aumentó, 0 en caso contrario\n",
    "* **Goles Anotados** -> El papel de un delantero,básicamente, es meter goles,por lo cual,a priori consideramos que es la variable que más va a influir en si aumenta o no el valor del jugador.\n",
    "* **Europeo** -> En las 5 grandes ligas de Europa, el pasaporte comunitario es una ventaja para el jugador, ya que los equipos tienen un máximo de extranjeros que pueden registrar en su plantilla, por lo cual es una ventaja para los europeos y medir cuanto influye en el aumento o no del precio del jugador.\n",
    "* **Edad** -> Los jugadores tienen una curva de rendimiento, que va en función de su edad, por lo que un jugador más jóven va a tener más años de rendimiento top por delante, que un veterano. También es común que entre mayor sea el jugador, el desgaste de tantos años de carrera genera lesiones de manera más común en el jugador. Por lo cual es de las cosas más importantes para que el valor del jugador aumente o no.\n",
    "* **Partcipación en UCL o UEL** -> Esta variable es interesante, ya que lo que pretendemos medir aquí es cuanto influye el desempeño del equipo en el valor individual del jugador, es decir, en la UEFA Champions League y en la Europa League participan los equipos que terminaron en los puestos altos de la liga de su país,lo que nos indica que una participación en cualquiera de estas competiciones nos puede dar una variable que mida el éxito de su equipo y su efecto en el aumento del jugador."
   ]
  },
  {
   "cell_type": "markdown",
   "metadata": {},
   "source": [
    "## Descripción de Base de Datos.\n",
    "### Los datos los vamos a obtener via Web Scraping del siguiente url: https://www.transfermarkt.es/\n",
    "### N= 500 jugadores\n",
    "    * España, La Liga  = 100\n",
    "    * Inglaterra, Premier League = 100\n",
    "    * Francia, Ligue 1 = 100\n",
    "    * Italia, Serie A = 100\n",
    "    * Portugal, League Nos = 100\n",
    "### Variables\n",
    "    Todas las variables se encuentran en la página de Transfermarkt"
   ]
  },
  {
   "cell_type": "markdown",
   "metadata": {},
   "source": [
    "## Bibliografía de apoyo."
   ]
  },
  {
   "cell_type": "markdown",
   "metadata": {},
   "source": [
    "**PlayeRank: data-driven performance evaluation and playerranking in soccer via a machine learning approach** https://arxiv.org/pdf/1802.04987.pdf\n",
    "\n",
    "**Valuations of Soccer Players from Statistical Performance Data** https://www.academia.edu/31225375/Valuations_of_Soccer_Players_from_Statistical_Performance_Data\n",
    "\n",
    "**Wooldrige,Introductory Econometrics a Modern Approach,5th Edition, CENGAGE Learning**\n",
    "\n",
    "**Web Scraping Transfermarkt** https://github.com/vnherdeiro/transfermarkt-scraping\n",
    "\n",
    "**Como establece los valores Transfermarkt** https://www.marca.com/futbol/2019/08/04/5d44784246163f64048b458f.html\n",
    "\n",
    "**Formúlas usadas para valor del futbolista** https://deportesinc.com/featured/valor-los-futbolistas/\n",
    "\n",
    "**Como el valor de un jugador aumenta por el factor mediático** https://www.bbc.com/mundo/noticias/2014/07/140718_deportes_valoracion_cristiano_amv"
   ]
  },
  {
   "cell_type": "code",
   "execution_count": null,
   "metadata": {},
   "outputs": [],
   "source": []
  }
 ],
 "metadata": {
  "kernelspec": {
   "display_name": "Python 3",
   "language": "python",
   "name": "python3"
  },
  "language_info": {
   "codemirror_mode": {
    "name": "ipython",
    "version": 3
   },
   "file_extension": ".py",
   "mimetype": "text/x-python",
   "name": "python",
   "nbconvert_exporter": "python",
   "pygments_lexer": "ipython3",
   "version": "3.7.4"
  }
 },
 "nbformat": 4,
 "nbformat_minor": 2
}
